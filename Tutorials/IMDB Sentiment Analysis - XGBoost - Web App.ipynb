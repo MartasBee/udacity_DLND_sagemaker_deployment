{
 "cells": [
  {
   "cell_type": "markdown",
   "metadata": {},
   "source": [
    "# Sentiment Analysis Web App\n",
    "\n",
    "_Deep Learning Nanodegree Program | Deployment_\n",
    "\n",
    "---\n",
    "\n",
    "In this notebook we will use Amazon's SageMaker service to construct a random tree model to predict the sentiment of a movie review. In addition, we will deploy this model to an endpoint and construct a very simple web app which will interact with our model's deployed endpoint.\n",
    "\n",
    "## General Outline\n",
    "\n",
    "Typically, when using a notebook instance with SageMaker, you will proceed through the following steps. Of course, not every step will need to be done with each project. Also, there is quite a lot of room for variation in many of the steps, as you will see throughout these lessons.\n",
    "\n",
    "1. Download or otherwise retrieve the data.\n",
    "2. Process / Prepare the data.\n",
    "3. Upload the processed data to S3.\n",
    "4. Train a chosen model.\n",
    "5. Test the trained model (typically using a batch transform job).\n",
    "6. Deploy the trained model.\n",
    "7. Use the deployed model.\n",
    "\n",
    "In this notebook we will progress through each of the steps above. We will also see that the final step, using the deployed model, can be quite challenging."
   ]
  },
  {
   "cell_type": "code",
   "execution_count": 1,
   "metadata": {},
   "outputs": [
    {
     "name": "stdout",
     "output_type": "stream",
     "text": [
      "Looking in indexes: https://pypi.org/simple, https://pip.repos.neuron.amazonaws.com\n",
      "Collecting sagemaker==1.72.0\n",
      "  Downloading sagemaker-1.72.0.tar.gz (297 kB)\n",
      "\u001b[K     |████████████████████████████████| 297 kB 25.7 MB/s eta 0:00:01\n",
      "\u001b[?25hRequirement already satisfied: boto3>=1.14.12 in /home/ec2-user/anaconda3/envs/python3/lib/python3.6/site-packages (from sagemaker==1.72.0) (1.18.41)\n",
      "Requirement already satisfied: numpy>=1.9.0 in /home/ec2-user/anaconda3/envs/python3/lib/python3.6/site-packages (from sagemaker==1.72.0) (1.19.5)\n",
      "Requirement already satisfied: protobuf>=3.1 in /home/ec2-user/anaconda3/envs/python3/lib/python3.6/site-packages (from sagemaker==1.72.0) (3.15.2)\n",
      "Requirement already satisfied: scipy>=0.19.0 in /home/ec2-user/anaconda3/envs/python3/lib/python3.6/site-packages (from sagemaker==1.72.0) (1.5.3)\n",
      "Requirement already satisfied: protobuf3-to-dict>=0.1.5 in /home/ec2-user/anaconda3/envs/python3/lib/python3.6/site-packages (from sagemaker==1.72.0) (0.1.5)\n",
      "Collecting smdebug-rulesconfig==0.1.4\n",
      "  Downloading smdebug_rulesconfig-0.1.4-py2.py3-none-any.whl (10 kB)\n",
      "Requirement already satisfied: importlib-metadata>=1.4.0 in /home/ec2-user/anaconda3/envs/python3/lib/python3.6/site-packages (from sagemaker==1.72.0) (3.7.0)\n",
      "Requirement already satisfied: packaging>=20.0 in /home/ec2-user/anaconda3/envs/python3/lib/python3.6/site-packages (from sagemaker==1.72.0) (20.9)\n",
      "Requirement already satisfied: s3transfer<0.6.0,>=0.5.0 in /home/ec2-user/anaconda3/envs/python3/lib/python3.6/site-packages (from boto3>=1.14.12->sagemaker==1.72.0) (0.5.0)\n",
      "Requirement already satisfied: jmespath<1.0.0,>=0.7.1 in /home/ec2-user/anaconda3/envs/python3/lib/python3.6/site-packages (from boto3>=1.14.12->sagemaker==1.72.0) (0.10.0)\n",
      "Requirement already satisfied: botocore<1.22.0,>=1.21.41 in /home/ec2-user/anaconda3/envs/python3/lib/python3.6/site-packages (from boto3>=1.14.12->sagemaker==1.72.0) (1.21.41)\n",
      "Requirement already satisfied: python-dateutil<3.0.0,>=2.1 in /home/ec2-user/anaconda3/envs/python3/lib/python3.6/site-packages (from botocore<1.22.0,>=1.21.41->boto3>=1.14.12->sagemaker==1.72.0) (2.8.1)\n",
      "Requirement already satisfied: urllib3<1.27,>=1.25.4 in /home/ec2-user/anaconda3/envs/python3/lib/python3.6/site-packages (from botocore<1.22.0,>=1.21.41->boto3>=1.14.12->sagemaker==1.72.0) (1.26.6)\n",
      "Requirement already satisfied: typing-extensions>=3.6.4 in /home/ec2-user/anaconda3/envs/python3/lib/python3.6/site-packages (from importlib-metadata>=1.4.0->sagemaker==1.72.0) (3.7.4.3)\n",
      "Requirement already satisfied: zipp>=0.5 in /home/ec2-user/anaconda3/envs/python3/lib/python3.6/site-packages (from importlib-metadata>=1.4.0->sagemaker==1.72.0) (3.4.0)\n",
      "Requirement already satisfied: pyparsing>=2.0.2 in /home/ec2-user/anaconda3/envs/python3/lib/python3.6/site-packages (from packaging>=20.0->sagemaker==1.72.0) (2.4.7)\n",
      "Requirement already satisfied: six>=1.9 in /home/ec2-user/anaconda3/envs/python3/lib/python3.6/site-packages (from protobuf>=3.1->sagemaker==1.72.0) (1.15.0)\n",
      "Building wheels for collected packages: sagemaker\n",
      "  Building wheel for sagemaker (setup.py) ... \u001b[?25ldone\n",
      "\u001b[?25h  Created wheel for sagemaker: filename=sagemaker-1.72.0-py2.py3-none-any.whl size=386358 sha256=e41c55f36dd97b1fce428492b773d732f5849ab92b928e3abb6fa6e8debba38a\n",
      "  Stored in directory: /home/ec2-user/.cache/pip/wheels/c3/58/70/85faf4437568bfaa4c419937569ba1fe54d44c5db42406bbd7\n",
      "Successfully built sagemaker\n",
      "Installing collected packages: smdebug-rulesconfig, sagemaker\n",
      "  Attempting uninstall: smdebug-rulesconfig\n",
      "    Found existing installation: smdebug-rulesconfig 1.0.1\n",
      "    Uninstalling smdebug-rulesconfig-1.0.1:\n",
      "      Successfully uninstalled smdebug-rulesconfig-1.0.1\n",
      "  Attempting uninstall: sagemaker\n",
      "    Found existing installation: sagemaker 2.59.1.post0\n",
      "    Uninstalling sagemaker-2.59.1.post0:\n",
      "      Successfully uninstalled sagemaker-2.59.1.post0\n",
      "Successfully installed sagemaker-1.72.0 smdebug-rulesconfig-0.1.4\n",
      "\u001b[33mWARNING: You are using pip version 21.2.4; however, version 21.3 is available.\n",
      "You should consider upgrading via the '/home/ec2-user/anaconda3/envs/python3/bin/python -m pip install --upgrade pip' command.\u001b[0m\n"
     ]
    }
   ],
   "source": [
    "# Make sure that we use SageMaker 1.x\n",
    "!pip install sagemaker==1.72.0"
   ]
  },
  {
   "cell_type": "markdown",
   "metadata": {},
   "source": [
    "## Step 1: Downloading the data\n",
    "\n",
    "The dataset we are going to use is very popular among researchers in Natural Language Processing, usually referred to as the [IMDb dataset](http://ai.stanford.edu/~amaas/data/sentiment/). It consists of movie reviews from the website [imdb.com](http://www.imdb.com/), each labeled as either '**pos**itive', if the reviewer enjoyed the film, or '**neg**ative' otherwise.\n",
    "\n",
    "> Maas, Andrew L., et al. [Learning Word Vectors for Sentiment Analysis](http://ai.stanford.edu/~amaas/data/sentiment/). In _Proceedings of the 49th Annual Meeting of the Association for Computational Linguistics: Human Language Technologies_. Association for Computational Linguistics, 2011.\n",
    "\n",
    "We begin by using some Jupyter Notebook magic to download and extract the dataset."
   ]
  },
  {
   "cell_type": "code",
   "execution_count": 2,
   "metadata": {},
   "outputs": [
    {
     "name": "stdout",
     "output_type": "stream",
     "text": [
      "mkdir: cannot create directory ‘../data’: File exists\n",
      "--2021-10-13 12:57:16--  http://ai.stanford.edu/~amaas/data/sentiment/aclImdb_v1.tar.gz\n",
      "Resolving ai.stanford.edu (ai.stanford.edu)... 171.64.68.10\n",
      "Connecting to ai.stanford.edu (ai.stanford.edu)|171.64.68.10|:80... connected.\n",
      "HTTP request sent, awaiting response... 200 OK\n",
      "Length: 84125825 (80M) [application/x-gzip]\n",
      "Saving to: ‘../data/aclImdb_v1.tar.gz’\n",
      "\n",
      "100%[======================================>] 84,125,825  9.50MB/s   in 11s    \n",
      "\n",
      "2021-10-13 12:57:27 (7.54 MB/s) - ‘../data/aclImdb_v1.tar.gz’ saved [84125825/84125825]\n",
      "\n"
     ]
    }
   ],
   "source": [
    "%mkdir ../data\n",
    "!wget -O ../data/aclImdb_v1.tar.gz http://ai.stanford.edu/~amaas/data/sentiment/aclImdb_v1.tar.gz\n",
    "!tar -zxf ../data/aclImdb_v1.tar.gz -C ../data"
   ]
  },
  {
   "cell_type": "markdown",
   "metadata": {},
   "source": [
    "## Step 2: Preparing and Processing the data\n",
    "\n",
    "The data we have downloaded is split into various files, each of which contains a single review. It will be much easier going forward if we combine these individual files into two large files, one for training and one for testing."
   ]
  },
  {
   "cell_type": "code",
   "execution_count": 3,
   "metadata": {},
   "outputs": [],
   "source": [
    "import os\n",
    "import glob\n",
    "\n",
    "def read_imdb_data(data_dir='../data/aclImdb'):\n",
    "    data = {}\n",
    "    labels = {}\n",
    "    \n",
    "    for data_type in ['train', 'test']:\n",
    "        data[data_type] = {}\n",
    "        labels[data_type] = {}\n",
    "        \n",
    "        for sentiment in ['pos', 'neg']:\n",
    "            data[data_type][sentiment] = []\n",
    "            labels[data_type][sentiment] = []\n",
    "            \n",
    "            path = os.path.join(data_dir, data_type, sentiment, '*.txt')\n",
    "            files = glob.glob(path)\n",
    "            \n",
    "            for f in files:\n",
    "                with open(f) as review:\n",
    "                    data[data_type][sentiment].append(review.read())\n",
    "                    # Here we represent a positive review by '1' and a negative review by '0'\n",
    "                    labels[data_type][sentiment].append(1 if sentiment == 'pos' else 0)\n",
    "                    \n",
    "            assert len(data[data_type][sentiment]) == len(labels[data_type][sentiment]), \\\n",
    "                    \"{}/{} data size does not match labels size\".format(data_type, sentiment)\n",
    "                \n",
    "    return data, labels"
   ]
  },
  {
   "cell_type": "code",
   "execution_count": 4,
   "metadata": {},
   "outputs": [
    {
     "name": "stdout",
     "output_type": "stream",
     "text": [
      "IMDB reviews: train = 12500 pos / 12500 neg, test = 12500 pos / 12500 neg\n"
     ]
    }
   ],
   "source": [
    "data, labels = read_imdb_data()\n",
    "print(\"IMDB reviews: train = {} pos / {} neg, test = {} pos / {} neg\".format(\n",
    "            len(data['train']['pos']), len(data['train']['neg']),\n",
    "            len(data['test']['pos']), len(data['test']['neg'])))"
   ]
  },
  {
   "cell_type": "code",
   "execution_count": 5,
   "metadata": {},
   "outputs": [],
   "source": [
    "from sklearn.utils import shuffle\n",
    "\n",
    "def prepare_imdb_data(data, labels):\n",
    "    \"\"\"Prepare training and test sets from IMDb movie reviews.\"\"\"\n",
    "    \n",
    "    #Combine positive and negative reviews and labels\n",
    "    data_train = data['train']['pos'] + data['train']['neg']\n",
    "    data_test = data['test']['pos'] + data['test']['neg']\n",
    "    labels_train = labels['train']['pos'] + labels['train']['neg']\n",
    "    labels_test = labels['test']['pos'] + labels['test']['neg']\n",
    "    \n",
    "    #Shuffle reviews and corresponding labels within training and test sets\n",
    "    data_train, labels_train = shuffle(data_train, labels_train)\n",
    "    data_test, labels_test = shuffle(data_test, labels_test)\n",
    "    \n",
    "    # Return a unified training data, test data, training labels, test labets\n",
    "    return data_train, data_test, labels_train, labels_test"
   ]
  },
  {
   "cell_type": "code",
   "execution_count": 6,
   "metadata": {},
   "outputs": [
    {
     "name": "stdout",
     "output_type": "stream",
     "text": [
      "IMDb reviews (combined): train = 25000, test = 25000\n"
     ]
    }
   ],
   "source": [
    "train_X, test_X, train_y, test_y = prepare_imdb_data(data, labels)\n",
    "print(\"IMDb reviews (combined): train = {}, test = {}\".format(len(train_X), len(test_X)))"
   ]
  },
  {
   "cell_type": "code",
   "execution_count": 7,
   "metadata": {},
   "outputs": [
    {
     "data": {
      "text/plain": [
       "'Michael Bowen plays an innocentish young man who hitchhikes a thousand miles to visit his absentee millionaire father (the creepy Ray Wise) at a sprawling, windmill-powered ranch and ends up tangled in the dangerous web of his young, scheming and seductive stepmother from hell (the yummy Clare Wren), thus causing trouble for the already dysfunctional family. An edgy, stylish and exciting drama that received no promotion and was sent straight to VHS and cable TV--where I first saw it. It is beautifully written, smartly acted, and tightly directed from a script that keeps you biting your nails. I cannot believe the reviewers who disliked it ever actually saw it. It is an undiscovered classic.'"
      ]
     },
     "execution_count": 7,
     "metadata": {},
     "output_type": "execute_result"
    }
   ],
   "source": [
    "train_X[100]"
   ]
  },
  {
   "cell_type": "markdown",
   "metadata": {},
   "source": [
    "## Processing the data\n",
    "\n",
    "Now that we have our training and testing datasets merged and ready to use, we need to start processing the raw data into something that will be useable by our machine learning algorithm. To begin with, we remove any html formatting and any non-alpha numeric characters that may appear in the reviews. We will do this in a very simplistic way using Python's regular expression module. We will discuss the reason for this rather simplistic pre-processing later on."
   ]
  },
  {
   "cell_type": "code",
   "execution_count": 8,
   "metadata": {},
   "outputs": [],
   "source": [
    "import re\n",
    "\n",
    "REPLACE_NO_SPACE = re.compile(\"(\\.)|(\\;)|(\\:)|(\\!)|(\\')|(\\?)|(\\,)|(\\\")|(\\()|(\\))|(\\[)|(\\])\")\n",
    "REPLACE_WITH_SPACE = re.compile(\"(<br\\s*/><br\\s*/>)|(\\-)|(\\/)\")\n",
    "\n",
    "def review_to_words(review):\n",
    "    words = REPLACE_NO_SPACE.sub(\"\", review.lower())\n",
    "    words = REPLACE_WITH_SPACE.sub(\" \", words)\n",
    "    return words"
   ]
  },
  {
   "cell_type": "code",
   "execution_count": 9,
   "metadata": {},
   "outputs": [
    {
     "data": {
      "text/plain": [
       "'michael bowen plays an innocentish young man who hitchhikes a thousand miles to visit his absentee millionaire father the creepy ray wise at a sprawling windmill powered ranch and ends up tangled in the dangerous web of his young scheming and seductive stepmother from hell the yummy clare wren thus causing trouble for the already dysfunctional family an edgy stylish and exciting drama that received no promotion and was sent straight to vhs and cable tv  where i first saw it it is beautifully written smartly acted and tightly directed from a script that keeps you biting your nails i cannot believe the reviewers who disliked it ever actually saw it it is an undiscovered classic'"
      ]
     },
     "execution_count": 9,
     "metadata": {},
     "output_type": "execute_result"
    }
   ],
   "source": [
    "review_to_words(train_X[100])"
   ]
  },
  {
   "cell_type": "code",
   "execution_count": 10,
   "metadata": {},
   "outputs": [],
   "source": [
    "import pickle\n",
    "\n",
    "cache_dir = os.path.join(\"../cache\", \"sentiment_web_app\")  # where to store cache files\n",
    "os.makedirs(cache_dir, exist_ok=True)  # ensure cache directory exists\n",
    "\n",
    "def preprocess_data(data_train, data_test, labels_train, labels_test,\n",
    "                    cache_dir=cache_dir, cache_file=\"preprocessed_data.pkl\"):\n",
    "    \"\"\"Convert each review to words; read from cache if available.\"\"\"\n",
    "\n",
    "    # If cache_file is not None, try to read from it first\n",
    "    cache_data = None\n",
    "    if cache_file is not None:\n",
    "        try:\n",
    "            with open(os.path.join(cache_dir, cache_file), \"rb\") as f:\n",
    "                cache_data = pickle.load(f)\n",
    "            print(\"Read preprocessed data from cache file:\", cache_file)\n",
    "        except:\n",
    "            pass  # unable to read from cache, but that's okay\n",
    "    \n",
    "    # If cache is missing, then do the heavy lifting\n",
    "    if cache_data is None:\n",
    "        # Preprocess training and test data to obtain words for each review\n",
    "        #words_train = list(map(review_to_words, data_train))\n",
    "        #words_test = list(map(review_to_words, data_test))\n",
    "        words_train = [review_to_words(review) for review in data_train]\n",
    "        words_test = [review_to_words(review) for review in data_test]\n",
    "        \n",
    "        # Write to cache file for future runs\n",
    "        if cache_file is not None:\n",
    "            cache_data = dict(words_train=words_train, words_test=words_test,\n",
    "                              labels_train=labels_train, labels_test=labels_test)\n",
    "            with open(os.path.join(cache_dir, cache_file), \"wb\") as f:\n",
    "                pickle.dump(cache_data, f)\n",
    "            print(\"Wrote preprocessed data to cache file:\", cache_file)\n",
    "    else:\n",
    "        # Unpack data loaded from cache file\n",
    "        words_train, words_test, labels_train, labels_test = (cache_data['words_train'],\n",
    "                cache_data['words_test'], cache_data['labels_train'], cache_data['labels_test'])\n",
    "    \n",
    "    return words_train, words_test, labels_train, labels_test"
   ]
  },
  {
   "cell_type": "code",
   "execution_count": 11,
   "metadata": {},
   "outputs": [
    {
     "name": "stdout",
     "output_type": "stream",
     "text": [
      "Read preprocessed data from cache file: preprocessed_data.pkl\n"
     ]
    }
   ],
   "source": [
    "# Preprocess data\n",
    "train_X, test_X, train_y, test_y = preprocess_data(train_X, test_X, train_y, test_y)"
   ]
  },
  {
   "cell_type": "markdown",
   "metadata": {},
   "source": [
    "### Extract Bag-of-Words features\n",
    "\n",
    "For the model we will be implementing, rather than using the reviews directly, we are going to transform each review into a Bag-of-Words feature representation. Keep in mind that 'in the wild' we will only have access to the training set so our transformer can only use the training set to construct a representation."
   ]
  },
  {
   "cell_type": "code",
   "execution_count": 12,
   "metadata": {},
   "outputs": [],
   "source": [
    "import numpy as np\n",
    "from sklearn.feature_extraction.text import CountVectorizer\n",
    "\n",
    "# sklearn.externals.joblib is deprecated in 0.21 and will be removed in 0.23. \n",
    "# from sklearn.externals import joblib\n",
    "\n",
    "# Import joblib package directly\n",
    "import joblib\n",
    "# joblib is an enhanced version of pickle that is more efficient for storing NumPy arrays\n",
    "\n",
    "def extract_BoW_features(words_train, words_test, vocabulary_size=5000,\n",
    "                         cache_dir=cache_dir, cache_file=\"bow_features.pkl\"):\n",
    "    \"\"\"Extract Bag-of-Words for a given set of documents, already preprocessed into words.\"\"\"\n",
    "    \n",
    "    # If cache_file is not None, try to read from it first\n",
    "    cache_data = None\n",
    "    if cache_file is not None:\n",
    "        try:\n",
    "            with open(os.path.join(cache_dir, cache_file), \"rb\") as f:\n",
    "                cache_data = joblib.load(f)\n",
    "            print(\"Read features from cache file:\", cache_file)\n",
    "        except:\n",
    "            pass  # unable to read from cache, but that's okay\n",
    "    \n",
    "    # If cache is missing, then do the heavy lifting\n",
    "    if cache_data is None:\n",
    "        # Fit a vectorizer to training documents and use it to transform them\n",
    "        # NOTE: Training documents have already been preprocessed and tokenized into words;\n",
    "        #       pass in dummy functions to skip those steps, e.g. preprocessor=lambda x: x\n",
    "        vectorizer = CountVectorizer(max_features=vocabulary_size)\n",
    "        features_train = vectorizer.fit_transform(words_train).toarray()\n",
    "\n",
    "        # Apply the same vectorizer to transform the test documents (ignore unknown words)\n",
    "        features_test = vectorizer.transform(words_test).toarray()\n",
    "        \n",
    "        # NOTE: Remember to convert the features using .toarray() for a compact representation\n",
    "        \n",
    "        # Write to cache file for future runs (store vocabulary as well)\n",
    "        if cache_file is not None:\n",
    "            vocabulary = vectorizer.vocabulary_\n",
    "            cache_data = dict(features_train=features_train, features_test=features_test,\n",
    "                             vocabulary=vocabulary)\n",
    "            with open(os.path.join(cache_dir, cache_file), \"wb\") as f:\n",
    "                joblib.dump(cache_data, f)\n",
    "            print(\"Wrote features to cache file:\", cache_file)\n",
    "    else:\n",
    "        # Unpack data loaded from cache file\n",
    "        features_train, features_test, vocabulary = (cache_data['features_train'],\n",
    "                cache_data['features_test'], cache_data['vocabulary'])\n",
    "    \n",
    "    # Return both the extracted features as well as the vocabulary\n",
    "    return features_train, features_test, vocabulary"
   ]
  },
  {
   "cell_type": "code",
   "execution_count": 13,
   "metadata": {},
   "outputs": [
    {
     "name": "stdout",
     "output_type": "stream",
     "text": [
      "Read features from cache file: bow_features.pkl\n"
     ]
    }
   ],
   "source": [
    "# Extract Bag of Words features for both training and test datasets\n",
    "train_X, test_X, vocabulary = extract_BoW_features(train_X, test_X)"
   ]
  },
  {
   "cell_type": "code",
   "execution_count": 14,
   "metadata": {},
   "outputs": [
    {
     "data": {
      "text/plain": [
       "5000"
      ]
     },
     "execution_count": 14,
     "metadata": {},
     "output_type": "execute_result"
    }
   ],
   "source": [
    "len(train_X[100])"
   ]
  },
  {
   "cell_type": "markdown",
   "metadata": {},
   "source": [
    "## Step 3: Upload data to S3\n",
    "\n",
    "Now that we have created the feature representation of our training (and testing) data, it is time to start setting up and using the XGBoost classifier provided by SageMaker.\n",
    "\n",
    "### Writing the datasets\n",
    "\n",
    "The XGBoost classifier that we will be using requires the dataset to be written to a file and stored using Amazon S3. To do this, we will start by splitting the training dataset into two parts, the data we will train the model with and a validation set. Then, we will write those datasets to a file locally and then upload the files to S3. In addition, we will write the test set to a file and upload that file to S3. This is so that we can use SageMakers Batch Transform functionality to test our model once we've fit it."
   ]
  },
  {
   "cell_type": "code",
   "execution_count": 15,
   "metadata": {},
   "outputs": [],
   "source": [
    "import pandas as pd\n",
    "\n",
    "# Earlier we shuffled the training dataset so to make things simple we can just assign\n",
    "# the first 10 000 reviews to the validation set and use the remaining reviews for training.\n",
    "val_X = pd.DataFrame(train_X[:10000])\n",
    "train_X = pd.DataFrame(train_X[10000:])\n",
    "\n",
    "val_y = pd.DataFrame(train_y[:10000])\n",
    "train_y = pd.DataFrame(train_y[10000:])"
   ]
  },
  {
   "cell_type": "markdown",
   "metadata": {},
   "source": [
    "The documentation for the XGBoost algorithm in SageMaker requires that the training and validation datasets should contain no headers or index and that the label should occur first for each sample.\n",
    "\n",
    "For more information about this and other algorithms, the SageMaker developer documentation can be found on __[Amazon's website.](https://docs.aws.amazon.com/sagemaker/latest/dg/)__"
   ]
  },
  {
   "cell_type": "code",
   "execution_count": 16,
   "metadata": {},
   "outputs": [],
   "source": [
    "# First we make sure that the local directory in which we'd like to store the training and validation csv files exists.\n",
    "data_dir = '../data/sentiment_web_app'\n",
    "if not os.path.exists(data_dir):\n",
    "    os.makedirs(data_dir)"
   ]
  },
  {
   "cell_type": "code",
   "execution_count": 17,
   "metadata": {},
   "outputs": [],
   "source": [
    "pd.DataFrame(test_X).to_csv(os.path.join(data_dir, 'test.csv'), header=False, index=False)\n",
    "\n",
    "pd.concat([val_y, val_X], axis=1).to_csv(os.path.join(data_dir, 'validation.csv'), header=False, index=False)\n",
    "pd.concat([train_y, train_X], axis=1).to_csv(os.path.join(data_dir, 'train.csv'), header=False, index=False)"
   ]
  },
  {
   "cell_type": "code",
   "execution_count": 18,
   "metadata": {},
   "outputs": [],
   "source": [
    "# To save a bit of memory we can set text_X, train_X, val_X, train_y and val_y to None.\n",
    "\n",
    "test_X = train_X = val_X = train_y = val_y = None"
   ]
  },
  {
   "cell_type": "markdown",
   "metadata": {},
   "source": [
    "### Uploading Training / Validation files to S3\n",
    "\n",
    "Amazon's S3 service allows us to store files that can be accessed by both the built-in training models such as the XGBoost model we will be using as well as custom models such as the one we will see a little later.\n",
    "\n",
    "For this and most other tasks we will be doing using SageMaker, there are two methods we could use. The first is to use the low level functionality of SageMaker which requires knowing each of the objects involved in the SageMaker environment. The second is to use the high level functionality in which certain choices have been made on the user's behalf. The low level approach benefits from allowing the user a great deal of flexibility while the high level approach makes development much quicker. For our purposes we will opt to use the high level approach although using the low-level approach is certainly an option.\n",
    "\n",
    "Recall the method `upload_data()` which is a member of the object representing our current SageMaker session. What this method does is upload the data to the default bucket (which is created if it does not exist) into the path described by the key_prefix variable. To see this for yourself, once you have uploaded the data files, go to the S3 console and look to see where the files have been uploaded.\n",
    "\n",
    "For additional resources, see the __[SageMaker API documentation](http://sagemaker.readthedocs.io/en/latest/)__ and in addition the __[SageMaker Developer Guide.](https://docs.aws.amazon.com/sagemaker/latest/dg/)__"
   ]
  },
  {
   "cell_type": "code",
   "execution_count": 19,
   "metadata": {},
   "outputs": [],
   "source": [
    "import sagemaker\n",
    "\n",
    "session = sagemaker.Session() # Store the current SageMaker session\n",
    "\n",
    "# S3 prefix (which folder will we use)\n",
    "prefix = 'sentiment-web-app'\n",
    "\n",
    "test_location  = session.upload_data(os.path.join(data_dir, 'test.csv'), key_prefix=prefix)\n",
    "val_location   = session.upload_data(os.path.join(data_dir, 'validation.csv'), key_prefix=prefix)\n",
    "train_location = session.upload_data(os.path.join(data_dir, 'train.csv'), key_prefix=prefix)"
   ]
  },
  {
   "cell_type": "markdown",
   "metadata": {},
   "source": [
    "## Step 4: Creating the XGBoost model\n",
    "\n",
    "Now that the data has been uploaded it is time to create the XGBoost model. To begin with, we need to do some setup. At this point it is worth discussing what a model is in SageMaker. It is easiest to think of a model of comprising three different objects in the SageMaker ecosystem, which interact with one another.\n",
    "\n",
    "- Model Artifacts\n",
    "- Training Code (Container)\n",
    "- Inference Code (Container)\n",
    "\n",
    "The Model Artifacts are what you might think of as the actual model itself. For example, if you were building a neural network, the model artifacts would be the weights of the various layers. In our case, for an XGBoost model, the artifacts are the actual trees that are created during training.\n",
    "\n",
    "The other two objects, the training code and the inference code are then used to manipulate the training artifacts. More precisely, the training code uses the training data that is provided and creates the model artifacts, while the inference code uses the model artifacts to make predictions on new data.\n",
    "\n",
    "The way that SageMaker runs the training and inference code is by making use of Docker containers. For now, think of a container as being a way of packaging code up so that dependencies aren't an issue."
   ]
  },
  {
   "cell_type": "code",
   "execution_count": 20,
   "metadata": {},
   "outputs": [],
   "source": [
    "from sagemaker import get_execution_role\n",
    "\n",
    "# Our current execution role is required when creating the model as the training\n",
    "# and inference code will need to access the model artifacts.\n",
    "role = get_execution_role()"
   ]
  },
  {
   "cell_type": "code",
   "execution_count": 21,
   "metadata": {},
   "outputs": [
    {
     "name": "stderr",
     "output_type": "stream",
     "text": [
      "'get_image_uri' method will be deprecated in favor of 'ImageURIProvider' class in SageMaker Python SDK v2.\n",
      "There is a more up to date SageMaker XGBoost image. To use the newer image, please set 'repo_version'='1.0-1'. For example:\n",
      "\tget_image_uri(region, 'xgboost', '1.0-1').\n"
     ]
    }
   ],
   "source": [
    "# We need to retrieve the location of the container which is provided by Amazon for using XGBoost.\n",
    "# As a matter of convenience, the training and inference code both use the same container.\n",
    "from sagemaker.amazon.amazon_estimator import get_image_uri\n",
    "\n",
    "container = get_image_uri(session.boto_region_name, 'xgboost')"
   ]
  },
  {
   "cell_type": "code",
   "execution_count": 22,
   "metadata": {},
   "outputs": [
    {
     "name": "stderr",
     "output_type": "stream",
     "text": [
      "Parameter image_name will be renamed to image_uri in SageMaker Python SDK v2.\n"
     ]
    }
   ],
   "source": [
    "# First we create a SageMaker estimator object for our model.\n",
    "xgb = sagemaker.estimator.Estimator(container, # The location of the container we wish to use\n",
    "                                    role,                                    # What is our current IAM Role\n",
    "                                    train_instance_count=1,                  # How many compute instances\n",
    "                                    train_instance_type='ml.m4.xlarge',      # What kind of compute instances\n",
    "                                    output_path='s3://{}/{}/output'.format(session.default_bucket(), prefix),\n",
    "                                    sagemaker_session=session)\n",
    "\n",
    "# And then set the algorithm specific parameters.\n",
    "xgb.set_hyperparameters(max_depth=5,\n",
    "                        eta=0.2,\n",
    "                        gamma=4,\n",
    "                        min_child_weight=6,\n",
    "                        subsample=0.8,\n",
    "                        silent=0,\n",
    "                        objective='binary:logistic',\n",
    "                        early_stopping_rounds=10,\n",
    "                        num_round=500)"
   ]
  },
  {
   "cell_type": "markdown",
   "metadata": {},
   "source": [
    "### Fit the XGBoost model\n",
    "\n",
    "Now that our model has been set up we simply need to attach the training and validation datasets and then ask SageMaker to set up the computation."
   ]
  },
  {
   "cell_type": "code",
   "execution_count": 23,
   "metadata": {},
   "outputs": [
    {
     "name": "stderr",
     "output_type": "stream",
     "text": [
      "'s3_input' class will be renamed to 'TrainingInput' in SageMaker Python SDK v2.\n",
      "'s3_input' class will be renamed to 'TrainingInput' in SageMaker Python SDK v2.\n"
     ]
    }
   ],
   "source": [
    "s3_input_train = sagemaker.s3_input(s3_data=train_location, content_type='csv')\n",
    "s3_input_validation = sagemaker.s3_input(s3_data=val_location, content_type='csv')"
   ]
  },
  {
   "cell_type": "code",
   "execution_count": 24,
   "metadata": {},
   "outputs": [
    {
     "name": "stdout",
     "output_type": "stream",
     "text": [
      "2021-10-13 12:59:31 Starting - Starting the training job...\n",
      "2021-10-13 12:59:32 Starting - Launching requested ML instances......\n",
      "2021-10-13 13:00:41 Starting - Preparing the instances for training.........\n",
      "2021-10-13 13:02:12 Downloading - Downloading input data...\n",
      "2021-10-13 13:02:43 Training - Downloading the training image.\u001b[34mArguments: train\u001b[0m\n",
      "\u001b[34m[2021-10-13:13:03:05:INFO] Running standalone xgboost training.\u001b[0m\n",
      "\u001b[34m[2021-10-13:13:03:05:INFO] File size need to be processed in the node: 238.5mb. Available memory size in the node: 8381.98mb\u001b[0m\n",
      "\u001b[34m[2021-10-13:13:03:05:INFO] Determined delimiter of CSV input is ','\u001b[0m\n",
      "\u001b[34m[13:03:05] S3DistributionType set as FullyReplicated\u001b[0m\n",
      "\u001b[34m[13:03:07] 15000x5000 matrix with 75000000 entries loaded from /opt/ml/input/data/train?format=csv&label_column=0&delimiter=,\u001b[0m\n",
      "\u001b[34m[2021-10-13:13:03:07:INFO] Determined delimiter of CSV input is ','\u001b[0m\n",
      "\u001b[34m[13:03:07] S3DistributionType set as FullyReplicated\u001b[0m\n",
      "\u001b[34m[13:03:08] 10000x5000 matrix with 50000000 entries loaded from /opt/ml/input/data/validation?format=csv&label_column=0&delimiter=,\u001b[0m\n",
      "\u001b[34m[13:03:12] src/tree/updater_prune.cc:74: tree pruning end, 1 roots, 40 extra nodes, 6 pruned nodes, max_depth=5\u001b[0m\n",
      "\u001b[34m[0]#011train-error:0.304267#011validation-error:0.3167\u001b[0m\n",
      "\u001b[34mMultiple eval metrics have been passed: 'validation-error' will be used for early stopping.\n",
      "\u001b[0m\n",
      "\u001b[34mWill train until validation-error hasn't improved in 10 rounds.\u001b[0m\n",
      "\u001b[34m[13:03:13] src/tree/updater_prune.cc:74: tree pruning end, 1 roots, 40 extra nodes, 4 pruned nodes, max_depth=5\u001b[0m\n",
      "\u001b[34m[1]#011train-error:0.296667#011validation-error:0.3124\u001b[0m\n",
      "\u001b[34m[13:03:15] src/tree/updater_prune.cc:74: tree pruning end, 1 roots, 40 extra nodes, 8 pruned nodes, max_depth=5\u001b[0m\n",
      "\u001b[34m[2]#011train-error:0.276533#011validation-error:0.2934\u001b[0m\n",
      "\u001b[34m[13:03:16] src/tree/updater_prune.cc:74: tree pruning end, 1 roots, 44 extra nodes, 6 pruned nodes, max_depth=5\u001b[0m\n",
      "\u001b[34m[3]#011train-error:0.275933#011validation-error:0.2901\u001b[0m\n",
      "\u001b[34m[13:03:18] src/tree/updater_prune.cc:74: tree pruning end, 1 roots, 36 extra nodes, 2 pruned nodes, max_depth=5\u001b[0m\n",
      "\n",
      "2021-10-13 13:03:04 Training - Training image download completed. Training in progress.\u001b[34m[4]#011train-error:0.265267#011validation-error:0.284\u001b[0m\n",
      "\u001b[34m[13:03:19] src/tree/updater_prune.cc:74: tree pruning end, 1 roots, 42 extra nodes, 0 pruned nodes, max_depth=5\u001b[0m\n",
      "\u001b[34m[5]#011train-error:0.258133#011validation-error:0.2763\u001b[0m\n",
      "\u001b[34m[13:03:21] src/tree/updater_prune.cc:74: tree pruning end, 1 roots, 26 extra nodes, 6 pruned nodes, max_depth=5\u001b[0m\n",
      "\u001b[34m[6]#011train-error:0.2516#011validation-error:0.2694\u001b[0m\n",
      "\u001b[34m[13:03:22] src/tree/updater_prune.cc:74: tree pruning end, 1 roots, 46 extra nodes, 2 pruned nodes, max_depth=5\u001b[0m\n",
      "\u001b[34m[7]#011train-error:0.241067#011validation-error:0.2609\u001b[0m\n",
      "\u001b[34m[13:03:23] src/tree/updater_prune.cc:74: tree pruning end, 1 roots, 26 extra nodes, 6 pruned nodes, max_depth=5\u001b[0m\n",
      "\u001b[34m[8]#011train-error:0.235067#011validation-error:0.2566\u001b[0m\n",
      "\u001b[34m[13:03:25] src/tree/updater_prune.cc:74: tree pruning end, 1 roots, 28 extra nodes, 6 pruned nodes, max_depth=5\u001b[0m\n",
      "\u001b[34m[9]#011train-error:0.23#011validation-error:0.2525\u001b[0m\n",
      "\u001b[34m[13:03:26] src/tree/updater_prune.cc:74: tree pruning end, 1 roots, 34 extra nodes, 2 pruned nodes, max_depth=5\u001b[0m\n",
      "\u001b[34m[10]#011train-error:0.222267#011validation-error:0.2432\u001b[0m\n",
      "\u001b[34m[13:03:27] src/tree/updater_prune.cc:74: tree pruning end, 1 roots, 30 extra nodes, 4 pruned nodes, max_depth=5\u001b[0m\n",
      "\u001b[34m[11]#011train-error:0.217467#011validation-error:0.2384\u001b[0m\n",
      "\u001b[34m[13:03:29] src/tree/updater_prune.cc:74: tree pruning end, 1 roots, 32 extra nodes, 6 pruned nodes, max_depth=5\u001b[0m\n",
      "\u001b[34m[12]#011train-error:0.216733#011validation-error:0.2373\u001b[0m\n",
      "\u001b[34m[13:03:30] src/tree/updater_prune.cc:74: tree pruning end, 1 roots, 30 extra nodes, 16 pruned nodes, max_depth=5\u001b[0m\n",
      "\u001b[34m[13]#011train-error:0.210067#011validation-error:0.2326\u001b[0m\n",
      "\u001b[34m[13:03:32] src/tree/updater_prune.cc:74: tree pruning end, 1 roots, 36 extra nodes, 0 pruned nodes, max_depth=5\u001b[0m\n",
      "\u001b[34m[14]#011train-error:0.2068#011validation-error:0.228\u001b[0m\n",
      "\u001b[34m[13:03:33] src/tree/updater_prune.cc:74: tree pruning end, 1 roots, 34 extra nodes, 10 pruned nodes, max_depth=5\u001b[0m\n",
      "\u001b[34m[15]#011train-error:0.202267#011validation-error:0.2241\u001b[0m\n",
      "\u001b[34m[13:03:34] src/tree/updater_prune.cc:74: tree pruning end, 1 roots, 26 extra nodes, 10 pruned nodes, max_depth=5\u001b[0m\n",
      "\u001b[34m[16]#011train-error:0.198733#011validation-error:0.2208\u001b[0m\n",
      "\u001b[34m[13:03:36] src/tree/updater_prune.cc:74: tree pruning end, 1 roots, 24 extra nodes, 2 pruned nodes, max_depth=5\u001b[0m\n",
      "\u001b[34m[17]#011train-error:0.197067#011validation-error:0.2187\u001b[0m\n",
      "\u001b[34m[13:03:37] src/tree/updater_prune.cc:74: tree pruning end, 1 roots, 34 extra nodes, 4 pruned nodes, max_depth=5\u001b[0m\n",
      "\u001b[34m[18]#011train-error:0.193533#011validation-error:0.2167\u001b[0m\n",
      "\u001b[34m[13:03:39] src/tree/updater_prune.cc:74: tree pruning end, 1 roots, 18 extra nodes, 12 pruned nodes, max_depth=5\u001b[0m\n",
      "\u001b[34m[19]#011train-error:0.1902#011validation-error:0.2148\u001b[0m\n",
      "\u001b[34m[13:03:40] src/tree/updater_prune.cc:74: tree pruning end, 1 roots, 30 extra nodes, 4 pruned nodes, max_depth=5\u001b[0m\n",
      "\u001b[34m[20]#011train-error:0.186333#011validation-error:0.2109\u001b[0m\n",
      "\u001b[34m[13:03:41] src/tree/updater_prune.cc:74: tree pruning end, 1 roots, 26 extra nodes, 12 pruned nodes, max_depth=5\u001b[0m\n",
      "\u001b[34m[21]#011train-error:0.1854#011validation-error:0.2093\u001b[0m\n",
      "\u001b[34m[13:03:43] src/tree/updater_prune.cc:74: tree pruning end, 1 roots, 32 extra nodes, 10 pruned nodes, max_depth=5\u001b[0m\n",
      "\u001b[34m[22]#011train-error:0.182933#011validation-error:0.2083\u001b[0m\n",
      "\u001b[34m[13:03:44] src/tree/updater_prune.cc:74: tree pruning end, 1 roots, 28 extra nodes, 10 pruned nodes, max_depth=5\u001b[0m\n",
      "\u001b[34m[23]#011train-error:0.181733#011validation-error:0.205\u001b[0m\n",
      "\u001b[34m[13:03:45] src/tree/updater_prune.cc:74: tree pruning end, 1 roots, 28 extra nodes, 6 pruned nodes, max_depth=5\u001b[0m\n",
      "\u001b[34m[24]#011train-error:0.178933#011validation-error:0.2045\u001b[0m\n",
      "\u001b[34m[13:03:47] src/tree/updater_prune.cc:74: tree pruning end, 1 roots, 32 extra nodes, 8 pruned nodes, max_depth=5\u001b[0m\n",
      "\u001b[34m[25]#011train-error:0.176933#011validation-error:0.2046\u001b[0m\n",
      "\u001b[34m[13:03:48] src/tree/updater_prune.cc:74: tree pruning end, 1 roots, 18 extra nodes, 6 pruned nodes, max_depth=5\u001b[0m\n",
      "\u001b[34m[26]#011train-error:0.1754#011validation-error:0.2022\u001b[0m\n",
      "\u001b[34m[13:03:49] src/tree/updater_prune.cc:74: tree pruning end, 1 roots, 26 extra nodes, 4 pruned nodes, max_depth=5\u001b[0m\n",
      "\u001b[34m[27]#011train-error:0.173#011validation-error:0.2006\u001b[0m\n",
      "\u001b[34m[13:03:51] src/tree/updater_prune.cc:74: tree pruning end, 1 roots, 26 extra nodes, 8 pruned nodes, max_depth=5\u001b[0m\n",
      "\u001b[34m[28]#011train-error:0.1714#011validation-error:0.1978\u001b[0m\n",
      "\u001b[34m[13:03:52] src/tree/updater_prune.cc:74: tree pruning end, 1 roots, 18 extra nodes, 8 pruned nodes, max_depth=5\u001b[0m\n",
      "\u001b[34m[29]#011train-error:0.168#011validation-error:0.198\u001b[0m\n",
      "\u001b[34m[13:03:54] src/tree/updater_prune.cc:74: tree pruning end, 1 roots, 22 extra nodes, 6 pruned nodes, max_depth=5\u001b[0m\n",
      "\u001b[34m[30]#011train-error:0.1674#011validation-error:0.1973\u001b[0m\n",
      "\u001b[34m[13:03:55] src/tree/updater_prune.cc:74: tree pruning end, 1 roots, 24 extra nodes, 14 pruned nodes, max_depth=5\u001b[0m\n",
      "\u001b[34m[31]#011train-error:0.1662#011validation-error:0.1956\u001b[0m\n",
      "\u001b[34m[13:03:56] src/tree/updater_prune.cc:74: tree pruning end, 1 roots, 24 extra nodes, 10 pruned nodes, max_depth=5\u001b[0m\n",
      "\u001b[34m[32]#011train-error:0.1638#011validation-error:0.1943\u001b[0m\n",
      "\u001b[34m[13:03:58] src/tree/updater_prune.cc:74: tree pruning end, 1 roots, 34 extra nodes, 4 pruned nodes, max_depth=5\u001b[0m\n",
      "\u001b[34m[33]#011train-error:0.161733#011validation-error:0.1944\u001b[0m\n",
      "\u001b[34m[13:03:59] src/tree/updater_prune.cc:74: tree pruning end, 1 roots, 44 extra nodes, 4 pruned nodes, max_depth=5\u001b[0m\n",
      "\u001b[34m[34]#011train-error:0.158533#011validation-error:0.1916\u001b[0m\n",
      "\u001b[34m[13:04:00] src/tree/updater_prune.cc:74: tree pruning end, 1 roots, 18 extra nodes, 8 pruned nodes, max_depth=5\u001b[0m\n",
      "\u001b[34m[35]#011train-error:0.156533#011validation-error:0.1895\u001b[0m\n",
      "\u001b[34m[13:04:02] src/tree/updater_prune.cc:74: tree pruning end, 1 roots, 26 extra nodes, 6 pruned nodes, max_depth=5\u001b[0m\n",
      "\u001b[34m[36]#011train-error:0.155067#011validation-error:0.1882\u001b[0m\n",
      "\u001b[34m[13:04:03] src/tree/updater_prune.cc:74: tree pruning end, 1 roots, 24 extra nodes, 10 pruned nodes, max_depth=5\u001b[0m\n",
      "\u001b[34m[37]#011train-error:0.153067#011validation-error:0.1858\u001b[0m\n",
      "\u001b[34m[13:04:05] src/tree/updater_prune.cc:74: tree pruning end, 1 roots, 22 extra nodes, 10 pruned nodes, max_depth=5\u001b[0m\n",
      "\u001b[34m[38]#011train-error:0.151#011validation-error:0.1863\u001b[0m\n",
      "\u001b[34m[13:04:07] src/tree/updater_prune.cc:74: tree pruning end, 1 roots, 24 extra nodes, 10 pruned nodes, max_depth=5\u001b[0m\n",
      "\u001b[34m[39]#011train-error:0.150133#011validation-error:0.1848\u001b[0m\n",
      "\u001b[34m[13:04:08] src/tree/updater_prune.cc:74: tree pruning end, 1 roots, 24 extra nodes, 4 pruned nodes, max_depth=5\u001b[0m\n",
      "\u001b[34m[40]#011train-error:0.148333#011validation-error:0.1846\u001b[0m\n",
      "\u001b[34m[13:04:10] src/tree/updater_prune.cc:74: tree pruning end, 1 roots, 28 extra nodes, 8 pruned nodes, max_depth=5\u001b[0m\n",
      "\u001b[34m[41]#011train-error:0.146733#011validation-error:0.1818\u001b[0m\n",
      "\u001b[34m[13:04:11] src/tree/updater_prune.cc:74: tree pruning end, 1 roots, 24 extra nodes, 12 pruned nodes, max_depth=5\u001b[0m\n",
      "\u001b[34m[42]#011train-error:0.146#011validation-error:0.1789\u001b[0m\n",
      "\u001b[34m[13:04:12] src/tree/updater_prune.cc:74: tree pruning end, 1 roots, 30 extra nodes, 10 pruned nodes, max_depth=5\u001b[0m\n",
      "\u001b[34m[43]#011train-error:0.146267#011validation-error:0.1791\u001b[0m\n",
      "\u001b[34m[13:04:14] src/tree/updater_prune.cc:74: tree pruning end, 1 roots, 28 extra nodes, 6 pruned nodes, max_depth=5\u001b[0m\n",
      "\u001b[34m[44]#011train-error:0.145067#011validation-error:0.1793\u001b[0m\n",
      "\u001b[34m[13:04:15] src/tree/updater_prune.cc:74: tree pruning end, 1 roots, 16 extra nodes, 12 pruned nodes, max_depth=5\u001b[0m\n",
      "\u001b[34m[45]#011train-error:0.1428#011validation-error:0.1783\u001b[0m\n",
      "\u001b[34m[13:04:16] src/tree/updater_prune.cc:74: tree pruning end, 1 roots, 24 extra nodes, 2 pruned nodes, max_depth=5\u001b[0m\n",
      "\u001b[34m[46]#011train-error:0.142467#011validation-error:0.1779\u001b[0m\n",
      "\u001b[34m[13:04:18] src/tree/updater_prune.cc:74: tree pruning end, 1 roots, 34 extra nodes, 4 pruned nodes, max_depth=5\u001b[0m\n",
      "\u001b[34m[47]#011train-error:0.141#011validation-error:0.1769\u001b[0m\n",
      "\u001b[34m[13:04:19] src/tree/updater_prune.cc:74: tree pruning end, 1 roots, 20 extra nodes, 8 pruned nodes, max_depth=5\u001b[0m\n",
      "\u001b[34m[48]#011train-error:0.139333#011validation-error:0.1755\u001b[0m\n",
      "\u001b[34m[13:04:21] src/tree/updater_prune.cc:74: tree pruning end, 1 roots, 18 extra nodes, 8 pruned nodes, max_depth=5\u001b[0m\n",
      "\u001b[34m[49]#011train-error:0.139#011validation-error:0.175\u001b[0m\n",
      "\u001b[34m[13:04:22] src/tree/updater_prune.cc:74: tree pruning end, 1 roots, 22 extra nodes, 6 pruned nodes, max_depth=5\u001b[0m\n",
      "\u001b[34m[50]#011train-error:0.138067#011validation-error:0.1744\u001b[0m\n",
      "\u001b[34m[13:04:23] src/tree/updater_prune.cc:74: tree pruning end, 1 roots, 18 extra nodes, 8 pruned nodes, max_depth=5\u001b[0m\n",
      "\u001b[34m[51]#011train-error:0.137#011validation-error:0.1738\u001b[0m\n",
      "\u001b[34m[13:04:25] src/tree/updater_prune.cc:74: tree pruning end, 1 roots, 18 extra nodes, 4 pruned nodes, max_depth=5\u001b[0m\n",
      "\u001b[34m[52]#011train-error:0.1366#011validation-error:0.1742\u001b[0m\n",
      "\u001b[34m[13:04:26] src/tree/updater_prune.cc:74: tree pruning end, 1 roots, 34 extra nodes, 8 pruned nodes, max_depth=5\u001b[0m\n",
      "\u001b[34m[53]#011train-error:0.134467#011validation-error:0.1769\u001b[0m\n",
      "\u001b[34m[13:04:27] src/tree/updater_prune.cc:74: tree pruning end, 1 roots, 12 extra nodes, 8 pruned nodes, max_depth=5\u001b[0m\n",
      "\u001b[34m[54]#011train-error:0.1336#011validation-error:0.176\u001b[0m\n",
      "\u001b[34m[13:04:29] src/tree/updater_prune.cc:74: tree pruning end, 1 roots, 18 extra nodes, 12 pruned nodes, max_depth=5\u001b[0m\n",
      "\u001b[34m[55]#011train-error:0.133#011validation-error:0.1745\u001b[0m\n",
      "\u001b[34m[13:04:30] src/tree/updater_prune.cc:74: tree pruning end, 1 roots, 18 extra nodes, 14 pruned nodes, max_depth=5\u001b[0m\n",
      "\u001b[34m[56]#011train-error:0.133267#011validation-error:0.1725\u001b[0m\n",
      "\u001b[34m[13:04:31] src/tree/updater_prune.cc:74: tree pruning end, 1 roots, 16 extra nodes, 10 pruned nodes, max_depth=5\u001b[0m\n",
      "\u001b[34m[57]#011train-error:0.132067#011validation-error:0.1727\u001b[0m\n",
      "\u001b[34m[13:04:33] src/tree/updater_prune.cc:74: tree pruning end, 1 roots, 22 extra nodes, 4 pruned nodes, max_depth=5\u001b[0m\n",
      "\u001b[34m[58]#011train-error:0.131267#011validation-error:0.1713\u001b[0m\n",
      "\u001b[34m[13:04:34] src/tree/updater_prune.cc:74: tree pruning end, 1 roots, 20 extra nodes, 6 pruned nodes, max_depth=5\u001b[0m\n",
      "\u001b[34m[59]#011train-error:0.130333#011validation-error:0.1714\u001b[0m\n",
      "\u001b[34m[13:04:35] src/tree/updater_prune.cc:74: tree pruning end, 1 roots, 14 extra nodes, 14 pruned nodes, max_depth=5\u001b[0m\n",
      "\u001b[34m[60]#011train-error:0.129733#011validation-error:0.171\u001b[0m\n",
      "\u001b[34m[13:04:37] src/tree/updater_prune.cc:74: tree pruning end, 1 roots, 28 extra nodes, 8 pruned nodes, max_depth=5\u001b[0m\n",
      "\u001b[34m[61]#011train-error:0.129333#011validation-error:0.1705\u001b[0m\n",
      "\u001b[34m[13:04:38] src/tree/updater_prune.cc:74: tree pruning end, 1 roots, 32 extra nodes, 10 pruned nodes, max_depth=5\u001b[0m\n",
      "\u001b[34m[62]#011train-error:0.128#011validation-error:0.1703\u001b[0m\n",
      "\u001b[34m[13:04:40] src/tree/updater_prune.cc:74: tree pruning end, 1 roots, 16 extra nodes, 8 pruned nodes, max_depth=5\u001b[0m\n",
      "\u001b[34m[63]#011train-error:0.127133#011validation-error:0.1698\u001b[0m\n",
      "\u001b[34m[13:04:41] src/tree/updater_prune.cc:74: tree pruning end, 1 roots, 24 extra nodes, 4 pruned nodes, max_depth=5\u001b[0m\n",
      "\u001b[34m[64]#011train-error:0.1258#011validation-error:0.1701\u001b[0m\n",
      "\u001b[34m[13:04:42] src/tree/updater_prune.cc:74: tree pruning end, 1 roots, 24 extra nodes, 6 pruned nodes, max_depth=5\u001b[0m\n",
      "\u001b[34m[65]#011train-error:0.1256#011validation-error:0.1705\u001b[0m\n",
      "\u001b[34m[13:04:44] src/tree/updater_prune.cc:74: tree pruning end, 1 roots, 18 extra nodes, 8 pruned nodes, max_depth=5\u001b[0m\n",
      "\u001b[34m[66]#011train-error:0.124333#011validation-error:0.1703\u001b[0m\n",
      "\u001b[34m[13:04:45] src/tree/updater_prune.cc:74: tree pruning end, 1 roots, 18 extra nodes, 12 pruned nodes, max_depth=5\u001b[0m\n",
      "\u001b[34m[67]#011train-error:0.123467#011validation-error:0.1702\u001b[0m\n",
      "\u001b[34m[13:04:46] src/tree/updater_prune.cc:74: tree pruning end, 1 roots, 14 extra nodes, 12 pruned nodes, max_depth=5\u001b[0m\n",
      "\u001b[34m[68]#011train-error:0.123867#011validation-error:0.1696\u001b[0m\n",
      "\u001b[34m[13:04:48] src/tree/updater_prune.cc:74: tree pruning end, 1 roots, 22 extra nodes, 2 pruned nodes, max_depth=5\u001b[0m\n",
      "\u001b[34m[69]#011train-error:0.122467#011validation-error:0.1689\u001b[0m\n",
      "\u001b[34m[13:04:49] src/tree/updater_prune.cc:74: tree pruning end, 1 roots, 38 extra nodes, 10 pruned nodes, max_depth=5\u001b[0m\n",
      "\u001b[34m[70]#011train-error:0.120933#011validation-error:0.1675\u001b[0m\n",
      "\u001b[34m[13:04:51] src/tree/updater_prune.cc:74: tree pruning end, 1 roots, 16 extra nodes, 4 pruned nodes, max_depth=5\u001b[0m\n",
      "\u001b[34m[71]#011train-error:0.1208#011validation-error:0.1667\u001b[0m\n",
      "\u001b[34m[13:04:52] src/tree/updater_prune.cc:74: tree pruning end, 1 roots, 22 extra nodes, 10 pruned nodes, max_depth=5\u001b[0m\n",
      "\u001b[34m[72]#011train-error:0.120067#011validation-error:0.167\u001b[0m\n",
      "\u001b[34m[13:04:53] src/tree/updater_prune.cc:74: tree pruning end, 1 roots, 22 extra nodes, 12 pruned nodes, max_depth=5\u001b[0m\n",
      "\u001b[34m[73]#011train-error:0.118667#011validation-error:0.166\u001b[0m\n",
      "\u001b[34m[13:04:55] src/tree/updater_prune.cc:74: tree pruning end, 1 roots, 20 extra nodes, 8 pruned nodes, max_depth=5\u001b[0m\n",
      "\u001b[34m[74]#011train-error:0.118#011validation-error:0.165\u001b[0m\n",
      "\u001b[34m[13:04:56] src/tree/updater_prune.cc:74: tree pruning end, 1 roots, 18 extra nodes, 4 pruned nodes, max_depth=5\u001b[0m\n",
      "\u001b[34m[75]#011train-error:0.117#011validation-error:0.1643\u001b[0m\n",
      "\u001b[34m[13:04:57] src/tree/updater_prune.cc:74: tree pruning end, 1 roots, 30 extra nodes, 14 pruned nodes, max_depth=5\u001b[0m\n",
      "\u001b[34m[76]#011train-error:0.115467#011validation-error:0.1641\u001b[0m\n",
      "\u001b[34m[13:04:59] src/tree/updater_prune.cc:74: tree pruning end, 1 roots, 18 extra nodes, 4 pruned nodes, max_depth=5\u001b[0m\n",
      "\u001b[34m[77]#011train-error:0.114467#011validation-error:0.164\u001b[0m\n",
      "\u001b[34m[13:05:00] src/tree/updater_prune.cc:74: tree pruning end, 1 roots, 18 extra nodes, 10 pruned nodes, max_depth=5\u001b[0m\n",
      "\u001b[34m[78]#011train-error:0.113933#011validation-error:0.1629\u001b[0m\n",
      "\u001b[34m[13:05:02] src/tree/updater_prune.cc:74: tree pruning end, 1 roots, 28 extra nodes, 8 pruned nodes, max_depth=5\u001b[0m\n",
      "\u001b[34m[79]#011train-error:0.114267#011validation-error:0.1627\u001b[0m\n",
      "\u001b[34m[13:05:03] src/tree/updater_prune.cc:74: tree pruning end, 1 roots, 20 extra nodes, 4 pruned nodes, max_depth=5\u001b[0m\n",
      "\u001b[34m[80]#011train-error:0.113533#011validation-error:0.1619\u001b[0m\n",
      "\u001b[34m[13:05:05] src/tree/updater_prune.cc:74: tree pruning end, 1 roots, 18 extra nodes, 18 pruned nodes, max_depth=5\u001b[0m\n",
      "\u001b[34m[81]#011train-error:0.1128#011validation-error:0.1623\u001b[0m\n",
      "\u001b[34m[13:05:06] src/tree/updater_prune.cc:74: tree pruning end, 1 roots, 22 extra nodes, 8 pruned nodes, max_depth=5\u001b[0m\n",
      "\u001b[34m[82]#011train-error:0.112133#011validation-error:0.1623\u001b[0m\n",
      "\u001b[34m[13:05:08] src/tree/updater_prune.cc:74: tree pruning end, 1 roots, 20 extra nodes, 14 pruned nodes, max_depth=5\u001b[0m\n",
      "\u001b[34m[83]#011train-error:0.111133#011validation-error:0.1609\u001b[0m\n",
      "\u001b[34m[13:05:09] src/tree/updater_prune.cc:74: tree pruning end, 1 roots, 28 extra nodes, 14 pruned nodes, max_depth=5\u001b[0m\n",
      "\u001b[34m[84]#011train-error:0.1098#011validation-error:0.1606\u001b[0m\n",
      "\u001b[34m[13:05:10] src/tree/updater_prune.cc:74: tree pruning end, 1 roots, 14 extra nodes, 12 pruned nodes, max_depth=5\u001b[0m\n",
      "\u001b[34m[85]#011train-error:0.1098#011validation-error:0.1598\u001b[0m\n",
      "\u001b[34m[13:05:12] src/tree/updater_prune.cc:74: tree pruning end, 1 roots, 34 extra nodes, 10 pruned nodes, max_depth=5\u001b[0m\n",
      "\u001b[34m[86]#011train-error:0.108467#011validation-error:0.1601\u001b[0m\n",
      "\u001b[34m[13:05:13] src/tree/updater_prune.cc:74: tree pruning end, 1 roots, 22 extra nodes, 6 pruned nodes, max_depth=5\u001b[0m\n",
      "\u001b[34m[87]#011train-error:0.108333#011validation-error:0.1617\u001b[0m\n",
      "\u001b[34m[13:05:15] src/tree/updater_prune.cc:74: tree pruning end, 1 roots, 14 extra nodes, 16 pruned nodes, max_depth=5\u001b[0m\n",
      "\u001b[34m[88]#011train-error:0.107267#011validation-error:0.1603\u001b[0m\n",
      "\u001b[34m[13:05:16] src/tree/updater_prune.cc:74: tree pruning end, 1 roots, 16 extra nodes, 12 pruned nodes, max_depth=5\u001b[0m\n",
      "\u001b[34m[89]#011train-error:0.1068#011validation-error:0.1598\u001b[0m\n",
      "\u001b[34m[13:05:17] src/tree/updater_prune.cc:74: tree pruning end, 1 roots, 18 extra nodes, 14 pruned nodes, max_depth=5\u001b[0m\n",
      "\u001b[34m[90]#011train-error:0.105733#011validation-error:0.1598\u001b[0m\n",
      "\u001b[34m[13:05:19] src/tree/updater_prune.cc:74: tree pruning end, 1 roots, 20 extra nodes, 10 pruned nodes, max_depth=5\u001b[0m\n",
      "\u001b[34m[91]#011train-error:0.105533#011validation-error:0.1589\u001b[0m\n",
      "\u001b[34m[13:05:20] src/tree/updater_prune.cc:74: tree pruning end, 1 roots, 10 extra nodes, 10 pruned nodes, max_depth=5\u001b[0m\n",
      "\u001b[34m[92]#011train-error:0.1048#011validation-error:0.1582\u001b[0m\n",
      "\u001b[34m[13:05:21] src/tree/updater_prune.cc:74: tree pruning end, 1 roots, 32 extra nodes, 6 pruned nodes, max_depth=5\u001b[0m\n",
      "\u001b[34m[93]#011train-error:0.104867#011validation-error:0.1588\u001b[0m\n",
      "\u001b[34m[13:05:23] src/tree/updater_prune.cc:74: tree pruning end, 1 roots, 22 extra nodes, 10 pruned nodes, max_depth=5\u001b[0m\n",
      "\u001b[34m[94]#011train-error:0.104667#011validation-error:0.1594\u001b[0m\n",
      "\u001b[34m[13:05:24] src/tree/updater_prune.cc:74: tree pruning end, 1 roots, 20 extra nodes, 18 pruned nodes, max_depth=5\u001b[0m\n",
      "\u001b[34m[95]#011train-error:0.104533#011validation-error:0.1582\u001b[0m\n",
      "\u001b[34m[13:05:25] src/tree/updater_prune.cc:74: tree pruning end, 1 roots, 18 extra nodes, 16 pruned nodes, max_depth=5\u001b[0m\n",
      "\u001b[34m[96]#011train-error:0.104067#011validation-error:0.1587\u001b[0m\n",
      "\u001b[34m[13:05:27] src/tree/updater_prune.cc:74: tree pruning end, 1 roots, 34 extra nodes, 16 pruned nodes, max_depth=5\u001b[0m\n",
      "\u001b[34m[97]#011train-error:0.102533#011validation-error:0.1585\u001b[0m\n",
      "\u001b[34m[13:05:28] src/tree/updater_prune.cc:74: tree pruning end, 1 roots, 16 extra nodes, 8 pruned nodes, max_depth=5\u001b[0m\n",
      "\u001b[34m[98]#011train-error:0.101733#011validation-error:0.1584\u001b[0m\n",
      "\u001b[34m[13:05:29] src/tree/updater_prune.cc:74: tree pruning end, 1 roots, 28 extra nodes, 16 pruned nodes, max_depth=5\u001b[0m\n",
      "\u001b[34m[99]#011train-error:0.101267#011validation-error:0.1581\u001b[0m\n",
      "\u001b[34m[13:05:31] src/tree/updater_prune.cc:74: tree pruning end, 1 roots, 18 extra nodes, 8 pruned nodes, max_depth=5\u001b[0m\n",
      "\u001b[34m[100]#011train-error:0.1018#011validation-error:0.1582\u001b[0m\n",
      "\u001b[34m[13:05:32] src/tree/updater_prune.cc:74: tree pruning end, 1 roots, 20 extra nodes, 14 pruned nodes, max_depth=5\u001b[0m\n",
      "\u001b[34m[101]#011train-error:0.101267#011validation-error:0.1586\u001b[0m\n",
      "\u001b[34m[13:05:33] src/tree/updater_prune.cc:74: tree pruning end, 1 roots, 10 extra nodes, 8 pruned nodes, max_depth=5\u001b[0m\n",
      "\u001b[34m[102]#011train-error:0.101133#011validation-error:0.1577\u001b[0m\n",
      "\u001b[34m[13:05:35] src/tree/updater_prune.cc:74: tree pruning end, 1 roots, 14 extra nodes, 10 pruned nodes, max_depth=5\u001b[0m\n",
      "\u001b[34m[103]#011train-error:0.100333#011validation-error:0.1572\u001b[0m\n",
      "\u001b[34m[13:05:36] src/tree/updater_prune.cc:74: tree pruning end, 1 roots, 10 extra nodes, 8 pruned nodes, max_depth=5\u001b[0m\n",
      "\u001b[34m[104]#011train-error:0.100133#011validation-error:0.1575\u001b[0m\n",
      "\u001b[34m[13:05:38] src/tree/updater_prune.cc:74: tree pruning end, 1 roots, 16 extra nodes, 6 pruned nodes, max_depth=5\u001b[0m\n",
      "\u001b[34m[105]#011train-error:0.0994#011validation-error:0.1567\u001b[0m\n",
      "\u001b[34m[13:05:39] src/tree/updater_prune.cc:74: tree pruning end, 1 roots, 12 extra nodes, 0 pruned nodes, max_depth=5\u001b[0m\n",
      "\u001b[34m[106]#011train-error:0.099067#011validation-error:0.1562\u001b[0m\n",
      "\u001b[34m[13:05:40] src/tree/updater_prune.cc:74: tree pruning end, 1 roots, 10 extra nodes, 4 pruned nodes, max_depth=5\u001b[0m\n",
      "\u001b[34m[107]#011train-error:0.099#011validation-error:0.1562\u001b[0m\n",
      "\u001b[34m[13:05:42] src/tree/updater_prune.cc:74: tree pruning end, 1 roots, 12 extra nodes, 6 pruned nodes, max_depth=5\u001b[0m\n",
      "\u001b[34m[108]#011train-error:0.0986#011validation-error:0.1554\u001b[0m\n",
      "\u001b[34m[13:05:43] src/tree/updater_prune.cc:74: tree pruning end, 1 roots, 18 extra nodes, 6 pruned nodes, max_depth=5\u001b[0m\n",
      "\u001b[34m[109]#011train-error:0.097867#011validation-error:0.1551\u001b[0m\n",
      "\u001b[34m[13:05:45] src/tree/updater_prune.cc:74: tree pruning end, 1 roots, 28 extra nodes, 4 pruned nodes, max_depth=5\u001b[0m\n",
      "\u001b[34m[110]#011train-error:0.098067#011validation-error:0.1545\u001b[0m\n",
      "\u001b[34m[13:05:46] src/tree/updater_prune.cc:74: tree pruning end, 1 roots, 20 extra nodes, 8 pruned nodes, max_depth=5\u001b[0m\n",
      "\u001b[34m[111]#011train-error:0.097733#011validation-error:0.1537\u001b[0m\n",
      "\u001b[34m[13:05:47] src/tree/updater_prune.cc:74: tree pruning end, 1 roots, 24 extra nodes, 8 pruned nodes, max_depth=5\u001b[0m\n",
      "\u001b[34m[112]#011train-error:0.0962#011validation-error:0.1548\u001b[0m\n",
      "\u001b[34m[13:05:49] src/tree/updater_prune.cc:74: tree pruning end, 1 roots, 10 extra nodes, 4 pruned nodes, max_depth=5\u001b[0m\n",
      "\u001b[34m[113]#011train-error:0.096267#011validation-error:0.1544\u001b[0m\n",
      "\u001b[34m[13:05:50] src/tree/updater_prune.cc:74: tree pruning end, 1 roots, 18 extra nodes, 4 pruned nodes, max_depth=5\u001b[0m\n",
      "\u001b[34m[114]#011train-error:0.095733#011validation-error:0.1541\u001b[0m\n",
      "\u001b[34m[13:05:51] src/tree/updater_prune.cc:74: tree pruning end, 1 roots, 16 extra nodes, 14 pruned nodes, max_depth=5\u001b[0m\n",
      "\u001b[34m[115]#011train-error:0.094867#011validation-error:0.1534\u001b[0m\n",
      "\u001b[34m[13:05:53] src/tree/updater_prune.cc:74: tree pruning end, 1 roots, 12 extra nodes, 2 pruned nodes, max_depth=5\u001b[0m\n",
      "\u001b[34m[116]#011train-error:0.094133#011validation-error:0.1536\u001b[0m\n",
      "\u001b[34m[13:05:54] src/tree/updater_prune.cc:74: tree pruning end, 1 roots, 14 extra nodes, 8 pruned nodes, max_depth=5\u001b[0m\n",
      "\u001b[34m[117]#011train-error:0.093867#011validation-error:0.1523\u001b[0m\n",
      "\u001b[34m[13:05:55] src/tree/updater_prune.cc:74: tree pruning end, 1 roots, 12 extra nodes, 6 pruned nodes, max_depth=5\u001b[0m\n",
      "\u001b[34m[118]#011train-error:0.0934#011validation-error:0.1529\u001b[0m\n",
      "\u001b[34m[13:05:57] src/tree/updater_prune.cc:74: tree pruning end, 1 roots, 10 extra nodes, 6 pruned nodes, max_depth=5\u001b[0m\n",
      "\u001b[34m[119]#011train-error:0.093333#011validation-error:0.1525\u001b[0m\n",
      "\u001b[34m[13:05:58] src/tree/updater_prune.cc:74: tree pruning end, 1 roots, 20 extra nodes, 12 pruned nodes, max_depth=5\u001b[0m\n",
      "\u001b[34m[120]#011train-error:0.093#011validation-error:0.1517\u001b[0m\n",
      "\u001b[34m[13:05:59] src/tree/updater_prune.cc:74: tree pruning end, 1 roots, 18 extra nodes, 10 pruned nodes, max_depth=5\u001b[0m\n",
      "\u001b[34m[121]#011train-error:0.092667#011validation-error:0.1509\u001b[0m\n",
      "\u001b[34m[13:06:01] src/tree/updater_prune.cc:74: tree pruning end, 1 roots, 16 extra nodes, 10 pruned nodes, max_depth=5\u001b[0m\n",
      "\u001b[34m[122]#011train-error:0.092533#011validation-error:0.1509\u001b[0m\n",
      "\u001b[34m[13:06:02] src/tree/updater_prune.cc:74: tree pruning end, 1 roots, 16 extra nodes, 4 pruned nodes, max_depth=5\u001b[0m\n",
      "\u001b[34m[123]#011train-error:0.0928#011validation-error:0.1505\u001b[0m\n",
      "\u001b[34m[13:06:04] src/tree/updater_prune.cc:74: tree pruning end, 1 roots, 18 extra nodes, 8 pruned nodes, max_depth=5\u001b[0m\n",
      "\u001b[34m[124]#011train-error:0.091867#011validation-error:0.1498\u001b[0m\n",
      "\u001b[34m[13:06:06] src/tree/updater_prune.cc:74: tree pruning end, 1 roots, 12 extra nodes, 6 pruned nodes, max_depth=5\u001b[0m\n",
      "\u001b[34m[125]#011train-error:0.091467#011validation-error:0.1497\u001b[0m\n",
      "\u001b[34m[13:06:07] src/tree/updater_prune.cc:74: tree pruning end, 1 roots, 10 extra nodes, 4 pruned nodes, max_depth=5\u001b[0m\n",
      "\u001b[34m[126]#011train-error:0.091333#011validation-error:0.1491\u001b[0m\n",
      "\u001b[34m[13:06:08] src/tree/updater_prune.cc:74: tree pruning end, 1 roots, 14 extra nodes, 14 pruned nodes, max_depth=5\u001b[0m\n",
      "\u001b[34m[127]#011train-error:0.090867#011validation-error:0.1493\u001b[0m\n",
      "\u001b[34m[13:06:10] src/tree/updater_prune.cc:74: tree pruning end, 1 roots, 18 extra nodes, 20 pruned nodes, max_depth=5\u001b[0m\n",
      "\u001b[34m[128]#011train-error:0.090067#011validation-error:0.1488\u001b[0m\n",
      "\u001b[34m[13:06:11] src/tree/updater_prune.cc:74: tree pruning end, 1 roots, 14 extra nodes, 4 pruned nodes, max_depth=5\u001b[0m\n",
      "\u001b[34m[129]#011train-error:0.089933#011validation-error:0.1485\u001b[0m\n",
      "\u001b[34m[13:06:13] src/tree/updater_prune.cc:74: tree pruning end, 1 roots, 16 extra nodes, 6 pruned nodes, max_depth=5\u001b[0m\n",
      "\u001b[34m[130]#011train-error:0.089267#011validation-error:0.1484\u001b[0m\n",
      "\u001b[34m[13:06:14] src/tree/updater_prune.cc:74: tree pruning end, 1 roots, 14 extra nodes, 10 pruned nodes, max_depth=5\u001b[0m\n",
      "\u001b[34m[131]#011train-error:0.089#011validation-error:0.1484\u001b[0m\n",
      "\u001b[34m[13:06:15] src/tree/updater_prune.cc:74: tree pruning end, 1 roots, 14 extra nodes, 10 pruned nodes, max_depth=5\u001b[0m\n",
      "\u001b[34m[132]#011train-error:0.0888#011validation-error:0.148\u001b[0m\n",
      "\u001b[34m[13:06:17] src/tree/updater_prune.cc:74: tree pruning end, 1 roots, 18 extra nodes, 8 pruned nodes, max_depth=5\u001b[0m\n",
      "\u001b[34m[133]#011train-error:0.0878#011validation-error:0.1485\u001b[0m\n",
      "\u001b[34m[13:06:18] src/tree/updater_prune.cc:74: tree pruning end, 1 roots, 16 extra nodes, 4 pruned nodes, max_depth=5\u001b[0m\n",
      "\u001b[34m[134]#011train-error:0.087467#011validation-error:0.148\u001b[0m\n",
      "\u001b[34m[13:06:19] src/tree/updater_prune.cc:74: tree pruning end, 1 roots, 22 extra nodes, 10 pruned nodes, max_depth=5\u001b[0m\n",
      "\u001b[34m[135]#011train-error:0.087267#011validation-error:0.1486\u001b[0m\n",
      "\u001b[34m[13:06:21] src/tree/updater_prune.cc:74: tree pruning end, 1 roots, 16 extra nodes, 8 pruned nodes, max_depth=5\u001b[0m\n",
      "\u001b[34m[136]#011train-error:0.0876#011validation-error:0.1486\u001b[0m\n",
      "\u001b[34m[13:06:22] src/tree/updater_prune.cc:74: tree pruning end, 1 roots, 26 extra nodes, 18 pruned nodes, max_depth=5\u001b[0m\n",
      "\u001b[34m[137]#011train-error:0.087533#011validation-error:0.1468\u001b[0m\n",
      "\u001b[34m[13:06:24] src/tree/updater_prune.cc:74: tree pruning end, 1 roots, 20 extra nodes, 10 pruned nodes, max_depth=5\u001b[0m\n",
      "\u001b[34m[138]#011train-error:0.086867#011validation-error:0.1468\u001b[0m\n",
      "\u001b[34m[13:06:25] src/tree/updater_prune.cc:74: tree pruning end, 1 roots, 16 extra nodes, 8 pruned nodes, max_depth=5\u001b[0m\n",
      "\u001b[34m[139]#011train-error:0.086667#011validation-error:0.1469\u001b[0m\n",
      "\u001b[34m[13:06:26] src/tree/updater_prune.cc:74: tree pruning end, 1 roots, 10 extra nodes, 8 pruned nodes, max_depth=5\u001b[0m\n",
      "\u001b[34m[140]#011train-error:0.0864#011validation-error:0.1468\u001b[0m\n",
      "\u001b[34m[13:06:28] src/tree/updater_prune.cc:74: tree pruning end, 1 roots, 16 extra nodes, 4 pruned nodes, max_depth=5\u001b[0m\n",
      "\u001b[34m[141]#011train-error:0.086067#011validation-error:0.1465\u001b[0m\n",
      "\u001b[34m[13:06:29] src/tree/updater_prune.cc:74: tree pruning end, 1 roots, 12 extra nodes, 12 pruned nodes, max_depth=5\u001b[0m\n",
      "\u001b[34m[142]#011train-error:0.085533#011validation-error:0.1467\u001b[0m\n",
      "\u001b[34m[13:06:30] src/tree/updater_prune.cc:74: tree pruning end, 1 roots, 14 extra nodes, 14 pruned nodes, max_depth=5\u001b[0m\n",
      "\u001b[34m[143]#011train-error:0.085867#011validation-error:0.1471\u001b[0m\n",
      "\u001b[34m[13:06:32] src/tree/updater_prune.cc:74: tree pruning end, 1 roots, 14 extra nodes, 8 pruned nodes, max_depth=5\u001b[0m\n",
      "\u001b[34m[144]#011train-error:0.0858#011validation-error:0.1461\u001b[0m\n",
      "\u001b[34m[13:06:33] src/tree/updater_prune.cc:74: tree pruning end, 1 roots, 14 extra nodes, 2 pruned nodes, max_depth=5\u001b[0m\n",
      "\u001b[34m[145]#011train-error:0.0854#011validation-error:0.1464\u001b[0m\n",
      "\u001b[34m[13:06:34] src/tree/updater_prune.cc:74: tree pruning end, 1 roots, 16 extra nodes, 6 pruned nodes, max_depth=5\u001b[0m\n",
      "\u001b[34m[146]#011train-error:0.085067#011validation-error:0.1463\u001b[0m\n",
      "\u001b[34m[13:06:36] src/tree/updater_prune.cc:74: tree pruning end, 1 roots, 12 extra nodes, 2 pruned nodes, max_depth=5\u001b[0m\n",
      "\u001b[34m[147]#011train-error:0.084667#011validation-error:0.1455\u001b[0m\n",
      "\u001b[34m[13:06:37] src/tree/updater_prune.cc:74: tree pruning end, 1 roots, 18 extra nodes, 6 pruned nodes, max_depth=5\u001b[0m\n",
      "\u001b[34m[148]#011train-error:0.0846#011validation-error:0.1453\u001b[0m\n",
      "\u001b[34m[13:06:38] src/tree/updater_prune.cc:74: tree pruning end, 1 roots, 14 extra nodes, 2 pruned nodes, max_depth=5\u001b[0m\n",
      "\u001b[34m[149]#011train-error:0.0842#011validation-error:0.1447\u001b[0m\n",
      "\u001b[34m[13:06:40] src/tree/updater_prune.cc:74: tree pruning end, 1 roots, 20 extra nodes, 6 pruned nodes, max_depth=5\u001b[0m\n",
      "\u001b[34m[150]#011train-error:0.083333#011validation-error:0.1447\u001b[0m\n",
      "\u001b[34m[13:06:41] src/tree/updater_prune.cc:74: tree pruning end, 1 roots, 16 extra nodes, 2 pruned nodes, max_depth=5\u001b[0m\n",
      "\u001b[34m[151]#011train-error:0.083133#011validation-error:0.1444\u001b[0m\n",
      "\u001b[34m[13:06:43] src/tree/updater_prune.cc:74: tree pruning end, 1 roots, 12 extra nodes, 10 pruned nodes, max_depth=5\u001b[0m\n",
      "\u001b[34m[152]#011train-error:0.082667#011validation-error:0.1436\u001b[0m\n",
      "\u001b[34m[13:06:44] src/tree/updater_prune.cc:74: tree pruning end, 1 roots, 24 extra nodes, 24 pruned nodes, max_depth=5\u001b[0m\n",
      "\u001b[34m[153]#011train-error:0.082267#011validation-error:0.1442\u001b[0m\n",
      "\u001b[34m[13:06:45] src/tree/updater_prune.cc:74: tree pruning end, 1 roots, 14 extra nodes, 6 pruned nodes, max_depth=5\u001b[0m\n",
      "\u001b[34m[154]#011train-error:0.0816#011validation-error:0.1439\u001b[0m\n",
      "\u001b[34m[13:06:47] src/tree/updater_prune.cc:74: tree pruning end, 1 roots, 20 extra nodes, 6 pruned nodes, max_depth=5\u001b[0m\n",
      "\u001b[34m[155]#011train-error:0.080933#011validation-error:0.1442\u001b[0m\n",
      "\u001b[34m[13:06:48] src/tree/updater_prune.cc:74: tree pruning end, 1 roots, 18 extra nodes, 4 pruned nodes, max_depth=5\u001b[0m\n",
      "\u001b[34m[156]#011train-error:0.080533#011validation-error:0.1438\u001b[0m\n",
      "\u001b[34m[13:06:49] src/tree/updater_prune.cc:74: tree pruning end, 1 roots, 10 extra nodes, 4 pruned nodes, max_depth=5\u001b[0m\n",
      "\u001b[34m[157]#011train-error:0.0804#011validation-error:0.1437\u001b[0m\n",
      "\u001b[34m[13:06:51] src/tree/updater_prune.cc:74: tree pruning end, 1 roots, 32 extra nodes, 10 pruned nodes, max_depth=5\u001b[0m\n",
      "\u001b[34m[158]#011train-error:0.079667#011validation-error:0.1446\u001b[0m\n",
      "\u001b[34m[13:06:52] src/tree/updater_prune.cc:74: tree pruning end, 1 roots, 18 extra nodes, 8 pruned nodes, max_depth=5\u001b[0m\n",
      "\u001b[34m[159]#011train-error:0.079#011validation-error:0.1437\u001b[0m\n",
      "\u001b[34m[13:06:53] src/tree/updater_prune.cc:74: tree pruning end, 1 roots, 16 extra nodes, 0 pruned nodes, max_depth=5\u001b[0m\n",
      "\u001b[34m[160]#011train-error:0.079133#011validation-error:0.1431\u001b[0m\n",
      "\u001b[34m[13:06:55] src/tree/updater_prune.cc:74: tree pruning end, 1 roots, 10 extra nodes, 2 pruned nodes, max_depth=5\u001b[0m\n",
      "\u001b[34m[161]#011train-error:0.0792#011validation-error:0.1428\u001b[0m\n",
      "\u001b[34m[13:06:56] src/tree/updater_prune.cc:74: tree pruning end, 1 roots, 12 extra nodes, 8 pruned nodes, max_depth=5\u001b[0m\n",
      "\u001b[34m[162]#011train-error:0.0786#011validation-error:0.1431\u001b[0m\n",
      "\u001b[34m[13:06:58] src/tree/updater_prune.cc:74: tree pruning end, 1 roots, 30 extra nodes, 12 pruned nodes, max_depth=5\u001b[0m\n",
      "\u001b[34m[163]#011train-error:0.0784#011validation-error:0.1425\u001b[0m\n",
      "\u001b[34m[13:06:59] src/tree/updater_prune.cc:74: tree pruning end, 1 roots, 16 extra nodes, 8 pruned nodes, max_depth=5\u001b[0m\n",
      "\u001b[34m[164]#011train-error:0.078067#011validation-error:0.1422\u001b[0m\n",
      "\u001b[34m[13:07:00] src/tree/updater_prune.cc:74: tree pruning end, 1 roots, 10 extra nodes, 2 pruned nodes, max_depth=5\u001b[0m\n",
      "\u001b[34m[165]#011train-error:0.0778#011validation-error:0.1425\u001b[0m\n",
      "\u001b[34m[13:07:02] src/tree/updater_prune.cc:74: tree pruning end, 1 roots, 10 extra nodes, 6 pruned nodes, max_depth=5\u001b[0m\n",
      "\u001b[34m[166]#011train-error:0.077667#011validation-error:0.1425\u001b[0m\n",
      "\u001b[34m[13:07:03] src/tree/updater_prune.cc:74: tree pruning end, 1 roots, 10 extra nodes, 2 pruned nodes, max_depth=5\u001b[0m\n",
      "\u001b[34m[167]#011train-error:0.077467#011validation-error:0.1429\u001b[0m\n",
      "\u001b[34m[13:07:05] src/tree/updater_prune.cc:74: tree pruning end, 1 roots, 26 extra nodes, 8 pruned nodes, max_depth=5\u001b[0m\n",
      "\u001b[34m[168]#011train-error:0.075933#011validation-error:0.1423\u001b[0m\n",
      "\u001b[34m[13:07:06] src/tree/updater_prune.cc:74: tree pruning end, 1 roots, 20 extra nodes, 12 pruned nodes, max_depth=5\u001b[0m\n",
      "\u001b[34m[169]#011train-error:0.076133#011validation-error:0.1428\u001b[0m\n",
      "\u001b[34m[13:07:08] src/tree/updater_prune.cc:74: tree pruning end, 1 roots, 10 extra nodes, 6 pruned nodes, max_depth=5\u001b[0m\n",
      "\u001b[34m[170]#011train-error:0.076#011validation-error:0.1423\u001b[0m\n",
      "\u001b[34m[13:07:09] src/tree/updater_prune.cc:74: tree pruning end, 1 roots, 12 extra nodes, 6 pruned nodes, max_depth=5\u001b[0m\n",
      "\u001b[34m[171]#011train-error:0.076067#011validation-error:0.1423\u001b[0m\n",
      "\u001b[34m[13:07:11] src/tree/updater_prune.cc:74: tree pruning end, 1 roots, 14 extra nodes, 0 pruned nodes, max_depth=5\u001b[0m\n",
      "\u001b[34m[172]#011train-error:0.075867#011validation-error:0.1425\u001b[0m\n",
      "\u001b[34m[13:07:12] src/tree/updater_prune.cc:74: tree pruning end, 1 roots, 10 extra nodes, 4 pruned nodes, max_depth=5\u001b[0m\n",
      "\u001b[34m[173]#011train-error:0.075533#011validation-error:0.1422\u001b[0m\n",
      "\u001b[34m[13:07:13] src/tree/updater_prune.cc:74: tree pruning end, 1 roots, 10 extra nodes, 12 pruned nodes, max_depth=5\u001b[0m\n",
      "\u001b[34m[174]#011train-error:0.075533#011validation-error:0.1422\u001b[0m\n",
      "\u001b[34mStopping. Best iteration:\u001b[0m\n",
      "\u001b[34m[164]#011train-error:0.078067#011validation-error:0.1422\n",
      "\u001b[0m\n",
      "\n",
      "2021-10-13 13:08:06 Uploading - Uploading generated training model\n",
      "2021-10-13 13:08:13 Completed - Training job completed\n",
      "Training seconds: 361\n",
      "Billable seconds: 361\n"
     ]
    }
   ],
   "source": [
    "xgb.fit({'train': s3_input_train, 'validation': s3_input_validation})"
   ]
  },
  {
   "cell_type": "markdown",
   "metadata": {},
   "source": [
    "## Step 5: Testing the model\n",
    "\n",
    "Now that we've fit our XGBoost model, it's time to see how well it performs. To do this we will use SageMakers Batch Transform functionality. Batch Transform is a convenient way to perform inference on a large dataset in a way that is not realtime. That is, we don't necessarily need to use our model's results immediately and instead we can perform inference on a large number of samples. An example of this in industry might be performing an end of month report. This method of inference can also be useful to us as it means that we can perform inference on our entire test set. \n",
    "\n",
    "To perform a Batch Transformation we need to first create a transformer objects from our trained estimator object."
   ]
  },
  {
   "cell_type": "code",
   "execution_count": 25,
   "metadata": {},
   "outputs": [
    {
     "name": "stderr",
     "output_type": "stream",
     "text": [
      "Parameter image will be renamed to image_uri in SageMaker Python SDK v2.\n"
     ]
    }
   ],
   "source": [
    "xgb_transformer = xgb.transformer(instance_count = 1, instance_type = 'ml.m4.xlarge')"
   ]
  },
  {
   "cell_type": "markdown",
   "metadata": {},
   "source": [
    "Next we actually perform the transform job. When doing so we need to make sure to specify the type of data we are sending so that it is serialized correctly in the background. In our case we are providing our model with csv data so we specify `text/csv`. Also, if the test data that we have provided is too large to process all at once then we need to specify how the data file should be split up. Since each line is a single entry in our data set we tell SageMaker that it can split the input on each line."
   ]
  },
  {
   "cell_type": "code",
   "execution_count": 26,
   "metadata": {},
   "outputs": [],
   "source": [
    "xgb_transformer.transform(test_location, content_type='text/csv', split_type='Line')"
   ]
  },
  {
   "cell_type": "markdown",
   "metadata": {},
   "source": [
    "Currently the transform job is running but it is doing so in the background. Since we wish to wait until the transform job is done and we would like a bit of feedback we can run the `wait()` method."
   ]
  },
  {
   "cell_type": "code",
   "execution_count": 27,
   "metadata": {},
   "outputs": [
    {
     "name": "stdout",
     "output_type": "stream",
     "text": [
      ".............................\u001b[34mArguments: serve\u001b[0m\n",
      "\u001b[34m[2021-10-13 13:13:32 +0000] [1] [INFO] Starting gunicorn 19.9.0\u001b[0m\n",
      "\u001b[34m[2021-10-13 13:13:32 +0000] [1] [INFO] Listening at: http://0.0.0.0:8080 (1)\u001b[0m\n",
      "\u001b[34m[2021-10-13 13:13:32 +0000] [1] [INFO] Using worker: gevent\u001b[0m\n",
      "\u001b[34m[2021-10-13 13:13:32 +0000] [20] [INFO] Booting worker with pid: 20\u001b[0m\n",
      "\u001b[34m[2021-10-13 13:13:32 +0000] [21] [INFO] Booting worker with pid: 21\u001b[0m\n",
      "\u001b[34m/opt/amazon/lib/python3.7/site-packages/gunicorn/workers/ggevent.py:65: MonkeyPatchWarning: Monkey-patching ssl after ssl has already been imported may lead to errors, including RecursionError on Python 3.6. It may also silently lead to incorrect behaviour on Python 3.7. Please monkey-patch earlier. See https://github.com/gevent/gevent/issues/1016. Modules that had direct imports (NOT patched): ['urllib3.util (/opt/amazon/lib/python3.7/site-packages/urllib3/util/__init__.py)', 'urllib3.util.ssl_ (/opt/amazon/lib/python3.7/site-packages/urllib3/util/ssl_.py)']. \n",
      "  monkey.patch_all(subprocess=True)\u001b[0m\n",
      "\u001b[34m[2021-10-13:13:13:32:INFO] Model loaded successfully for worker : 20\u001b[0m\n",
      "\u001b[34m[2021-10-13 13:13:32 +0000] [22] [INFO] Booting worker with pid: 22\u001b[0m\n",
      "\u001b[34m/opt/amazon/lib/python3.7/site-packages/gunicorn/workers/ggevent.py:65: MonkeyPatchWarning: Monkey-patching ssl after ssl has already been imported may lead to errors, including RecursionError on Python 3.6. It may also silently lead to incorrect behaviour on Python 3.7. Please monkey-patch earlier. See https://github.com/gevent/gevent/issues/1016. Modules that had direct imports (NOT patched): ['urllib3.util (/opt/amazon/lib/python3.7/site-packages/urllib3/util/__init__.py)', 'urllib3.util.ssl_ (/opt/amazon/lib/python3.7/site-packages/urllib3/util/ssl_.py)']. \n",
      "  monkey.patch_all(subprocess=True)\u001b[0m\n",
      "\u001b[34m[2021-10-13:13:13:32:INFO] Model loaded successfully for worker : 21\u001b[0m\n",
      "\u001b[34m/opt/amazon/lib/python3.7/site-packages/gunicorn/workers/ggevent.py:65: MonkeyPatchWarning: Monkey-patching ssl after ssl has already been imported may lead to errors, including RecursionError on Python 3.6. It may also silently lead to incorrect behaviour on Python 3.7. Please monkey-patch earlier. See https://github.com/gevent/gevent/issues/1016. Modules that had direct imports (NOT patched): ['urllib3.util (/opt/amazon/lib/python3.7/site-packages/urllib3/util/__init__.py)', 'urllib3.util.ssl_ (/opt/amazon/lib/python3.7/site-packages/urllib3/util/ssl_.py)']. \n",
      "  monkey.patch_all(subprocess=True)\u001b[0m\n",
      "\u001b[34m[2021-10-13:13:13:32:INFO] Model loaded successfully for worker : 22\u001b[0m\n",
      "\u001b[34m[2021-10-13 13:13:32 +0000] [23] [INFO] Booting worker with pid: 23\u001b[0m\n",
      "\u001b[34m/opt/amazon/lib/python3.7/site-packages/gunicorn/workers/ggevent.py:65: MonkeyPatchWarning: Monkey-patching ssl after ssl has already been imported may lead to errors, including RecursionError on Python 3.6. It may also silently lead to incorrect behaviour on Python 3.7. Please monkey-patch earlier. See https://github.com/gevent/gevent/issues/1016. Modules that had direct imports (NOT patched): ['urllib3.util (/opt/amazon/lib/python3.7/site-packages/urllib3/util/__init__.py)', 'urllib3.util.ssl_ (/opt/amazon/lib/python3.7/site-packages/urllib3/util/ssl_.py)']. \n",
      "  monkey.patch_all(subprocess=True)\u001b[0m\n",
      "\u001b[34m[2021-10-13:13:13:32:INFO] Model loaded successfully for worker : 23\u001b[0m\n",
      "\u001b[32m2021-10-13T13:13:36.697:[sagemaker logs]: MaxConcurrentTransforms=4, MaxPayloadInMB=6, BatchStrategy=MULTI_RECORD\u001b[0m\n",
      "\u001b[34m[2021-10-13:13:13:40:INFO] Sniff delimiter as ','\u001b[0m\n",
      "\u001b[34m[2021-10-13:13:13:40:INFO] Determined delimiter of CSV input is ','\u001b[0m\n",
      "\u001b[34m[2021-10-13:13:13:40:INFO] Sniff delimiter as ','\u001b[0m\n",
      "\u001b[34m[2021-10-13:13:13:40:INFO] Determined delimiter of CSV input is ','\u001b[0m\n",
      "\u001b[34m[2021-10-13:13:13:40:INFO] Sniff delimiter as ','\u001b[0m\n",
      "\u001b[34m[2021-10-13:13:13:40:INFO] Determined delimiter of CSV input is ','\u001b[0m\n",
      "\u001b[34m[2021-10-13:13:13:40:INFO] Sniff delimiter as ','\u001b[0m\n",
      "\u001b[34m[2021-10-13:13:13:40:INFO] Determined delimiter of CSV input is ','\u001b[0m\n",
      "\u001b[35m[2021-10-13:13:13:40:INFO] Sniff delimiter as ','\u001b[0m\n",
      "\u001b[35m[2021-10-13:13:13:40:INFO] Determined delimiter of CSV input is ','\u001b[0m\n",
      "\u001b[35m[2021-10-13:13:13:40:INFO] Sniff delimiter as ','\u001b[0m\n",
      "\u001b[35m[2021-10-13:13:13:40:INFO] Determined delimiter of CSV input is ','\u001b[0m\n",
      "\u001b[35m[2021-10-13:13:13:40:INFO] Sniff delimiter as ','\u001b[0m\n",
      "\u001b[35m[2021-10-13:13:13:40:INFO] Determined delimiter of CSV input is ','\u001b[0m\n",
      "\u001b[35m[2021-10-13:13:13:40:INFO] Sniff delimiter as ','\u001b[0m\n",
      "\u001b[35m[2021-10-13:13:13:40:INFO] Determined delimiter of CSV input is ','\u001b[0m\n",
      "\u001b[34m[2021-10-13:13:13:43:INFO] Sniff delimiter as ','\u001b[0m\n",
      "\u001b[35m[2021-10-13:13:13:43:INFO] Sniff delimiter as ','\u001b[0m\n",
      "\u001b[34m[2021-10-13:13:13:43:INFO] Determined delimiter of CSV input is ','\u001b[0m\n",
      "\u001b[34m[2021-10-13:13:13:43:INFO] Sniff delimiter as ','\u001b[0m\n",
      "\u001b[34m[2021-10-13:13:13:43:INFO] Determined delimiter of CSV input is ','\u001b[0m\n",
      "\u001b[35m[2021-10-13:13:13:43:INFO] Determined delimiter of CSV input is ','\u001b[0m\n",
      "\u001b[35m[2021-10-13:13:13:43:INFO] Sniff delimiter as ','\u001b[0m\n",
      "\u001b[35m[2021-10-13:13:13:43:INFO] Determined delimiter of CSV input is ','\u001b[0m\n",
      "\u001b[34m[2021-10-13:13:13:44:INFO] Sniff delimiter as ','\u001b[0m\n",
      "\u001b[34m[2021-10-13:13:13:44:INFO] Determined delimiter of CSV input is ','\u001b[0m\n",
      "\u001b[34m[2021-10-13:13:13:44:INFO] Sniff delimiter as ','\u001b[0m\n",
      "\u001b[34m[2021-10-13:13:13:44:INFO] Determined delimiter of CSV input is ','\u001b[0m\n",
      "\u001b[35m[2021-10-13:13:13:44:INFO] Sniff delimiter as ','\u001b[0m\n",
      "\u001b[35m[2021-10-13:13:13:44:INFO] Determined delimiter of CSV input is ','\u001b[0m\n",
      "\u001b[35m[2021-10-13:13:13:44:INFO] Sniff delimiter as ','\u001b[0m\n",
      "\u001b[35m[2021-10-13:13:13:44:INFO] Determined delimiter of CSV input is ','\u001b[0m\n",
      "\u001b[34m[2021-10-13:13:13:47:INFO] Sniff delimiter as ','\u001b[0m\n",
      "\u001b[34m[2021-10-13:13:13:47:INFO] Determined delimiter of CSV input is ','\u001b[0m\n",
      "\u001b[35m[2021-10-13:13:13:47:INFO] Sniff delimiter as ','\u001b[0m\n",
      "\u001b[35m[2021-10-13:13:13:47:INFO] Determined delimiter of CSV input is ','\u001b[0m\n",
      "\u001b[34m[2021-10-13:13:13:48:INFO] Sniff delimiter as ','\u001b[0m\n",
      "\u001b[34m[2021-10-13:13:13:48:INFO] Determined delimiter of CSV input is ','\u001b[0m\n",
      "\u001b[35m[2021-10-13:13:13:48:INFO] Sniff delimiter as ','\u001b[0m\n",
      "\u001b[35m[2021-10-13:13:13:48:INFO] Determined delimiter of CSV input is ','\u001b[0m\n",
      "\u001b[34m[2021-10-13:13:13:51:INFO] Sniff delimiter as ','\u001b[0m\n",
      "\u001b[34m[2021-10-13:13:13:51:INFO] Determined delimiter of CSV input is ','\u001b[0m\n",
      "\u001b[34m[2021-10-13:13:13:51:INFO] Sniff delimiter as ','\u001b[0m\n",
      "\u001b[34m[2021-10-13:13:13:51:INFO] Determined delimiter of CSV input is ','\u001b[0m\n",
      "\u001b[34m[2021-10-13:13:13:51:INFO] Sniff delimiter as ','\u001b[0m\n",
      "\u001b[34m[2021-10-13:13:13:51:INFO] Determined delimiter of CSV input is ','\u001b[0m\n",
      "\u001b[34m[2021-10-13:13:13:51:INFO] Sniff delimiter as ','\u001b[0m\n",
      "\u001b[34m[2021-10-13:13:13:51:INFO] Determined delimiter of CSV input is ','\u001b[0m\n",
      "\u001b[35m[2021-10-13:13:13:51:INFO] Sniff delimiter as ','\u001b[0m\n",
      "\u001b[35m[2021-10-13:13:13:51:INFO] Determined delimiter of CSV input is ','\u001b[0m\n",
      "\u001b[35m[2021-10-13:13:13:51:INFO] Sniff delimiter as ','\u001b[0m\n",
      "\u001b[35m[2021-10-13:13:13:51:INFO] Determined delimiter of CSV input is ','\u001b[0m\n",
      "\u001b[35m[2021-10-13:13:13:51:INFO] Sniff delimiter as ','\u001b[0m\n",
      "\u001b[35m[2021-10-13:13:13:51:INFO] Determined delimiter of CSV input is ','\u001b[0m\n",
      "\u001b[35m[2021-10-13:13:13:51:INFO] Sniff delimiter as ','\u001b[0m\n",
      "\u001b[35m[2021-10-13:13:13:51:INFO] Determined delimiter of CSV input is ','\u001b[0m\n",
      "\u001b[34m[2021-10-13:13:13:55:INFO] Sniff delimiter as ','\u001b[0m\n",
      "\u001b[35m[2021-10-13:13:13:55:INFO] Sniff delimiter as ','\u001b[0m\n",
      "\u001b[34m[2021-10-13:13:13:55:INFO] Determined delimiter of CSV input is ','\u001b[0m\n",
      "\u001b[34m[2021-10-13:13:13:55:INFO] Sniff delimiter as ','\u001b[0m\n",
      "\u001b[34m[2021-10-13:13:13:55:INFO] Determined delimiter of CSV input is ','\u001b[0m\n",
      "\u001b[34m[2021-10-13:13:13:55:INFO] Sniff delimiter as ','\u001b[0m\n",
      "\u001b[34m[2021-10-13:13:13:55:INFO] Determined delimiter of CSV input is ','\u001b[0m\n",
      "\u001b[34m[2021-10-13:13:13:55:INFO] Sniff delimiter as ','\u001b[0m\n",
      "\u001b[34m[2021-10-13:13:13:55:INFO] Determined delimiter of CSV input is ','\u001b[0m\n",
      "\u001b[35m[2021-10-13:13:13:55:INFO] Determined delimiter of CSV input is ','\u001b[0m\n",
      "\u001b[35m[2021-10-13:13:13:55:INFO] Sniff delimiter as ','\u001b[0m\n",
      "\u001b[35m[2021-10-13:13:13:55:INFO] Determined delimiter of CSV input is ','\u001b[0m\n",
      "\u001b[35m[2021-10-13:13:13:55:INFO] Sniff delimiter as ','\u001b[0m\n",
      "\u001b[35m[2021-10-13:13:13:55:INFO] Determined delimiter of CSV input is ','\u001b[0m\n",
      "\u001b[35m[2021-10-13:13:13:55:INFO] Sniff delimiter as ','\u001b[0m\n",
      "\u001b[35m[2021-10-13:13:13:55:INFO] Determined delimiter of CSV input is ','\u001b[0m\n",
      "\u001b[34m[2021-10-13:13:13:58:INFO] Sniff delimiter as ','\u001b[0m\n",
      "\u001b[34m[2021-10-13:13:13:58:INFO] Determined delimiter of CSV input is ','\u001b[0m\n",
      "\u001b[35m[2021-10-13:13:13:58:INFO] Sniff delimiter as ','\u001b[0m\n",
      "\u001b[35m[2021-10-13:13:13:58:INFO] Determined delimiter of CSV input is ','\u001b[0m\n",
      "\u001b[34m[2021-10-13:13:13:58:INFO] Sniff delimiter as ','\u001b[0m\n",
      "\u001b[35m[2021-10-13:13:13:58:INFO] Sniff delimiter as ','\u001b[0m\n",
      "\u001b[34m[2021-10-13:13:13:58:INFO] Determined delimiter of CSV input is ','\u001b[0m\n",
      "\u001b[34m[2021-10-13:13:13:59:INFO] Sniff delimiter as ','\u001b[0m\n",
      "\u001b[34m[2021-10-13:13:13:59:INFO] Determined delimiter of CSV input is ','\u001b[0m\n",
      "\u001b[34m[2021-10-13:13:13:59:INFO] Sniff delimiter as ','\u001b[0m\n",
      "\u001b[34m[2021-10-13:13:13:59:INFO] Determined delimiter of CSV input is ','\u001b[0m\n",
      "\u001b[35m[2021-10-13:13:13:58:INFO] Determined delimiter of CSV input is ','\u001b[0m\n",
      "\u001b[35m[2021-10-13:13:13:59:INFO] Sniff delimiter as ','\u001b[0m\n",
      "\u001b[35m[2021-10-13:13:13:59:INFO] Determined delimiter of CSV input is ','\u001b[0m\n",
      "\u001b[35m[2021-10-13:13:13:59:INFO] Sniff delimiter as ','\u001b[0m\n",
      "\u001b[35m[2021-10-13:13:13:59:INFO] Determined delimiter of CSV input is ','\u001b[0m\n",
      "\u001b[34m[2021-10-13:13:14:03:INFO] Determined delimiter of CSV input is ','\u001b[0m\n",
      "\u001b[34m[2021-10-13:13:14:03:INFO] Sniff delimiter as ','\u001b[0m\n",
      "\u001b[34m[2021-10-13:13:14:03:INFO] Determined delimiter of CSV input is ','\u001b[0m\n",
      "\u001b[35m[2021-10-13:13:14:03:INFO] Determined delimiter of CSV input is ','\u001b[0m\n",
      "\u001b[35m[2021-10-13:13:14:03:INFO] Sniff delimiter as ','\u001b[0m\n",
      "\u001b[35m[2021-10-13:13:14:03:INFO] Determined delimiter of CSV input is ','\u001b[0m\n",
      "\u001b[34m[2021-10-13:13:14:06:INFO] Sniff delimiter as ','\u001b[0m\n",
      "\u001b[34m[2021-10-13:13:14:06:INFO] Determined delimiter of CSV input is ','\u001b[0m\n",
      "\u001b[34m[2021-10-13:13:14:06:INFO] Sniff delimiter as ','\u001b[0m\n",
      "\u001b[34m[2021-10-13:13:14:06:INFO] Determined delimiter of CSV input is ','\u001b[0m\n",
      "\u001b[34m[2021-10-13:13:14:06:INFO] Sniff delimiter as ','\u001b[0m\n",
      "\u001b[34m[2021-10-13:13:14:06:INFO] Determined delimiter of CSV input is ','\u001b[0m\n",
      "\u001b[34m[2021-10-13:13:14:06:INFO] Sniff delimiter as ','\u001b[0m\n",
      "\u001b[34m[2021-10-13:13:14:06:INFO] Determined delimiter of CSV input is ','\u001b[0m\n",
      "\u001b[35m[2021-10-13:13:14:06:INFO] Sniff delimiter as ','\u001b[0m\n",
      "\u001b[35m[2021-10-13:13:14:06:INFO] Determined delimiter of CSV input is ','\u001b[0m\n",
      "\u001b[35m[2021-10-13:13:14:06:INFO] Sniff delimiter as ','\u001b[0m\n",
      "\u001b[35m[2021-10-13:13:14:06:INFO] Determined delimiter of CSV input is ','\u001b[0m\n",
      "\u001b[35m[2021-10-13:13:14:06:INFO] Sniff delimiter as ','\u001b[0m\n",
      "\u001b[35m[2021-10-13:13:14:06:INFO] Determined delimiter of CSV input is ','\u001b[0m\n",
      "\u001b[35m[2021-10-13:13:14:06:INFO] Sniff delimiter as ','\u001b[0m\n",
      "\u001b[35m[2021-10-13:13:14:06:INFO] Determined delimiter of CSV input is ','\u001b[0m\n",
      "\n",
      "\u001b[34m[2021-10-13:13:14:13:INFO] Sniff delimiter as ','\u001b[0m\n",
      "\u001b[34m[2021-10-13:13:14:13:INFO] Determined delimiter of CSV input is ','\u001b[0m\n",
      "\u001b[35m[2021-10-13:13:14:13:INFO] Sniff delimiter as ','\u001b[0m\n",
      "\u001b[35m[2021-10-13:13:14:13:INFO] Determined delimiter of CSV input is ','\u001b[0m\n",
      "\u001b[34m[2021-10-13:13:14:14:INFO] Sniff delimiter as ','\u001b[0m\n",
      "\u001b[34m[2021-10-13:13:14:14:INFO] Determined delimiter of CSV input is ','\u001b[0m\n",
      "\u001b[34m[2021-10-13:13:14:14:INFO] Sniff delimiter as ','\u001b[0m\n",
      "\u001b[34m[2021-10-13:13:14:14:INFO] Determined delimiter of CSV input is ','\u001b[0m\n",
      "\u001b[34m[2021-10-13:13:14:14:INFO] Sniff delimiter as ','\u001b[0m\n",
      "\u001b[34m[2021-10-13:13:14:14:INFO] Determined delimiter of CSV input is ','\u001b[0m\n",
      "\u001b[35m[2021-10-13:13:14:14:INFO] Sniff delimiter as ','\u001b[0m\n",
      "\u001b[35m[2021-10-13:13:14:14:INFO] Determined delimiter of CSV input is ','\u001b[0m\n",
      "\u001b[35m[2021-10-13:13:14:14:INFO] Sniff delimiter as ','\u001b[0m\n",
      "\u001b[35m[2021-10-13:13:14:14:INFO] Determined delimiter of CSV input is ','\u001b[0m\n",
      "\u001b[35m[2021-10-13:13:14:14:INFO] Sniff delimiter as ','\u001b[0m\n",
      "\u001b[35m[2021-10-13:13:14:14:INFO] Determined delimiter of CSV input is ','\u001b[0m\n"
     ]
    }
   ],
   "source": [
    "xgb_transformer.wait()"
   ]
  },
  {
   "cell_type": "markdown",
   "metadata": {},
   "source": [
    "Now the transform job has executed and the result, the estimated sentiment of each review, has been saved on S3. Since we would rather work on this file locally we can perform a bit of notebook magic to copy the file to the `data_dir`."
   ]
  },
  {
   "cell_type": "code",
   "execution_count": 28,
   "metadata": {},
   "outputs": [
    {
     "name": "stdout",
     "output_type": "stream",
     "text": [
      "download: s3://sagemaker-eu-west-1-558298806682/xgboost-2021-10-13-13-08-49-839/test.csv.out to ../data/sentiment_web_app/test.csv.out\r\n"
     ]
    }
   ],
   "source": [
    "!aws s3 cp --recursive $xgb_transformer.output_path $data_dir"
   ]
  },
  {
   "cell_type": "markdown",
   "metadata": {},
   "source": [
    "The last step is now to read in the output from our model, convert the output to something a little more usable, in this case we want the sentiment to be either `1` (positive) or `0` (negative), and then compare to the ground truth labels."
   ]
  },
  {
   "cell_type": "code",
   "execution_count": 29,
   "metadata": {},
   "outputs": [],
   "source": [
    "predictions = pd.read_csv(os.path.join(data_dir, 'test.csv.out'), header=None)\n",
    "predictions = [round(num) for num in predictions.squeeze().values]"
   ]
  },
  {
   "cell_type": "code",
   "execution_count": 30,
   "metadata": {},
   "outputs": [
    {
     "data": {
      "text/plain": [
       "0.8608"
      ]
     },
     "execution_count": 30,
     "metadata": {},
     "output_type": "execute_result"
    }
   ],
   "source": [
    "from sklearn.metrics import accuracy_score\n",
    "accuracy_score(test_y, predictions)"
   ]
  },
  {
   "cell_type": "markdown",
   "metadata": {},
   "source": [
    "## Step 6: Deploying the model\n",
    "\n",
    "Once we construct and fit our model, SageMaker stores the resulting model artifacts and we can use those to deploy an endpoint (inference code). To see this, look in the SageMaker console and you should see that a model has been created along with a link to the S3 location where the model artifacts have been stored.\n",
    "\n",
    "Deploying an endpoint is a lot like training the model with a few important differences. The first is that a deployed model doesn't change the model artifacts, so as you send it various testing instances the model won't change. Another difference is that since we aren't performing a fixed computation, as we were in the training step or while performing a batch transform, the compute instance that gets started stays running until we tell it to stop. This is important to note as if we forget and leave it running we will be charged the entire time.\n",
    "\n",
    "In other words **If you are no longer using a deployed endpoint, shut it down!**"
   ]
  },
  {
   "cell_type": "code",
   "execution_count": 31,
   "metadata": {},
   "outputs": [
    {
     "name": "stderr",
     "output_type": "stream",
     "text": [
      "Parameter image will be renamed to image_uri in SageMaker Python SDK v2.\n",
      "Using already existing model: xgboost-2021-10-13-12-59-31-098\n"
     ]
    },
    {
     "name": "stdout",
     "output_type": "stream",
     "text": [
      "-------------!"
     ]
    }
   ],
   "source": [
    "xgb_predictor = xgb.deploy(initial_instance_count = 1, instance_type = 'ml.m4.xlarge')"
   ]
  },
  {
   "cell_type": "markdown",
   "metadata": {},
   "source": [
    "### Testing the model (again)\n",
    "\n",
    "Now that we have deployed our endpoint, we can send the testing data to it and get back the inference results. We already did this earlier using the batch transform functionality of SageMaker, however, we will test our model again using the newly deployed endpoint so that we can make sure that it works properly and to get a bit of a feel for how the endpoint works.\n",
    "\n",
    "When using the created endpoint it is important to know that we are limited in the amount of information we can send in each call so we need to break the testing data up into chunks and then send each chunk. Also, we need to serialize our data before we send it to the endpoint to ensure that our data is transmitted properly. Fortunately, SageMaker can do the serialization part for us provided we tell it the format of our data."
   ]
  },
  {
   "cell_type": "code",
   "execution_count": 32,
   "metadata": {},
   "outputs": [],
   "source": [
    "from sagemaker.predictor import csv_serializer\n",
    "\n",
    "# We need to tell the endpoint what format the data we are sending is in so that SageMaker can perform the serialization.\n",
    "xgb_predictor.content_type = 'text/csv'\n",
    "xgb_predictor.serializer = csv_serializer"
   ]
  },
  {
   "cell_type": "code",
   "execution_count": 33,
   "metadata": {},
   "outputs": [],
   "source": [
    "# We split the data into chunks and send each chunk seperately, accumulating the results.\n",
    "\n",
    "def predict(data, rows=512):\n",
    "    split_array = np.array_split(data, int(data.shape[0] / float(rows) + 1))\n",
    "    predictions = ''\n",
    "    for array in split_array:\n",
    "        predictions = ','.join([predictions, xgb_predictor.predict(array).decode('utf-8')])\n",
    "    \n",
    "    return np.fromstring(predictions[1:], sep=',')"
   ]
  },
  {
   "cell_type": "code",
   "execution_count": 34,
   "metadata": {},
   "outputs": [],
   "source": [
    "test_X = pd.read_csv(os.path.join(data_dir, 'test.csv'), header=None).values\n",
    "\n",
    "predictions = predict(test_X)\n",
    "predictions = [round(num) for num in predictions]"
   ]
  },
  {
   "cell_type": "markdown",
   "metadata": {},
   "source": [
    "Lastly, we check to see what the accuracy of our model is."
   ]
  },
  {
   "cell_type": "code",
   "execution_count": 35,
   "metadata": {},
   "outputs": [
    {
     "data": {
      "text/plain": [
       "0.8608"
      ]
     },
     "execution_count": 35,
     "metadata": {},
     "output_type": "execute_result"
    }
   ],
   "source": [
    "from sklearn.metrics import accuracy_score\n",
    "accuracy_score(test_y, predictions)"
   ]
  },
  {
   "cell_type": "markdown",
   "metadata": {},
   "source": [
    "And the results here should agree with the model testing that we did earlier using the batch transform job.\n",
    "\n",
    "### Cleaning up\n",
    "\n",
    "Now that we've determined that deploying our model works as expected, we are going to shut it down. Remember that the longer the endpoint is left running, the greater the cost and since we have a bit more work to do before we are able to use our endpoint with our simple web app, we should shut everything down."
   ]
  },
  {
   "cell_type": "code",
   "execution_count": 36,
   "metadata": {},
   "outputs": [],
   "source": [
    "xgb_predictor.delete_endpoint()"
   ]
  },
  {
   "cell_type": "markdown",
   "metadata": {},
   "source": [
    "## Step 7: Putting our model to work\n",
    "\n",
    "As we've mentioned a few times now, our goal is to have our model deployed and then access it using a very simple web app. The intent is for this web app to take some user submitted data (a review), send it off to our endpoint (the model) and then display the result.\n",
    "\n",
    "However, there is a small catch. Currently the only way we can access the endpoint to send it data is using the SageMaker API. We can, if we wish, expose the actual URL that our model's endpoint is receiving data from, however, if we just send it data ourselves we will not get anything in return. This is because the endpoint created by SageMaker requires the entity accessing it have the correct permissions. So, we would need to somehow authenticate our web app with AWS.\n",
    "\n",
    "Having a website that authenticates to AWS seems a bit beyond the scope of this lesson so we will opt for an alternative approach. Namely, we will create a new endpoint which does not require authentication and which acts as a proxy for the SageMaker endpoint.\n",
    "\n",
    "As an additional constraint, we will try to avoid doing any data processing in the web app itself. Remember that when we constructed and tested our model we started with a movie review, then we simplified it by removing any html formatting and punctuation, then we constructed a bag of words embedding and the resulting vector is what we sent to our model. All of this needs to be done to our user input as well.\n",
    "\n",
    "Fortunately we can do all of this data processing in the backend, using Amazon's Lambda service.\n",
    "\n",
    "<img src=\"Web App Diagram.svg\">\n",
    "\n",
    "The diagram above gives an overview of how the various services will work together. On the far right is the model which we trained above and which will be deployed using SageMaker. On the far left is our web app that collects a user's movie review, sends it off and expects a positive or negative sentiment in return.\n",
    "\n",
    "In the middle is where some of the magic happens. We will construct a Lambda function, which you can think of as a straightforward Python function that can be executed whenever a specified event occurs. This Python function will do the data processing we need to perform on a user submitted review. In addition, we will give this function permission to send and recieve data from a SageMaker endpoint.\n",
    "\n",
    "Lastly, the method we will use to execute the Lambda function is a new endpoint that we will create using API Gateway. This endpoint will be a url that listens for data to be sent to it. Once it gets some data it will pass that data on to the Lambda function and then return whatever the Lambda function returns. Essentially it will act as an interface that lets our web app communicate with the Lambda function.\n",
    "\n",
    "### Processing a single review\n",
    "\n",
    "For now, suppose we are given a movie review by our user in the form of a string, like so:"
   ]
  },
  {
   "cell_type": "code",
   "execution_count": 37,
   "metadata": {},
   "outputs": [],
   "source": [
    "test_review = \"Nothing but a disgusting materialistic pageant of glistening abed remote control greed zombies, totally devoid of any heart or heat. A romantic comedy that has zero romantic chemestry and zero laughs!\""
   ]
  },
  {
   "cell_type": "markdown",
   "metadata": {},
   "source": [
    "How do we go from this string to the bag of words feature vector that is expected by our model?\n",
    "\n",
    "If we recall at the beginning of this notebook, the first step is to remove any unnecessary characters using the `review_to_words` method. Remember that we intentionally did this in a very simplistic way. This is because we are going to have to copy this method to our (eventual) Lambda function (we will go into more detail later) and this means it needs to be rather simplistic."
   ]
  },
  {
   "cell_type": "code",
   "execution_count": 38,
   "metadata": {},
   "outputs": [
    {
     "name": "stdout",
     "output_type": "stream",
     "text": [
      "nothing but a disgusting materialistic pageant of glistening abed remote control greed zombies totally devoid of any heart or heat a romantic comedy that has zero romantic chemestry and zero laughs\n"
     ]
    }
   ],
   "source": [
    "test_words = review_to_words(test_review)\n",
    "print(test_words)"
   ]
  },
  {
   "cell_type": "markdown",
   "metadata": {},
   "source": [
    "Next, we need to construct a bag of words embedding of the `test_words` string. To do this, remember that a bag of words embedding uses a `vocabulary` consisting of the most frequently appearing words in a set of documents. Then, for each word in the vocabulary we record the number of times that word appears in `test_words`. We constructed the `vocabulary` earlier using the training set for our problem so encoding `test_words` is relatively straightforward."
   ]
  },
  {
   "cell_type": "code",
   "execution_count": 39,
   "metadata": {},
   "outputs": [],
   "source": [
    "def bow_encoding(words, vocabulary):\n",
    "    bow = [0] * len(vocabulary) # Start by setting the count for each word in the vocabulary to zero.\n",
    "    for word in words.split():  # For each word in the string\n",
    "        if word in vocabulary:  # If the word is one that occurs in the vocabulary, increase its count.\n",
    "            bow[vocabulary[word]] += 1\n",
    "    return bow"
   ]
  },
  {
   "cell_type": "code",
   "execution_count": 40,
   "metadata": {},
   "outputs": [
    {
     "name": "stdout",
     "output_type": "stream",
     "text": [
      "[0, 0, 0, 0, 0, 0, 0, 0, 0, 0, 0, 0, 0, 0, 0, 0, 0, 0, 0, 0, 0, 0, 0, 0, 0, 0, 0, 0, 0, 0, 0, 0, 0, 0, 0, 0, 0, 0, 0, 0, 0, 0, 0, 0, 0, 0, 0, 0, 0, 0, 0, 0, 0, 0, 0, 0, 0, 0, 0, 0, 0, 0, 0, 0, 0, 0, 0, 0, 0, 0, 0, 0, 0, 0, 0, 0, 0, 0, 0, 0, 0, 0, 0, 0, 0, 0, 0, 0, 0, 0, 0, 0, 0, 0, 0, 0, 0, 0, 0, 0, 0, 0, 0, 0, 0, 0, 0, 0, 0, 0, 0, 0, 0, 0, 0, 0, 0, 0, 0, 0, 0, 0, 0, 0, 0, 0, 0, 0, 0, 0, 0, 0, 0, 0, 0, 0, 0, 0, 0, 0, 0, 0, 0, 0, 0, 0, 0, 0, 0, 0, 0, 0, 0, 0, 0, 0, 0, 0, 0, 0, 0, 0, 0, 0, 0, 0, 0, 0, 0, 0, 0, 0, 0, 0, 0, 0, 0, 0, 0, 0, 0, 0, 0, 0, 0, 0, 0, 0, 0, 0, 0, 0, 0, 0, 0, 0, 0, 0, 0, 0, 0, 0, 0, 0, 0, 0, 0, 0, 0, 0, 0, 0, 0, 0, 0, 0, 0, 0, 0, 0, 0, 0, 0, 0, 0, 0, 1, 0, 0, 0, 0, 0, 0, 0, 0, 0, 0, 0, 0, 0, 0, 0, 0, 0, 0, 0, 0, 0, 0, 0, 0, 0, 0, 0, 0, 0, 1, 0, 0, 0, 0, 0, 0, 0, 0, 0, 0, 0, 0, 0, 0, 0, 0, 0, 0, 0, 0, 0, 0, 0, 0, 0, 0, 0, 0, 0, 0, 0, 0, 0, 0, 0, 0, 0, 0, 0, 0, 0, 0, 0, 0, 0, 0, 0, 0, 0, 0, 0, 0, 0, 0, 0, 0, 0, 0, 0, 0, 0, 0, 0, 0, 0, 0, 0, 0, 0, 0, 0, 0, 0, 0, 0, 0, 0, 0, 0, 0, 0, 0, 0, 0, 0, 0, 0, 0, 0, 0, 0, 0, 0, 0, 0, 0, 0, 0, 0, 0, 0, 0, 0, 0, 0, 0, 0, 0, 0, 0, 0, 0, 0, 0, 0, 0, 0, 0, 0, 0, 0, 0, 0, 0, 0, 0, 0, 0, 0, 0, 0, 0, 0, 0, 0, 0, 0, 0, 0, 0, 0, 0, 0, 0, 0, 0, 0, 0, 0, 0, 0, 0, 0, 0, 0, 0, 0, 0, 0, 0, 0, 0, 0, 0, 0, 0, 0, 0, 0, 0, 0, 0, 0, 0, 0, 0, 0, 0, 0, 0, 0, 0, 0, 0, 0, 0, 0, 0, 0, 0, 0, 0, 0, 0, 0, 0, 0, 0, 0, 0, 0, 0, 0, 0, 0, 0, 0, 0, 0, 0, 0, 0, 0, 0, 0, 0, 0, 0, 0, 0, 0, 0, 0, 0, 0, 0, 0, 0, 0, 0, 0, 0, 0, 0, 0, 0, 0, 0, 0, 0, 0, 0, 0, 0, 0, 0, 0, 0, 0, 0, 0, 0, 0, 0, 0, 0, 0, 0, 0, 0, 0, 0, 0, 0, 0, 0, 0, 0, 0, 0, 0, 0, 0, 0, 0, 0, 0, 0, 0, 0, 0, 0, 0, 0, 0, 0, 0, 0, 0, 0, 0, 0, 0, 0, 0, 0, 0, 0, 0, 0, 0, 0, 0, 0, 0, 0, 0, 0, 0, 0, 0, 0, 0, 0, 0, 0, 0, 0, 0, 0, 0, 0, 0, 0, 0, 0, 0, 0, 0, 0, 0, 0, 0, 0, 0, 0, 0, 0, 0, 0, 0, 0, 0, 0, 0, 0, 0, 0, 0, 0, 0, 0, 0, 0, 0, 0, 0, 0, 0, 0, 0, 0, 0, 0, 0, 0, 0, 0, 0, 0, 0, 0, 0, 0, 0, 0, 0, 0, 0, 1, 0, 0, 0, 0, 0, 0, 0, 0, 0, 0, 0, 0, 0, 0, 0, 0, 0, 0, 0, 0, 0, 0, 0, 0, 0, 0, 0, 0, 0, 0, 0, 0, 0, 0, 0, 0, 0, 0, 0, 0, 0, 0, 0, 0, 0, 0, 0, 0, 0, 0, 0, 0, 0, 0, 0, 0, 0, 0, 0, 0, 0, 0, 0, 0, 0, 0, 0, 0, 0, 0, 0, 0, 0, 0, 0, 0, 0, 0, 0, 0, 0, 0, 0, 0, 0, 0, 0, 0, 0, 0, 0, 0, 0, 0, 0, 0, 0, 0, 0, 0, 0, 0, 0, 0, 0, 0, 0, 0, 0, 0, 0, 0, 0, 0, 0, 0, 0, 0, 0, 0, 0, 0, 0, 0, 0, 0, 0, 0, 0, 0, 0, 0, 0, 0, 0, 0, 0, 0, 0, 0, 0, 0, 0, 0, 0, 0, 0, 0, 0, 0, 0, 0, 0, 0, 0, 0, 0, 0, 0, 0, 0, 0, 0, 0, 0, 0, 0, 0, 0, 0, 0, 0, 0, 0, 0, 0, 0, 0, 0, 0, 0, 0, 0, 0, 0, 0, 0, 0, 0, 0, 0, 0, 0, 0, 0, 0, 0, 0, 0, 0, 0, 0, 0, 0, 0, 0, 0, 0, 0, 0, 0, 0, 0, 0, 0, 0, 0, 0, 0, 0, 0, 0, 0, 0, 0, 0, 0, 0, 0, 0, 0, 0, 0, 0, 0, 0, 0, 0, 0, 0, 0, 0, 0, 0, 0, 0, 0, 0, 0, 0, 0, 0, 0, 1, 0, 0, 0, 0, 0, 0, 0, 0, 0, 0, 0, 0, 0, 0, 0, 0, 0, 0, 0, 0, 0, 0, 0, 0, 0, 0, 0, 0, 0, 0, 0, 0, 0, 0, 0, 0, 0, 0, 0, 0, 0, 0, 0, 0, 0, 0, 0, 0, 0, 0, 0, 0, 0, 0, 0, 0, 0, 0, 0, 0, 0, 0, 0, 0, 0, 0, 0, 0, 0, 0, 0, 0, 0, 0, 0, 0, 0, 0, 0, 0, 0, 0, 0, 0, 0, 0, 1, 0, 0, 0, 0, 0, 0, 0, 0, 0, 0, 0, 0, 0, 0, 0, 0, 0, 0, 0, 0, 0, 0, 0, 0, 0, 0, 0, 0, 0, 0, 0, 0, 0, 0, 0, 0, 0, 0, 0, 0, 0, 0, 0, 0, 0, 0, 0, 0, 0, 0, 0, 0, 0, 0, 0, 0, 0, 0, 0, 0, 0, 0, 0, 0, 0, 0, 0, 0, 0, 0, 0, 0, 0, 0, 0, 0, 0, 0, 0, 0, 0, 0, 0, 0, 0, 0, 0, 0, 0, 0, 0, 0, 0, 0, 0, 0, 0, 0, 0, 0, 0, 0, 0, 0, 0, 0, 0, 0, 0, 0, 0, 0, 0, 0, 0, 0, 0, 0, 0, 0, 0, 0, 0, 0, 0, 0, 0, 0, 0, 0, 0, 0, 0, 0, 0, 0, 0, 0, 0, 0, 0, 0, 0, 0, 0, 0, 0, 0, 0, 0, 0, 0, 0, 0, 0, 0, 0, 0, 0, 0, 0, 0, 0, 0, 0, 0, 0, 0, 0, 0, 0, 0, 0, 0, 0, 0, 0, 0, 0, 0, 0, 0, 0, 0, 0, 0, 0, 0, 0, 0, 0, 0, 0, 0, 0, 0, 0, 0, 0, 0, 0, 0, 0, 0, 0, 0, 0, 0, 0, 0, 0, 0, 0, 0, 0, 0, 0, 0, 0, 0, 0, 0, 0, 0, 0, 0, 0, 0, 0, 0, 0, 0, 0, 0, 0, 0, 0, 0, 0, 0, 0, 0, 0, 0, 0, 0, 0, 0, 0, 0, 0, 0, 1, 0, 0, 0, 0, 0, 0, 0, 0, 0, 0, 0, 0, 0, 0, 0, 0, 0, 0, 0, 0, 0, 0, 0, 0, 0, 0, 0, 0, 0, 0, 0, 0, 0, 0, 0, 0, 0, 0, 0, 0, 0, 0, 0, 0, 0, 0, 0, 0, 0, 0, 0, 0, 0, 0, 0, 1, 0, 0, 0, 0, 0, 0, 0, 0, 0, 0, 0, 0, 0, 0, 0, 0, 0, 0, 0, 0, 0, 0, 0, 0, 0, 0, 0, 0, 0, 0, 0, 0, 0, 0, 0, 0, 0, 0, 0, 0, 0, 0, 0, 0, 0, 0, 0, 0, 0, 0, 0, 0, 0, 0, 0, 0, 0, 0, 0, 0, 0, 0, 0, 0, 0, 0, 0, 0, 0, 0, 0, 0, 0, 0, 0, 0, 0, 0, 0, 0, 0, 0, 0, 0, 0, 0, 0, 0, 0, 0, 0, 0, 0, 0, 0, 0, 0, 0, 0, 0, 0, 0, 0, 0, 0, 0, 0, 0, 0, 0, 0, 0, 0, 0, 0, 0, 0, 0, 0, 0, 0, 0, 0, 0, 0, 0, 0, 0, 0, 0, 0, 0, 0, 0, 0, 0, 0, 0, 0, 0, 0, 0, 0, 0, 0, 0, 0, 0, 0, 0, 0, 0, 0, 0, 0, 0, 0, 0, 0, 0, 0, 0, 0, 0, 0, 0, 0, 0, 0, 0, 0, 0, 0, 0, 0, 0, 0, 0, 0, 0, 0, 0, 0, 0, 0, 0, 0, 0, 0, 0, 0, 0, 0, 0, 0, 0, 0, 0, 0, 0, 0, 0, 0, 0, 0, 0, 0, 0, 0, 0, 0, 0, 0, 0, 0, 0, 0, 0, 0, 0, 0, 0, 0, 0, 0, 0, 0, 0, 0, 0, 0, 0, 0, 0, 0, 0, 0, 0, 0, 0, 0, 0, 0, 0, 0, 0, 0, 0, 0, 0, 0, 0, 0, 0, 0, 0, 0, 0, 0, 0, 0, 0, 0, 0, 0, 0, 0, 0, 0, 0, 0, 0, 0, 0, 0, 0, 0, 0, 0, 0, 0, 0, 0, 0, 0, 0, 0, 0, 0, 0, 0, 0, 0, 0, 0, 0, 0, 0, 0, 0, 0, 0, 0, 0, 0, 0, 0, 0, 0, 0, 0, 0, 0, 0, 0, 0, 0, 0, 0, 0, 0, 0, 0, 0, 0, 0, 0, 0, 0, 0, 0, 0, 0, 0, 0, 0, 0, 0, 0, 0, 0, 0, 0, 0, 0, 0, 0, 0, 0, 0, 0, 0, 0, 0, 0, 0, 0, 0, 0, 0, 0, 0, 0, 0, 0, 0, 0, 0, 0, 0, 0, 0, 0, 0, 0, 0, 0, 0, 0, 0, 0, 0, 0, 0, 0, 0, 0, 0, 0, 0, 0, 0, 0, 0, 0, 0, 0, 0, 0, 0, 0, 0, 0, 0, 0, 0, 0, 0, 0, 0, 0, 0, 0, 0, 0, 0, 0, 0, 0, 0, 0, 0, 0, 0, 0, 0, 0, 0, 0, 0, 0, 0, 0, 0, 0, 0, 0, 0, 0, 0, 0, 0, 0, 0, 0, 0, 0, 0, 0, 0, 0, 0, 0, 0, 0, 0, 0, 0, 0, 0, 0, 0, 0, 0, 0, 0, 0, 0, 0, 0, 0, 0, 0, 0, 0, 0, 0, 0, 0, 0, 0, 0, 0, 0, 0, 0, 0, 0, 0, 0, 0, 0, 0, 0, 0, 0, 0, 0, 0, 0, 0, 0, 0, 0, 0, 0, 0, 0, 0, 0, 0, 0, 0, 0, 0, 0, 0, 0, 0, 0, 0, 0, 0, 0, 0, 0, 0, 0, 0, 0, 0, 0, 0, 0, 0, 0, 0, 0, 0, 0, 0, 0, 0, 0, 0, 0, 0, 0, 0, 0, 0, 0, 0, 0, 0, 0, 0, 0, 0, 0, 0, 0, 0, 0, 0, 0, 0, 0, 0, 0, 0, 0, 0, 0, 0, 0, 0, 0, 0, 0, 0, 0, 0, 0, 0, 0, 0, 0, 0, 0, 0, 0, 0, 0, 0, 0, 0, 0, 0, 0, 0, 0, 0, 0, 0, 0, 0, 0, 0, 0, 0, 0, 0, 0, 0, 0, 0, 0, 0, 0, 0, 0, 0, 0, 0, 0, 0, 0, 0, 0, 0, 0, 0, 0, 0, 0, 0, 0, 0, 0, 0, 0, 0, 0, 0, 0, 0, 0, 0, 0, 0, 0, 0, 0, 0, 0, 0, 0, 0, 0, 0, 0, 0, 0, 0, 0, 0, 0, 0, 0, 0, 0, 0, 0, 0, 0, 0, 0, 0, 0, 0, 1, 0, 0, 0, 0, 0, 0, 0, 0, 0, 0, 0, 0, 0, 0, 0, 0, 0, 0, 0, 0, 0, 0, 0, 0, 0, 0, 0, 0, 0, 0, 0, 0, 0, 0, 0, 0, 0, 0, 0, 0, 0, 0, 0, 0, 0, 0, 0, 0, 0, 0, 0, 0, 0, 0, 0, 0, 0, 0, 0, 0, 0, 0, 0, 0, 0, 0, 0, 0, 0, 0, 0, 0, 0, 0, 1, 0, 0, 0, 0, 0, 0, 0, 0, 0, 0, 0, 0, 0, 0, 0, 0, 0, 0, 0, 0, 1, 0, 0, 1, 0, 0, 0, 0, 0, 0, 0, 0, 0, 0, 0, 0, 0, 0, 0, 0, 0, 0, 0, 0, 0, 0, 0, 0, 0, 0, 0, 0, 0, 0, 0, 0, 0, 0, 0, 0, 0, 0, 0, 0, 0, 0, 0, 0, 0, 0, 0, 0, 0, 0, 0, 0, 0, 0, 0, 0, 0, 0, 0, 0, 0, 0, 0, 0, 0, 0, 0, 0, 0, 0, 0, 0, 0, 0, 0, 0, 0, 0, 0, 0, 0, 0, 0, 0, 0, 0, 0, 0, 0, 0, 0, 0, 0, 0, 0, 0, 0, 0, 0, 0, 0, 0, 0, 0, 0, 0, 0, 0, 0, 0, 0, 0, 0, 0, 0, 0, 0, 0, 0, 0, 0, 0, 0, 0, 0, 0, 0, 0, 0, 0, 0, 0, 0, 0, 0, 0, 0, 0, 0, 0, 0, 0, 0, 0, 0, 0, 0, 0, 0, 0, 0, 0, 0, 0, 0, 0, 0, 0, 0, 0, 0, 0, 0, 0, 0, 0, 0, 0, 0, 0, 0, 0, 0, 0, 0, 0, 0, 0, 0, 0, 0, 0, 0, 0, 0, 0, 0, 0, 0, 0, 0, 0, 0, 0, 0, 0, 0, 0, 0, 0, 0, 0, 0, 0, 0, 0, 0, 0, 0, 0, 0, 0, 0, 0, 0, 0, 0, 0, 0, 0, 0, 0, 0, 0, 0, 0, 0, 0, 0, 0, 0, 0, 0, 0, 0, 0, 0, 0, 0, 0, 0, 0, 0, 0, 0, 0, 0, 0, 0, 0, 0, 0, 0, 0, 0, 0, 0, 0, 0, 0, 0, 0, 0, 0, 0, 0, 0, 0, 0, 0, 0, 0, 0, 0, 0, 0, 0, 0, 0, 0, 0, 0, 0, 0, 0, 0, 0, 0, 0, 0, 0, 0, 0, 0, 0, 0, 0, 0, 0, 0, 0, 0, 0, 0, 0, 0, 0, 0, 0, 0, 0, 0, 0, 0, 0, 0, 0, 0, 0, 0, 0, 0, 0, 0, 0, 0, 0, 0, 0, 0, 0, 0, 0, 0, 0, 0, 0, 0, 0, 0, 0, 0, 0, 0, 0, 0, 0, 0, 0, 0, 0, 0, 0, 0, 0, 0, 0, 0, 0, 0, 0, 0, 0, 0, 0, 0, 0, 0, 0, 0, 0, 0, 0, 0, 0, 0, 0, 0, 0, 0, 0, 0, 0, 0, 0, 0, 0, 0, 0, 0, 0, 0, 0, 0, 0, 0, 0, 0, 0, 0, 0, 0, 0, 0, 0, 0, 0, 0, 0, 0, 0, 0, 0, 0, 0, 0, 0, 0, 0, 0, 0, 0, 0, 0, 0, 0, 0, 0, 0, 0, 0, 0, 0, 0, 0, 0, 0, 0, 0, 0, 0, 0, 0, 0, 0, 0, 0, 0, 0, 0, 0, 0, 0, 0, 0, 0, 0, 0, 0, 0, 0, 0, 0, 0, 0, 0, 1, 0, 0, 0, 0, 0, 0, 0, 0, 0, 0, 0, 0, 0, 0, 0, 0, 0, 0, 0, 0, 0, 0, 0, 0, 0, 0, 0, 0, 0, 0, 0, 0, 0, 0, 0, 0, 0, 0, 0, 0, 0, 0, 0, 0, 0, 0, 0, 0, 0, 0, 0, 0, 0, 0, 0, 0, 0, 0, 0, 0, 0, 0, 0, 0, 0, 0, 0, 0, 0, 0, 0, 0, 0, 0, 0, 0, 0, 0, 0, 0, 0, 0, 0, 0, 0, 0, 0, 0, 0, 0, 0, 0, 0, 0, 0, 0, 0, 0, 0, 0, 0, 0, 0, 0, 0, 0, 0, 0, 0, 0, 0, 0, 0, 0, 0, 0, 0, 0, 0, 0, 0, 0, 0, 0, 0, 0, 0, 0, 0, 0, 0, 0, 0, 0, 0, 0, 0, 0, 0, 0, 0, 0, 0, 0, 0, 0, 0, 0, 0, 0, 0, 0, 0, 0, 0, 0, 0, 0, 0, 0, 0, 0, 0, 0, 0, 0, 0, 0, 0, 0, 0, 0, 0, 0, 0, 0, 0, 0, 0, 0, 0, 0, 0, 0, 0, 0, 0, 0, 0, 0, 0, 0, 0, 0, 0, 0, 0, 0, 0, 0, 0, 0, 0, 0, 0, 0, 0, 0, 0, 0, 0, 0, 0, 0, 0, 0, 0, 0, 0, 0, 0, 0, 0, 0, 0, 0, 0, 0, 0, 0, 0, 0, 0, 0, 0, 0, 0, 0, 0, 0, 0, 0, 0, 0, 0, 0, 0, 0, 0, 0, 0, 0, 0, 0, 0, 0, 0, 0, 0, 0, 0, 0, 0, 0, 0, 0, 0, 0, 0, 0, 0, 0, 0, 0, 0, 0, 0, 0, 0, 0, 0, 0, 0, 0, 0, 0, 0, 0, 0, 0, 0, 0, 0, 0, 0, 0, 0, 0, 0, 0, 0, 0, 0, 0, 0, 0, 0, 0, 0, 0, 0, 0, 0, 0, 0, 0, 0, 0, 0, 0, 0, 0, 0, 0, 0, 0, 0, 0, 0, 0, 0, 0, 0, 0, 0, 0, 0, 0, 0, 0, 0, 0, 0, 0, 0, 0, 0, 0, 0, 0, 0, 0, 0, 0, 0, 0, 0, 0, 0, 0, 0, 0, 0, 0, 0, 0, 0, 0, 0, 0, 0, 0, 0, 0, 0, 0, 0, 0, 0, 0, 0, 0, 0, 0, 0, 0, 0, 0, 0, 0, 0, 0, 0, 0, 0, 0, 0, 0, 0, 0, 0, 0, 0, 0, 0, 0, 0, 0, 0, 0, 0, 0, 0, 0, 0, 0, 0, 0, 0, 0, 0, 0, 0, 0, 0, 0, 0, 0, 0, 0, 0, 0, 0, 0, 0, 0, 0, 0, 0, 0, 0, 0, 0, 0, 0, 0, 0, 0, 0, 0, 0, 0, 0, 0, 0, 0, 0, 0, 0, 0, 0, 0, 0, 0, 0, 0, 0, 0, 0, 0, 0, 0, 0, 0, 0, 0, 0, 0, 0, 0, 0, 0, 0, 0, 0, 0, 0, 0, 0, 0, 0, 0, 0, 0, 0, 0, 0, 0, 0, 0, 0, 0, 0, 0, 0, 0, 0, 0, 0, 0, 0, 0, 1, 0, 0, 0, 0, 0, 0, 0, 0, 0, 0, 0, 0, 0, 0, 0, 0, 0, 0, 0, 0, 0, 0, 0, 0, 0, 0, 0, 0, 0, 0, 0, 0, 0, 0, 0, 2, 0, 0, 0, 0, 0, 0, 0, 0, 0, 0, 0, 0, 0, 0, 0, 0, 0, 0, 0, 0, 0, 0, 0, 0, 0, 0, 0, 0, 0, 0, 0, 0, 0, 0, 0, 0, 0, 0, 0, 0, 1, 0, 0, 0, 0, 0, 0, 0, 0, 0, 0, 0, 0, 0, 0, 0, 0, 0, 0, 0, 0, 0, 0, 0, 0, 0, 0, 0, 0, 0, 0, 0, 0, 0, 0, 0, 0, 0, 0, 0, 0, 0, 0, 0, 0, 0, 0, 0, 0, 0, 0, 0, 0, 0, 0, 0, 0, 0, 0, 0, 0, 0, 0, 0, 0, 0, 0, 0, 0, 0, 0, 0, 0, 0, 0, 0, 0, 0, 0, 0, 0, 0, 0, 0, 0, 0, 0, 0, 0, 0, 0, 0, 0, 0, 0, 0, 0, 0, 0, 0, 0, 0, 0, 0, 0, 0, 0, 0, 0, 0, 0, 0, 0, 0, 0, 0, 0, 0, 0, 0, 0, 0, 0, 0, 0, 0, 0, 0, 0, 0, 0, 0, 0, 0, 0, 0, 0, 0, 0, 0, 0, 0, 0, 0, 0, 0, 0, 0, 0, 0, 0, 0, 0, 0, 0, 0, 0, 0, 0, 0, 0, 0, 0, 0, 0, 0, 0, 0, 0, 0, 0, 0, 0, 0, 0, 0, 0, 0, 0, 0, 0, 0, 0, 0, 0, 0, 0, 0, 0, 0, 0, 0, 0, 0, 0, 0, 0, 0, 0, 0, 0, 0, 0, 0, 0, 0, 0, 0, 0, 0, 0, 0, 0, 0, 0, 0, 0, 0, 0, 0, 0, 0, 0, 0, 0, 0, 0, 0, 0, 0, 0, 0, 0, 0, 0, 0, 0, 0, 0, 0, 0, 0, 0, 0, 0, 0, 0, 0, 0, 0, 0, 0, 0, 0, 0, 0, 0, 0, 0, 0, 0, 0, 0, 0, 0, 0, 0, 0, 0, 0, 0, 0, 0, 0, 0, 0, 0, 0, 0, 0, 0, 0, 0, 0, 0, 0, 0, 0, 0, 0, 0, 0, 0, 0, 0, 0, 0, 0, 0, 0, 0, 0, 0, 0, 0, 0, 0, 0, 0, 0, 0, 0, 0, 0, 0, 0, 0, 0, 0, 0, 0, 0, 0, 0, 0, 0, 0, 0, 0, 0, 0, 0, 0, 0, 0, 0, 0, 0, 0, 0, 0, 0, 0, 0, 0, 0, 0, 0, 0, 0, 0, 0, 0, 0, 0, 0, 0, 0, 0, 0, 0, 0, 0, 0, 0, 0, 0, 0, 0, 0, 0, 0, 0, 0, 0, 0, 0, 0, 0, 0, 0, 0, 0, 0, 0, 0, 0, 0, 0, 0, 0, 0, 0, 0, 0, 0, 0, 0, 0, 0, 0, 0, 0, 0, 0, 0, 0, 0, 0, 0, 0, 0, 0, 0, 0, 0, 0, 0, 0, 0, 0, 0, 0, 0, 0, 0, 0, 0, 0, 0, 0, 0, 0, 0, 0, 0, 0, 0, 0, 0, 0, 0, 0, 0, 0, 0, 0, 0, 0, 0, 0, 0, 0, 0, 0, 0, 0, 0, 0, 0, 0, 0, 0, 0, 0, 0, 0, 0, 0, 0, 0, 0, 0, 0, 0, 0, 0, 0, 0, 0, 0, 0, 0, 0, 0, 0, 0, 0, 0, 0, 0, 0, 0, 0, 0, 0, 0, 0, 1, 0, 0, 0, 0, 0, 0, 0, 0, 0, 0, 0, 0, 0, 0, 0, 0, 0, 0, 0, 0, 0, 0, 0, 0, 0, 0, 0, 0, 0, 0, 0, 0, 0, 0, 0, 0, 0, 0, 0, 0, 0, 0, 0, 0, 0, 0, 0, 0, 0, 0, 0, 0, 0, 0, 0, 0, 0, 0, 0, 0, 0, 0, 0, 0, 0, 0, 0, 0, 0, 0, 0, 0, 0, 0, 0, 0, 0, 0, 0, 0, 0, 0, 0, 0, 0, 0, 0, 0, 0, 0, 0, 0, 0, 0, 0, 0, 0, 0, 0, 0, 0, 0, 0, 0, 0, 0, 0, 0, 0, 0, 2, 0, 0, 0, 0, 0, 0, 0, 0, 0, 0, 0, 0, 0, 0, 0, 0, 0, 0, 0, 0, 0, 0, 0, 0, 0, 0, 0, 0, 0, 0, 0, 0, 0, 0, 0, 0, 0, 0, 0, 0, 0, 0, 0, 0, 0, 0, 0, 0, 0, 0, 0, 0, 0, 0, 0, 0, 0, 0, 0, 0, 0, 0, 0, 0, 0, 0, 0, 0, 0, 0, 0, 0, 0, 0, 0, 0, 0, 0, 0, 0, 0, 0, 0, 0, 0, 0, 0, 0, 0, 0, 0, 0, 0, 0, 0, 0, 0, 0, 0, 0, 0, 0, 0, 0, 0, 0, 0, 0, 0, 0, 0, 0, 0, 0, 0, 0, 0, 0, 0, 0, 0, 0, 0, 0, 0, 0, 0, 0, 0, 0, 0, 0, 0, 0, 0, 0, 0, 0, 0, 0, 0, 0, 0, 0, 0, 0, 0, 0, 0, 0, 0, 0, 0, 0, 0, 0, 0, 0, 0, 0, 0, 0, 0, 0, 0, 0, 0, 0, 0, 0, 0, 0, 0, 0, 0, 0, 0, 0, 0, 0, 0, 0, 0, 0, 0, 0, 0, 0, 0, 0, 0, 0, 0, 0, 0, 0, 0, 0, 0, 0, 0, 0, 0, 0, 0, 0, 0, 0, 0, 0, 0, 0, 0, 0, 0, 0, 0, 0, 0, 0, 0, 0, 0, 0, 0, 0, 0, 0, 0, 0, 0, 0, 0, 0, 0, 0, 0, 0, 0, 0, 0, 0, 0, 0, 0, 0, 0, 0, 0, 0, 0, 0, 0, 0, 0, 0, 0, 0, 0, 0, 0, 0, 0, 0, 0, 0, 0, 0, 0, 0, 0, 0, 0, 0, 0, 0, 0, 0, 0, 0, 0, 0, 0, 0, 0, 0, 0, 0, 0, 0, 0, 0, 0, 0, 0, 0, 0, 0, 0, 0, 0, 0, 0, 0, 0, 0, 0, 0, 0, 0, 0, 0, 0, 0, 0, 0, 0, 0, 0, 0, 0, 0, 0, 0, 0, 0, 0, 0, 0, 0, 0, 0, 0, 0, 0, 0, 0, 0, 0, 0, 0, 0, 0, 0, 0, 0, 0, 0, 0, 0, 0, 0, 0, 0, 0, 0, 0, 0, 0, 0, 0, 0, 0, 0, 0, 0, 0, 0, 0, 0, 0, 0, 0, 0, 0, 0, 0, 0, 0, 0, 0, 0, 0, 0, 0, 0, 0, 0, 0, 0, 0, 0, 0, 0, 0, 0, 0, 0, 0, 0, 0, 0, 0, 0, 0, 0, 0, 0, 0, 0, 0, 0, 0, 0, 0, 0, 0, 0, 0, 0, 0, 0, 0, 0, 0, 0, 0, 0, 0, 0, 0, 0, 0, 0, 0, 0, 0, 0, 0, 0, 0, 0, 0, 0, 0, 0, 0, 0, 0, 0, 0, 0, 0, 0, 0, 0, 0, 0, 0, 0, 0, 0, 0, 0, 0, 0, 0, 0, 0, 0, 0, 0, 0, 0, 0, 0, 0, 0, 0, 0, 0, 0, 0, 0, 0, 0, 0, 0, 0, 0, 0, 0, 0, 0, 0, 0, 0, 0, 0, 0, 0, 0, 0, 0, 0, 0, 0, 0, 0, 0, 0, 0, 0, 0, 0, 0, 0, 0, 0, 0, 0, 0, 0, 0, 0, 0, 0, 0, 0, 0, 0, 0, 0, 0, 0, 0, 0, 0, 0, 0, 0, 0, 0, 0, 0, 0, 0, 0, 0, 0, 0, 0, 0, 0, 0, 0, 0, 0, 0, 0, 0, 0, 0, 0, 0, 0, 0, 0, 0, 0, 0, 0, 0, 0, 0, 0, 0, 0, 0, 0, 0, 0, 0, 0, 0, 0, 0, 0, 0, 0, 0, 0, 0, 0, 0, 0, 0, 0, 0, 0, 0, 0, 0, 0, 0, 0, 0, 0, 0, 0, 0, 0, 0, 0, 0, 0, 0, 0, 0, 0, 0, 0, 0, 0, 0, 0, 0, 0, 0, 0, 0, 0, 0, 0, 0, 0, 0, 0, 0, 0, 0, 0, 0, 0, 0, 0, 0, 0, 0, 0, 0, 0, 0, 0, 0, 0, 0, 0, 0, 0, 0, 0, 0, 0, 0, 0, 0, 0, 0, 0, 0, 0, 0, 0, 0, 0, 0, 0, 0, 0, 0, 0, 0, 0, 0, 0, 0, 0, 0, 0, 1, 0, 0, 0, 0, 0, 0, 0, 0, 0, 0, 0, 0, 0, 0, 0, 0, 0, 0, 0, 0, 0, 0, 0, 0, 0, 0, 0, 0, 0, 0, 0, 0, 0, 0, 0, 0, 0, 0, 0, 0, 0, 0, 0, 0, 0, 0, 0, 0, 0, 0, 0, 0, 0, 0, 0, 0, 0, 0, 0, 0, 0, 0, 0, 0, 0, 0, 0, 0, 0, 0, 0, 0, 0, 0, 0, 0, 0, 0, 0, 0, 0, 0, 0, 0, 0, 0, 0, 0, 0, 0, 0, 0, 0, 0, 0, 0, 0, 0, 0, 0, 0, 0, 0, 0, 0, 0, 0, 1, 0, 0, 0, 0, 0, 0, 0, 0, 0, 0, 0, 0, 0, 0, 0, 0, 0, 0, 0, 0, 0, 0, 0, 0, 0, 0, 0, 0, 0, 0, 0, 0, 0, 0, 0, 0, 0, 0, 0, 0, 0, 0, 0, 0, 0, 0, 0, 0, 0, 0, 0, 0, 0, 0, 0, 0, 0, 0, 0, 0, 0, 0, 0, 0, 0, 0, 0, 0, 0, 0, 0, 0, 0, 0, 0, 0, 0, 0, 0, 0, 0, 0, 0, 0, 0, 0, 0, 0, 0, 0, 0, 0, 0, 0, 0, 0, 0, 0, 0, 0, 0, 0, 0, 0, 0, 0, 0, 0, 0, 0, 0, 0, 0, 0, 0, 0, 0, 0, 0, 0, 0, 0, 0, 0, 0, 0, 0, 0, 0, 0, 0, 0, 0, 0, 0, 0, 0, 0, 0, 0, 0, 0, 0, 0, 0, 0, 0, 0, 0, 0, 0, 0, 0, 0, 0, 0, 0, 0, 0, 0, 0, 0, 0, 0, 0, 0, 0, 0, 0, 0, 0, 0, 0, 0, 0, 0, 0, 0, 0, 0, 0, 0, 0, 0, 0, 0, 0, 0, 0, 0, 0, 0, 0, 0, 0, 0, 0, 0, 0, 0, 0, 0, 0, 0, 0, 0, 0, 0, 0, 0, 0, 0, 0, 0, 0, 0, 0, 0, 0, 0, 0, 0, 0, 0, 0, 0, 0, 0, 0, 0, 0, 0, 0, 0, 0, 0, 0, 0, 0, 0, 0, 0, 0, 0, 0, 0, 0, 0, 0, 0, 0, 0, 0, 0, 0, 0, 0, 0, 0, 0, 0, 0, 0, 0, 0, 0, 0, 0, 0, 0, 0, 0, 0, 0, 0, 0, 0, 0, 0, 0, 0, 0, 0, 0, 0, 0, 0, 0, 0, 0, 0, 0, 0, 0, 0, 0, 0, 0, 0, 0, 0, 0, 0, 0, 0, 0, 0, 0, 0, 0, 0, 0, 0, 0, 0, 0, 0, 0, 0, 0, 0, 0, 0, 0, 0, 0, 0, 0, 0, 0, 0, 0, 0, 0, 0, 0, 0, 0, 0, 0, 0, 0, 0, 0, 0, 0, 0, 0, 0, 0, 0, 0, 0, 0, 0, 0, 0, 0, 0, 0, 0, 0, 0, 0, 0, 0, 0, 0, 0, 0, 0, 0, 0, 0, 0, 0, 0, 0, 0, 0, 0, 0, 0, 0, 0, 0, 0, 0, 0, 0, 0, 0, 0, 0, 0, 0, 0, 0, 0, 0, 0, 0, 0, 0, 0, 0, 0, 0, 0, 0, 0, 0, 0, 0, 0, 0, 0, 0, 0, 0, 0, 0, 0, 0, 0, 0, 0, 0, 0, 0, 0, 0, 0, 0, 0, 0, 0, 0, 0, 0, 0, 0, 0, 0, 0, 0, 0, 0, 0, 0, 0, 0, 0, 0, 0, 0, 0, 0, 0, 0, 0, 0, 0, 2, 0, 1, 0]\n"
     ]
    }
   ],
   "source": [
    "test_bow = bow_encoding(test_words, vocabulary)\n",
    "print(test_bow)"
   ]
  },
  {
   "cell_type": "code",
   "execution_count": 41,
   "metadata": {},
   "outputs": [
    {
     "data": {
      "text/plain": [
       "5000"
      ]
     },
     "execution_count": 41,
     "metadata": {},
     "output_type": "execute_result"
    }
   ],
   "source": [
    "len(test_bow)"
   ]
  },
  {
   "cell_type": "markdown",
   "metadata": {},
   "source": [
    "So now we know how to construct a bag of words encoding of a user provided review, how to we send it to our endpoint? First, we need to start the endpoint back up."
   ]
  },
  {
   "cell_type": "code",
   "execution_count": 42,
   "metadata": {},
   "outputs": [
    {
     "name": "stderr",
     "output_type": "stream",
     "text": [
      "Parameter image will be renamed to image_uri in SageMaker Python SDK v2.\n",
      "Using already existing model: xgboost-2021-10-13-12-59-31-098\n"
     ]
    },
    {
     "name": "stdout",
     "output_type": "stream",
     "text": [
      "------!"
     ]
    }
   ],
   "source": [
    "xgb_predictor = xgb.deploy(initial_instance_count = 1, instance_type = 'ml.m4.xlarge')"
   ]
  },
  {
   "cell_type": "markdown",
   "metadata": {},
   "source": [
    "At this point we could just do the same thing that we did earlier when we tested our deployed model and send `test_bow` to our endpoint using the `xgb_predictor` object. However, when we eventually construct our Lambda function we won't have access to this object, so how do we call a SageMaker endpoint?\n",
    "\n",
    "It turns out that Python functions that are used in Lambda have access to another Amazon library called `boto3`. This library provides an API for working with Amazon services, including SageMaker. To start with, we need to get a handle to the SageMaker runtime."
   ]
  },
  {
   "cell_type": "code",
   "execution_count": 43,
   "metadata": {},
   "outputs": [],
   "source": [
    "import boto3\n",
    "\n",
    "runtime = boto3.Session().client('sagemaker-runtime')"
   ]
  },
  {
   "cell_type": "markdown",
   "metadata": {},
   "source": [
    "And now that we have access to the SageMaker runtime, we can ask it to make use of (invoke) an endpoint that has already been created. However, we need to provide SageMaker with the name of the deployed endpoint. To find this out we can print it out using the `xgb_predictor` object."
   ]
  },
  {
   "cell_type": "code",
   "execution_count": 44,
   "metadata": {},
   "outputs": [
    {
     "data": {
      "text/plain": [
       "'xgboost-2021-10-13-12-59-31-098'"
      ]
     },
     "execution_count": 44,
     "metadata": {},
     "output_type": "execute_result"
    }
   ],
   "source": [
    "xgb_predictor.endpoint"
   ]
  },
  {
   "cell_type": "markdown",
   "metadata": {},
   "source": [
    "Using the SageMaker runtime and the name of our endpoint, we can invoke the endpoint and send it the `test_bow` data."
   ]
  },
  {
   "cell_type": "code",
   "execution_count": 45,
   "metadata": {},
   "outputs": [
    {
     "ename": "ParamValidationError",
     "evalue": "Parameter validation failed:\nInvalid type for parameter Body, value: [0, 0, 0, 0, 0, 0, 0, 0, 0, 0, 0, 0, 0, 0, 0, 0, 0, 0, 0, 0, 0, 0, 0, 0, 0, 0, 0, 0, 0, 0, 0, 0, 0, 0, 0, 0, 0, 0, 0, 0, 0, 0, 0, 0, 0, 0, 0, 0, 0, 0, 0, 0, 0, 0, 0, 0, 0, 0, 0, 0, 0, 0, 0, 0, 0, 0, 0, 0, 0, 0, 0, 0, 0, 0, 0, 0, 0, 0, 0, 0, 0, 0, 0, 0, 0, 0, 0, 0, 0, 0, 0, 0, 0, 0, 0, 0, 0, 0, 0, 0, 0, 0, 0, 0, 0, 0, 0, 0, 0, 0, 0, 0, 0, 0, 0, 0, 0, 0, 0, 0, 0, 0, 0, 0, 0, 0, 0, 0, 0, 0, 0, 0, 0, 0, 0, 0, 0, 0, 0, 0, 0, 0, 0, 0, 0, 0, 0, 0, 0, 0, 0, 0, 0, 0, 0, 0, 0, 0, 0, 0, 0, 0, 0, 0, 0, 0, 0, 0, 0, 0, 0, 0, 0, 0, 0, 0, 0, 0, 0, 0, 0, 0, 0, 0, 0, 0, 0, 0, 0, 0, 0, 0, 0, 0, 0, 0, 0, 0, 0, 0, 0, 0, 0, 0, 0, 0, 0, 0, 0, 0, 0, 0, 0, 0, 0, 0, 0, 0, 0, 0, 0, 0, 0, 0, 0, 0, 1, 0, 0, 0, 0, 0, 0, 0, 0, 0, 0, 0, 0, 0, 0, 0, 0, 0, 0, 0, 0, 0, 0, 0, 0, 0, 0, 0, 0, 0, 1, 0, 0, 0, 0, 0, 0, 0, 0, 0, 0, 0, 0, 0, 0, 0, 0, 0, 0, 0, 0, 0, 0, 0, 0, 0, 0, 0, 0, 0, 0, 0, 0, 0, 0, 0, 0, 0, 0, 0, 0, 0, 0, 0, 0, 0, 0, 0, 0, 0, 0, 0, 0, 0, 0, 0, 0, 0, 0, 0, 0, 0, 0, 0, 0, 0, 0, 0, 0, 0, 0, 0, 0, 0, 0, 0, 0, 0, 0, 0, 0, 0, 0, 0, 0, 0, 0, 0, 0, 0, 0, 0, 0, 0, 0, 0, 0, 0, 0, 0, 0, 0, 0, 0, 0, 0, 0, 0, 0, 0, 0, 0, 0, 0, 0, 0, 0, 0, 0, 0, 0, 0, 0, 0, 0, 0, 0, 0, 0, 0, 0, 0, 0, 0, 0, 0, 0, 0, 0, 0, 0, 0, 0, 0, 0, 0, 0, 0, 0, 0, 0, 0, 0, 0, 0, 0, 0, 0, 0, 0, 0, 0, 0, 0, 0, 0, 0, 0, 0, 0, 0, 0, 0, 0, 0, 0, 0, 0, 0, 0, 0, 0, 0, 0, 0, 0, 0, 0, 0, 0, 0, 0, 0, 0, 0, 0, 0, 0, 0, 0, 0, 0, 0, 0, 0, 0, 0, 0, 0, 0, 0, 0, 0, 0, 0, 0, 0, 0, 0, 0, 0, 0, 0, 0, 0, 0, 0, 0, 0, 0, 0, 0, 0, 0, 0, 0, 0, 0, 0, 0, 0, 0, 0, 0, 0, 0, 0, 0, 0, 0, 0, 0, 0, 0, 0, 0, 0, 0, 0, 0, 0, 0, 0, 0, 0, 0, 0, 0, 0, 0, 0, 0, 0, 0, 0, 0, 0, 0, 0, 0, 0, 0, 0, 0, 0, 0, 0, 0, 0, 0, 0, 0, 0, 0, 0, 0, 0, 0, 0, 0, 0, 0, 0, 0, 0, 0, 0, 0, 0, 0, 0, 0, 0, 0, 0, 0, 0, 0, 0, 0, 0, 0, 0, 0, 0, 0, 0, 0, 0, 0, 0, 0, 0, 0, 0, 0, 0, 0, 0, 0, 0, 0, 0, 0, 0, 0, 0, 0, 0, 0, 0, 0, 0, 0, 0, 0, 0, 0, 0, 0, 0, 0, 0, 0, 0, 0, 0, 0, 0, 0, 0, 0, 0, 0, 0, 0, 0, 0, 0, 0, 1, 0, 0, 0, 0, 0, 0, 0, 0, 0, 0, 0, 0, 0, 0, 0, 0, 0, 0, 0, 0, 0, 0, 0, 0, 0, 0, 0, 0, 0, 0, 0, 0, 0, 0, 0, 0, 0, 0, 0, 0, 0, 0, 0, 0, 0, 0, 0, 0, 0, 0, 0, 0, 0, 0, 0, 0, 0, 0, 0, 0, 0, 0, 0, 0, 0, 0, 0, 0, 0, 0, 0, 0, 0, 0, 0, 0, 0, 0, 0, 0, 0, 0, 0, 0, 0, 0, 0, 0, 0, 0, 0, 0, 0, 0, 0, 0, 0, 0, 0, 0, 0, 0, 0, 0, 0, 0, 0, 0, 0, 0, 0, 0, 0, 0, 0, 0, 0, 0, 0, 0, 0, 0, 0, 0, 0, 0, 0, 0, 0, 0, 0, 0, 0, 0, 0, 0, 0, 0, 0, 0, 0, 0, 0, 0, 0, 0, 0, 0, 0, 0, 0, 0, 0, 0, 0, 0, 0, 0, 0, 0, 0, 0, 0, 0, 0, 0, 0, 0, 0, 0, 0, 0, 0, 0, 0, 0, 0, 0, 0, 0, 0, 0, 0, 0, 0, 0, 0, 0, 0, 0, 0, 0, 0, 0, 0, 0, 0, 0, 0, 0, 0, 0, 0, 0, 0, 0, 0, 0, 0, 0, 0, 0, 0, 0, 0, 0, 0, 0, 0, 0, 0, 0, 0, 0, 0, 0, 0, 0, 0, 0, 0, 0, 0, 0, 0, 0, 0, 0, 0, 0, 0, 0, 0, 0, 0, 0, 0, 0, 0, 0, 0, 0, 0, 1, 0, 0, 0, 0, 0, 0, 0, 0, 0, 0, 0, 0, 0, 0, 0, 0, 0, 0, 0, 0, 0, 0, 0, 0, 0, 0, 0, 0, 0, 0, 0, 0, 0, 0, 0, 0, 0, 0, 0, 0, 0, 0, 0, 0, 0, 0, 0, 0, 0, 0, 0, 0, 0, 0, 0, 0, 0, 0, 0, 0, 0, 0, 0, 0, 0, 0, 0, 0, 0, 0, 0, 0, 0, 0, 0, 0, 0, 0, 0, 0, 0, 0, 0, 0, 0, 0, 1, 0, 0, 0, 0, 0, 0, 0, 0, 0, 0, 0, 0, 0, 0, 0, 0, 0, 0, 0, 0, 0, 0, 0, 0, 0, 0, 0, 0, 0, 0, 0, 0, 0, 0, 0, 0, 0, 0, 0, 0, 0, 0, 0, 0, 0, 0, 0, 0, 0, 0, 0, 0, 0, 0, 0, 0, 0, 0, 0, 0, 0, 0, 0, 0, 0, 0, 0, 0, 0, 0, 0, 0, 0, 0, 0, 0, 0, 0, 0, 0, 0, 0, 0, 0, 0, 0, 0, 0, 0, 0, 0, 0, 0, 0, 0, 0, 0, 0, 0, 0, 0, 0, 0, 0, 0, 0, 0, 0, 0, 0, 0, 0, 0, 0, 0, 0, 0, 0, 0, 0, 0, 0, 0, 0, 0, 0, 0, 0, 0, 0, 0, 0, 0, 0, 0, 0, 0, 0, 0, 0, 0, 0, 0, 0, 0, 0, 0, 0, 0, 0, 0, 0, 0, 0, 0, 0, 0, 0, 0, 0, 0, 0, 0, 0, 0, 0, 0, 0, 0, 0, 0, 0, 0, 0, 0, 0, 0, 0, 0, 0, 0, 0, 0, 0, 0, 0, 0, 0, 0, 0, 0, 0, 0, 0, 0, 0, 0, 0, 0, 0, 0, 0, 0, 0, 0, 0, 0, 0, 0, 0, 0, 0, 0, 0, 0, 0, 0, 0, 0, 0, 0, 0, 0, 0, 0, 0, 0, 0, 0, 0, 0, 0, 0, 0, 0, 0, 0, 0, 0, 0, 0, 0, 0, 0, 0, 0, 0, 0, 0, 0, 0, 0, 1, 0, 0, 0, 0, 0, 0, 0, 0, 0, 0, 0, 0, 0, 0, 0, 0, 0, 0, 0, 0, 0, 0, 0, 0, 0, 0, 0, 0, 0, 0, 0, 0, 0, 0, 0, 0, 0, 0, 0, 0, 0, 0, 0, 0, 0, 0, 0, 0, 0, 0, 0, 0, 0, 0, 0, 1, 0, 0, 0, 0, 0, 0, 0, 0, 0, 0, 0, 0, 0, 0, 0, 0, 0, 0, 0, 0, 0, 0, 0, 0, 0, 0, 0, 0, 0, 0, 0, 0, 0, 0, 0, 0, 0, 0, 0, 0, 0, 0, 0, 0, 0, 0, 0, 0, 0, 0, 0, 0, 0, 0, 0, 0, 0, 0, 0, 0, 0, 0, 0, 0, 0, 0, 0, 0, 0, 0, 0, 0, 0, 0, 0, 0, 0, 0, 0, 0, 0, 0, 0, 0, 0, 0, 0, 0, 0, 0, 0, 0, 0, 0, 0, 0, 0, 0, 0, 0, 0, 0, 0, 0, 0, 0, 0, 0, 0, 0, 0, 0, 0, 0, 0, 0, 0, 0, 0, 0, 0, 0, 0, 0, 0, 0, 0, 0, 0, 0, 0, 0, 0, 0, 0, 0, 0, 0, 0, 0, 0, 0, 0, 0, 0, 0, 0, 0, 0, 0, 0, 0, 0, 0, 0, 0, 0, 0, 0, 0, 0, 0, 0, 0, 0, 0, 0, 0, 0, 0, 0, 0, 0, 0, 0, 0, 0, 0, 0, 0, 0, 0, 0, 0, 0, 0, 0, 0, 0, 0, 0, 0, 0, 0, 0, 0, 0, 0, 0, 0, 0, 0, 0, 0, 0, 0, 0, 0, 0, 0, 0, 0, 0, 0, 0, 0, 0, 0, 0, 0, 0, 0, 0, 0, 0, 0, 0, 0, 0, 0, 0, 0, 0, 0, 0, 0, 0, 0, 0, 0, 0, 0, 0, 0, 0, 0, 0, 0, 0, 0, 0, 0, 0, 0, 0, 0, 0, 0, 0, 0, 0, 0, 0, 0, 0, 0, 0, 0, 0, 0, 0, 0, 0, 0, 0, 0, 0, 0, 0, 0, 0, 0, 0, 0, 0, 0, 0, 0, 0, 0, 0, 0, 0, 0, 0, 0, 0, 0, 0, 0, 0, 0, 0, 0, 0, 0, 0, 0, 0, 0, 0, 0, 0, 0, 0, 0, 0, 0, 0, 0, 0, 0, 0, 0, 0, 0, 0, 0, 0, 0, 0, 0, 0, 0, 0, 0, 0, 0, 0, 0, 0, 0, 0, 0, 0, 0, 0, 0, 0, 0, 0, 0, 0, 0, 0, 0, 0, 0, 0, 0, 0, 0, 0, 0, 0, 0, 0, 0, 0, 0, 0, 0, 0, 0, 0, 0, 0, 0, 0, 0, 0, 0, 0, 0, 0, 0, 0, 0, 0, 0, 0, 0, 0, 0, 0, 0, 0, 0, 0, 0, 0, 0, 0, 0, 0, 0, 0, 0, 0, 0, 0, 0, 0, 0, 0, 0, 0, 0, 0, 0, 0, 0, 0, 0, 0, 0, 0, 0, 0, 0, 0, 0, 0, 0, 0, 0, 0, 0, 0, 0, 0, 0, 0, 0, 0, 0, 0, 0, 0, 0, 0, 0, 0, 0, 0, 0, 0, 0, 0, 0, 0, 0, 0, 0, 0, 0, 0, 0, 0, 0, 0, 0, 0, 0, 0, 0, 0, 0, 0, 0, 0, 0, 0, 0, 0, 0, 0, 0, 0, 0, 0, 0, 0, 0, 0, 0, 0, 0, 0, 0, 0, 0, 0, 0, 0, 0, 0, 0, 0, 0, 0, 0, 0, 0, 0, 0, 0, 0, 0, 0, 0, 0, 0, 0, 0, 0, 0, 0, 0, 0, 0, 0, 0, 0, 0, 0, 0, 0, 0, 0, 0, 0, 0, 0, 0, 0, 0, 0, 0, 0, 0, 0, 0, 0, 0, 0, 0, 0, 0, 0, 0, 0, 0, 0, 0, 0, 0, 0, 0, 0, 0, 0, 0, 0, 0, 0, 0, 0, 0, 0, 0, 0, 0, 0, 0, 0, 0, 0, 0, 0, 0, 0, 0, 0, 0, 0, 0, 0, 0, 0, 0, 0, 0, 0, 0, 0, 0, 0, 0, 0, 0, 0, 0, 0, 0, 0, 0, 0, 0, 0, 0, 0, 0, 0, 0, 0, 0, 0, 0, 0, 0, 0, 0, 0, 0, 0, 0, 0, 0, 0, 0, 0, 0, 0, 0, 0, 0, 0, 0, 0, 0, 0, 0, 0, 0, 0, 0, 0, 0, 0, 0, 0, 0, 0, 0, 0, 0, 0, 0, 0, 0, 0, 0, 0, 0, 0, 0, 0, 0, 0, 0, 1, 0, 0, 0, 0, 0, 0, 0, 0, 0, 0, 0, 0, 0, 0, 0, 0, 0, 0, 0, 0, 0, 0, 0, 0, 0, 0, 0, 0, 0, 0, 0, 0, 0, 0, 0, 0, 0, 0, 0, 0, 0, 0, 0, 0, 0, 0, 0, 0, 0, 0, 0, 0, 0, 0, 0, 0, 0, 0, 0, 0, 0, 0, 0, 0, 0, 0, 0, 0, 0, 0, 0, 0, 0, 0, 1, 0, 0, 0, 0, 0, 0, 0, 0, 0, 0, 0, 0, 0, 0, 0, 0, 0, 0, 0, 0, 1, 0, 0, 1, 0, 0, 0, 0, 0, 0, 0, 0, 0, 0, 0, 0, 0, 0, 0, 0, 0, 0, 0, 0, 0, 0, 0, 0, 0, 0, 0, 0, 0, 0, 0, 0, 0, 0, 0, 0, 0, 0, 0, 0, 0, 0, 0, 0, 0, 0, 0, 0, 0, 0, 0, 0, 0, 0, 0, 0, 0, 0, 0, 0, 0, 0, 0, 0, 0, 0, 0, 0, 0, 0, 0, 0, 0, 0, 0, 0, 0, 0, 0, 0, 0, 0, 0, 0, 0, 0, 0, 0, 0, 0, 0, 0, 0, 0, 0, 0, 0, 0, 0, 0, 0, 0, 0, 0, 0, 0, 0, 0, 0, 0, 0, 0, 0, 0, 0, 0, 0, 0, 0, 0, 0, 0, 0, 0, 0, 0, 0, 0, 0, 0, 0, 0, 0, 0, 0, 0, 0, 0, 0, 0, 0, 0, 0, 0, 0, 0, 0, 0, 0, 0, 0, 0, 0, 0, 0, 0, 0, 0, 0, 0, 0, 0, 0, 0, 0, 0, 0, 0, 0, 0, 0, 0, 0, 0, 0, 0, 0, 0, 0, 0, 0, 0, 0, 0, 0, 0, 0, 0, 0, 0, 0, 0, 0, 0, 0, 0, 0, 0, 0, 0, 0, 0, 0, 0, 0, 0, 0, 0, 0, 0, 0, 0, 0, 0, 0, 0, 0, 0, 0, 0, 0, 0, 0, 0, 0, 0, 0, 0, 0, 0, 0, 0, 0, 0, 0, 0, 0, 0, 0, 0, 0, 0, 0, 0, 0, 0, 0, 0, 0, 0, 0, 0, 0, 0, 0, 0, 0, 0, 0, 0, 0, 0, 0, 0, 0, 0, 0, 0, 0, 0, 0, 0, 0, 0, 0, 0, 0, 0, 0, 0, 0, 0, 0, 0, 0, 0, 0, 0, 0, 0, 0, 0, 0, 0, 0, 0, 0, 0, 0, 0, 0, 0, 0, 0, 0, 0, 0, 0, 0, 0, 0, 0, 0, 0, 0, 0, 0, 0, 0, 0, 0, 0, 0, 0, 0, 0, 0, 0, 0, 0, 0, 0, 0, 0, 0, 0, 0, 0, 0, 0, 0, 0, 0, 0, 0, 0, 0, 0, 0, 0, 0, 0, 0, 0, 0, 0, 0, 0, 0, 0, 0, 0, 0, 0, 0, 0, 0, 0, 0, 0, 0, 0, 0, 0, 0, 0, 0, 0, 0, 0, 0, 0, 0, 0, 0, 0, 0, 0, 0, 0, 0, 0, 0, 0, 0, 0, 0, 0, 0, 0, 0, 0, 0, 0, 0, 0, 0, 0, 0, 0, 0, 0, 0, 0, 0, 0, 0, 0, 0, 0, 0, 0, 0, 0, 0, 0, 0, 0, 0, 0, 0, 0, 0, 0, 0, 0, 0, 0, 0, 0, 0, 0, 0, 0, 0, 0, 0, 0, 0, 0, 0, 0, 0, 0, 0, 0, 0, 0, 0, 0, 0, 0, 0, 0, 0, 0, 1, 0, 0, 0, 0, 0, 0, 0, 0, 0, 0, 0, 0, 0, 0, 0, 0, 0, 0, 0, 0, 0, 0, 0, 0, 0, 0, 0, 0, 0, 0, 0, 0, 0, 0, 0, 0, 0, 0, 0, 0, 0, 0, 0, 0, 0, 0, 0, 0, 0, 0, 0, 0, 0, 0, 0, 0, 0, 0, 0, 0, 0, 0, 0, 0, 0, 0, 0, 0, 0, 0, 0, 0, 0, 0, 0, 0, 0, 0, 0, 0, 0, 0, 0, 0, 0, 0, 0, 0, 0, 0, 0, 0, 0, 0, 0, 0, 0, 0, 0, 0, 0, 0, 0, 0, 0, 0, 0, 0, 0, 0, 0, 0, 0, 0, 0, 0, 0, 0, 0, 0, 0, 0, 0, 0, 0, 0, 0, 0, 0, 0, 0, 0, 0, 0, 0, 0, 0, 0, 0, 0, 0, 0, 0, 0, 0, 0, 0, 0, 0, 0, 0, 0, 0, 0, 0, 0, 0, 0, 0, 0, 0, 0, 0, 0, 0, 0, 0, 0, 0, 0, 0, 0, 0, 0, 0, 0, 0, 0, 0, 0, 0, 0, 0, 0, 0, 0, 0, 0, 0, 0, 0, 0, 0, 0, 0, 0, 0, 0, 0, 0, 0, 0, 0, 0, 0, 0, 0, 0, 0, 0, 0, 0, 0, 0, 0, 0, 0, 0, 0, 0, 0, 0, 0, 0, 0, 0, 0, 0, 0, 0, 0, 0, 0, 0, 0, 0, 0, 0, 0, 0, 0, 0, 0, 0, 0, 0, 0, 0, 0, 0, 0, 0, 0, 0, 0, 0, 0, 0, 0, 0, 0, 0, 0, 0, 0, 0, 0, 0, 0, 0, 0, 0, 0, 0, 0, 0, 0, 0, 0, 0, 0, 0, 0, 0, 0, 0, 0, 0, 0, 0, 0, 0, 0, 0, 0, 0, 0, 0, 0, 0, 0, 0, 0, 0, 0, 0, 0, 0, 0, 0, 0, 0, 0, 0, 0, 0, 0, 0, 0, 0, 0, 0, 0, 0, 0, 0, 0, 0, 0, 0, 0, 0, 0, 0, 0, 0, 0, 0, 0, 0, 0, 0, 0, 0, 0, 0, 0, 0, 0, 0, 0, 0, 0, 0, 0, 0, 0, 0, 0, 0, 0, 0, 0, 0, 0, 0, 0, 0, 0, 0, 0, 0, 0, 0, 0, 0, 0, 0, 0, 0, 0, 0, 0, 0, 0, 0, 0, 0, 0, 0, 0, 0, 0, 0, 0, 0, 0, 0, 0, 0, 0, 0, 0, 0, 0, 0, 0, 0, 0, 0, 0, 0, 0, 0, 0, 0, 0, 0, 0, 0, 0, 0, 0, 0, 0, 0, 0, 0, 0, 0, 0, 0, 0, 0, 0, 0, 0, 0, 0, 0, 0, 0, 0, 0, 0, 0, 0, 0, 0, 0, 0, 0, 0, 0, 0, 0, 0, 0, 0, 0, 0, 0, 0, 0, 0, 0, 0, 0, 0, 0, 0, 0, 0, 0, 0, 0, 0, 0, 0, 0, 0, 0, 0, 0, 0, 0, 0, 0, 0, 0, 0, 0, 0, 0, 0, 0, 0, 0, 0, 0, 0, 0, 0, 0, 0, 0, 0, 0, 0, 0, 0, 0, 1, 0, 0, 0, 0, 0, 0, 0, 0, 0, 0, 0, 0, 0, 0, 0, 0, 0, 0, 0, 0, 0, 0, 0, 0, 0, 0, 0, 0, 0, 0, 0, 0, 0, 0, 0, 2, 0, 0, 0, 0, 0, 0, 0, 0, 0, 0, 0, 0, 0, 0, 0, 0, 0, 0, 0, 0, 0, 0, 0, 0, 0, 0, 0, 0, 0, 0, 0, 0, 0, 0, 0, 0, 0, 0, 0, 0, 1, 0, 0, 0, 0, 0, 0, 0, 0, 0, 0, 0, 0, 0, 0, 0, 0, 0, 0, 0, 0, 0, 0, 0, 0, 0, 0, 0, 0, 0, 0, 0, 0, 0, 0, 0, 0, 0, 0, 0, 0, 0, 0, 0, 0, 0, 0, 0, 0, 0, 0, 0, 0, 0, 0, 0, 0, 0, 0, 0, 0, 0, 0, 0, 0, 0, 0, 0, 0, 0, 0, 0, 0, 0, 0, 0, 0, 0, 0, 0, 0, 0, 0, 0, 0, 0, 0, 0, 0, 0, 0, 0, 0, 0, 0, 0, 0, 0, 0, 0, 0, 0, 0, 0, 0, 0, 0, 0, 0, 0, 0, 0, 0, 0, 0, 0, 0, 0, 0, 0, 0, 0, 0, 0, 0, 0, 0, 0, 0, 0, 0, 0, 0, 0, 0, 0, 0, 0, 0, 0, 0, 0, 0, 0, 0, 0, 0, 0, 0, 0, 0, 0, 0, 0, 0, 0, 0, 0, 0, 0, 0, 0, 0, 0, 0, 0, 0, 0, 0, 0, 0, 0, 0, 0, 0, 0, 0, 0, 0, 0, 0, 0, 0, 0, 0, 0, 0, 0, 0, 0, 0, 0, 0, 0, 0, 0, 0, 0, 0, 0, 0, 0, 0, 0, 0, 0, 0, 0, 0, 0, 0, 0, 0, 0, 0, 0, 0, 0, 0, 0, 0, 0, 0, 0, 0, 0, 0, 0, 0, 0, 0, 0, 0, 0, 0, 0, 0, 0, 0, 0, 0, 0, 0, 0, 0, 0, 0, 0, 0, 0, 0, 0, 0, 0, 0, 0, 0, 0, 0, 0, 0, 0, 0, 0, 0, 0, 0, 0, 0, 0, 0, 0, 0, 0, 0, 0, 0, 0, 0, 0, 0, 0, 0, 0, 0, 0, 0, 0, 0, 0, 0, 0, 0, 0, 0, 0, 0, 0, 0, 0, 0, 0, 0, 0, 0, 0, 0, 0, 0, 0, 0, 0, 0, 0, 0, 0, 0, 0, 0, 0, 0, 0, 0, 0, 0, 0, 0, 0, 0, 0, 0, 0, 0, 0, 0, 0, 0, 0, 0, 0, 0, 0, 0, 0, 0, 0, 0, 0, 0, 0, 0, 0, 0, 0, 0, 0, 0, 0, 0, 0, 0, 0, 0, 0, 0, 0, 0, 0, 0, 0, 0, 0, 0, 0, 0, 0, 0, 0, 0, 0, 0, 0, 0, 0, 0, 0, 0, 0, 0, 0, 0, 0, 0, 0, 0, 0, 0, 0, 0, 0, 0, 0, 0, 0, 0, 0, 0, 0, 0, 0, 0, 0, 0, 0, 0, 0, 0, 0, 0, 0, 0, 0, 0, 0, 0, 0, 0, 0, 0, 0, 0, 0, 0, 0, 0, 0, 0, 0, 0, 0, 0, 0, 0, 0, 0, 0, 0, 0, 0, 0, 0, 0, 0, 0, 0, 0, 0, 0, 0, 0, 0, 0, 0, 0, 0, 0, 0, 0, 0, 0, 0, 0, 0, 0, 0, 0, 0, 0, 0, 0, 0, 0, 0, 0, 0, 0, 0, 0, 0, 0, 0, 0, 0, 0, 0, 0, 0, 0, 1, 0, 0, 0, 0, 0, 0, 0, 0, 0, 0, 0, 0, 0, 0, 0, 0, 0, 0, 0, 0, 0, 0, 0, 0, 0, 0, 0, 0, 0, 0, 0, 0, 0, 0, 0, 0, 0, 0, 0, 0, 0, 0, 0, 0, 0, 0, 0, 0, 0, 0, 0, 0, 0, 0, 0, 0, 0, 0, 0, 0, 0, 0, 0, 0, 0, 0, 0, 0, 0, 0, 0, 0, 0, 0, 0, 0, 0, 0, 0, 0, 0, 0, 0, 0, 0, 0, 0, 0, 0, 0, 0, 0, 0, 0, 0, 0, 0, 0, 0, 0, 0, 0, 0, 0, 0, 0, 0, 0, 0, 0, 2, 0, 0, 0, 0, 0, 0, 0, 0, 0, 0, 0, 0, 0, 0, 0, 0, 0, 0, 0, 0, 0, 0, 0, 0, 0, 0, 0, 0, 0, 0, 0, 0, 0, 0, 0, 0, 0, 0, 0, 0, 0, 0, 0, 0, 0, 0, 0, 0, 0, 0, 0, 0, 0, 0, 0, 0, 0, 0, 0, 0, 0, 0, 0, 0, 0, 0, 0, 0, 0, 0, 0, 0, 0, 0, 0, 0, 0, 0, 0, 0, 0, 0, 0, 0, 0, 0, 0, 0, 0, 0, 0, 0, 0, 0, 0, 0, 0, 0, 0, 0, 0, 0, 0, 0, 0, 0, 0, 0, 0, 0, 0, 0, 0, 0, 0, 0, 0, 0, 0, 0, 0, 0, 0, 0, 0, 0, 0, 0, 0, 0, 0, 0, 0, 0, 0, 0, 0, 0, 0, 0, 0, 0, 0, 0, 0, 0, 0, 0, 0, 0, 0, 0, 0, 0, 0, 0, 0, 0, 0, 0, 0, 0, 0, 0, 0, 0, 0, 0, 0, 0, 0, 0, 0, 0, 0, 0, 0, 0, 0, 0, 0, 0, 0, 0, 0, 0, 0, 0, 0, 0, 0, 0, 0, 0, 0, 0, 0, 0, 0, 0, 0, 0, 0, 0, 0, 0, 0, 0, 0, 0, 0, 0, 0, 0, 0, 0, 0, 0, 0, 0, 0, 0, 0, 0, 0, 0, 0, 0, 0, 0, 0, 0, 0, 0, 0, 0, 0, 0, 0, 0, 0, 0, 0, 0, 0, 0, 0, 0, 0, 0, 0, 0, 0, 0, 0, 0, 0, 0, 0, 0, 0, 0, 0, 0, 0, 0, 0, 0, 0, 0, 0, 0, 0, 0, 0, 0, 0, 0, 0, 0, 0, 0, 0, 0, 0, 0, 0, 0, 0, 0, 0, 0, 0, 0, 0, 0, 0, 0, 0, 0, 0, 0, 0, 0, 0, 0, 0, 0, 0, 0, 0, 0, 0, 0, 0, 0, 0, 0, 0, 0, 0, 0, 0, 0, 0, 0, 0, 0, 0, 0, 0, 0, 0, 0, 0, 0, 0, 0, 0, 0, 0, 0, 0, 0, 0, 0, 0, 0, 0, 0, 0, 0, 0, 0, 0, 0, 0, 0, 0, 0, 0, 0, 0, 0, 0, 0, 0, 0, 0, 0, 0, 0, 0, 0, 0, 0, 0, 0, 0, 0, 0, 0, 0, 0, 0, 0, 0, 0, 0, 0, 0, 0, 0, 0, 0, 0, 0, 0, 0, 0, 0, 0, 0, 0, 0, 0, 0, 0, 0, 0, 0, 0, 0, 0, 0, 0, 0, 0, 0, 0, 0, 0, 0, 0, 0, 0, 0, 0, 0, 0, 0, 0, 0, 0, 0, 0, 0, 0, 0, 0, 0, 0, 0, 0, 0, 0, 0, 0, 0, 0, 0, 0, 0, 0, 0, 0, 0, 0, 0, 0, 0, 0, 0, 0, 0, 0, 0, 0, 0, 0, 0, 0, 0, 0, 0, 0, 0, 0, 0, 0, 0, 0, 0, 0, 0, 0, 0, 0, 0, 0, 0, 0, 0, 0, 0, 0, 0, 0, 0, 0, 0, 0, 0, 0, 0, 0, 0, 0, 0, 0, 0, 0, 0, 0, 0, 0, 0, 0, 0, 0, 0, 0, 0, 0, 0, 0, 0, 0, 0, 0, 0, 0, 0, 0, 0, 0, 0, 0, 0, 0, 0, 0, 0, 0, 0, 0, 0, 0, 0, 0, 0, 0, 0, 0, 0, 0, 0, 0, 0, 0, 0, 0, 0, 0, 0, 0, 0, 0, 0, 0, 0, 0, 0, 0, 0, 0, 0, 0, 0, 0, 0, 0, 0, 0, 0, 0, 0, 0, 0, 0, 0, 0, 0, 0, 0, 0, 0, 0, 0, 0, 0, 0, 0, 0, 0, 0, 0, 0, 0, 0, 0, 0, 0, 0, 0, 0, 0, 0, 0, 0, 0, 0, 0, 0, 0, 0, 0, 0, 0, 0, 0, 0, 0, 0, 0, 0, 0, 0, 0, 0, 0, 0, 0, 0, 0, 0, 0, 0, 0, 0, 0, 0, 0, 0, 0, 0, 0, 0, 0, 0, 0, 0, 0, 0, 0, 0, 0, 0, 0, 0, 0, 0, 0, 0, 0, 0, 0, 0, 0, 0, 0, 0, 0, 0, 0, 0, 0, 0, 0, 0, 1, 0, 0, 0, 0, 0, 0, 0, 0, 0, 0, 0, 0, 0, 0, 0, 0, 0, 0, 0, 0, 0, 0, 0, 0, 0, 0, 0, 0, 0, 0, 0, 0, 0, 0, 0, 0, 0, 0, 0, 0, 0, 0, 0, 0, 0, 0, 0, 0, 0, 0, 0, 0, 0, 0, 0, 0, 0, 0, 0, 0, 0, 0, 0, 0, 0, 0, 0, 0, 0, 0, 0, 0, 0, 0, 0, 0, 0, 0, 0, 0, 0, 0, 0, 0, 0, 0, 0, 0, 0, 0, 0, 0, 0, 0, 0, 0, 0, 0, 0, 0, 0, 0, 0, 0, 0, 0, 0, 1, 0, 0, 0, 0, 0, 0, 0, 0, 0, 0, 0, 0, 0, 0, 0, 0, 0, 0, 0, 0, 0, 0, 0, 0, 0, 0, 0, 0, 0, 0, 0, 0, 0, 0, 0, 0, 0, 0, 0, 0, 0, 0, 0, 0, 0, 0, 0, 0, 0, 0, 0, 0, 0, 0, 0, 0, 0, 0, 0, 0, 0, 0, 0, 0, 0, 0, 0, 0, 0, 0, 0, 0, 0, 0, 0, 0, 0, 0, 0, 0, 0, 0, 0, 0, 0, 0, 0, 0, 0, 0, 0, 0, 0, 0, 0, 0, 0, 0, 0, 0, 0, 0, 0, 0, 0, 0, 0, 0, 0, 0, 0, 0, 0, 0, 0, 0, 0, 0, 0, 0, 0, 0, 0, 0, 0, 0, 0, 0, 0, 0, 0, 0, 0, 0, 0, 0, 0, 0, 0, 0, 0, 0, 0, 0, 0, 0, 0, 0, 0, 0, 0, 0, 0, 0, 0, 0, 0, 0, 0, 0, 0, 0, 0, 0, 0, 0, 0, 0, 0, 0, 0, 0, 0, 0, 0, 0, 0, 0, 0, 0, 0, 0, 0, 0, 0, 0, 0, 0, 0, 0, 0, 0, 0, 0, 0, 0, 0, 0, 0, 0, 0, 0, 0, 0, 0, 0, 0, 0, 0, 0, 0, 0, 0, 0, 0, 0, 0, 0, 0, 0, 0, 0, 0, 0, 0, 0, 0, 0, 0, 0, 0, 0, 0, 0, 0, 0, 0, 0, 0, 0, 0, 0, 0, 0, 0, 0, 0, 0, 0, 0, 0, 0, 0, 0, 0, 0, 0, 0, 0, 0, 0, 0, 0, 0, 0, 0, 0, 0, 0, 0, 0, 0, 0, 0, 0, 0, 0, 0, 0, 0, 0, 0, 0, 0, 0, 0, 0, 0, 0, 0, 0, 0, 0, 0, 0, 0, 0, 0, 0, 0, 0, 0, 0, 0, 0, 0, 0, 0, 0, 0, 0, 0, 0, 0, 0, 0, 0, 0, 0, 0, 0, 0, 0, 0, 0, 0, 0, 0, 0, 0, 0, 0, 0, 0, 0, 0, 0, 0, 0, 0, 0, 0, 0, 0, 0, 0, 0, 0, 0, 0, 0, 0, 0, 0, 0, 0, 0, 0, 0, 0, 0, 0, 0, 0, 0, 0, 0, 0, 0, 0, 0, 0, 0, 0, 0, 0, 0, 0, 0, 0, 0, 0, 0, 0, 0, 0, 0, 0, 0, 0, 0, 0, 0, 0, 0, 0, 0, 0, 0, 0, 0, 0, 0, 0, 0, 0, 0, 0, 0, 0, 0, 0, 0, 0, 0, 0, 0, 0, 0, 0, 0, 0, 0, 0, 0, 0, 0, 0, 0, 0, 0, 0, 0, 0, 0, 0, 0, 0, 0, 0, 0, 0, 0, 0, 0, 0, 0, 0, 0, 0, 0, 0, 0, 0, 0, 0, 0, 0, 0, 0, 0, 0, 0, 2, 0, 1, 0], type: <class 'list'>, valid types: <class 'bytes'>, <class 'bytearray'>, file-like object",
     "output_type": "error",
     "traceback": [
      "\u001b[0;31m---------------------------------------------------------------------------\u001b[0m",
      "\u001b[0;31mParamValidationError\u001b[0m                      Traceback (most recent call last)",
      "\u001b[0;32m<ipython-input-45-c9ab54ae3a48>\u001b[0m in \u001b[0;36m<module>\u001b[0;34m()\u001b[0m\n\u001b[1;32m      1\u001b[0m response = runtime.invoke_endpoint(EndpointName = xgb_predictor.endpoint, # The name of the endpoint we created\n\u001b[1;32m      2\u001b[0m                                        \u001b[0mContentType\u001b[0m \u001b[0;34m=\u001b[0m \u001b[0;34m'text/csv'\u001b[0m\u001b[0;34m,\u001b[0m                     \u001b[0;31m# The data format that is expected\u001b[0m\u001b[0;34m\u001b[0m\u001b[0;34m\u001b[0m\u001b[0m\n\u001b[0;32m----> 3\u001b[0;31m                                        Body = test_bow)\n\u001b[0m",
      "\u001b[0;32m/home/ec2-user/anaconda3/envs/python3/lib/python3.6/site-packages/botocore/client.py\u001b[0m in \u001b[0;36m_api_call\u001b[0;34m(self, *args, **kwargs)\u001b[0m\n\u001b[1;32m    384\u001b[0m                     \"%s() only accepts keyword arguments.\" % py_operation_name)\n\u001b[1;32m    385\u001b[0m             \u001b[0;31m# The \"self\" in this scope is referring to the BaseClient.\u001b[0m\u001b[0;34m\u001b[0m\u001b[0;34m\u001b[0m\u001b[0;34m\u001b[0m\u001b[0m\n\u001b[0;32m--> 386\u001b[0;31m             \u001b[0;32mreturn\u001b[0m \u001b[0mself\u001b[0m\u001b[0;34m.\u001b[0m\u001b[0m_make_api_call\u001b[0m\u001b[0;34m(\u001b[0m\u001b[0moperation_name\u001b[0m\u001b[0;34m,\u001b[0m \u001b[0mkwargs\u001b[0m\u001b[0;34m)\u001b[0m\u001b[0;34m\u001b[0m\u001b[0;34m\u001b[0m\u001b[0m\n\u001b[0m\u001b[1;32m    387\u001b[0m \u001b[0;34m\u001b[0m\u001b[0m\n\u001b[1;32m    388\u001b[0m         \u001b[0m_api_call\u001b[0m\u001b[0;34m.\u001b[0m\u001b[0m__name__\u001b[0m \u001b[0;34m=\u001b[0m \u001b[0mstr\u001b[0m\u001b[0;34m(\u001b[0m\u001b[0mpy_operation_name\u001b[0m\u001b[0;34m)\u001b[0m\u001b[0;34m\u001b[0m\u001b[0;34m\u001b[0m\u001b[0m\n",
      "\u001b[0;32m/home/ec2-user/anaconda3/envs/python3/lib/python3.6/site-packages/botocore/client.py\u001b[0m in \u001b[0;36m_make_api_call\u001b[0;34m(self, operation_name, api_params)\u001b[0m\n\u001b[1;32m    676\u001b[0m         }\n\u001b[1;32m    677\u001b[0m         request_dict = self._convert_to_request_dict(\n\u001b[0;32m--> 678\u001b[0;31m             api_params, operation_model, context=request_context)\n\u001b[0m\u001b[1;32m    679\u001b[0m \u001b[0;34m\u001b[0m\u001b[0m\n\u001b[1;32m    680\u001b[0m         \u001b[0mservice_id\u001b[0m \u001b[0;34m=\u001b[0m \u001b[0mself\u001b[0m\u001b[0;34m.\u001b[0m\u001b[0m_service_model\u001b[0m\u001b[0;34m.\u001b[0m\u001b[0mservice_id\u001b[0m\u001b[0;34m.\u001b[0m\u001b[0mhyphenize\u001b[0m\u001b[0;34m(\u001b[0m\u001b[0;34m)\u001b[0m\u001b[0;34m\u001b[0m\u001b[0;34m\u001b[0m\u001b[0m\n",
      "\u001b[0;32m/home/ec2-user/anaconda3/envs/python3/lib/python3.6/site-packages/botocore/client.py\u001b[0m in \u001b[0;36m_convert_to_request_dict\u001b[0;34m(self, api_params, operation_model, context)\u001b[0m\n\u001b[1;32m    724\u001b[0m             api_params, operation_model, context)\n\u001b[1;32m    725\u001b[0m         request_dict = self._serializer.serialize_to_request(\n\u001b[0;32m--> 726\u001b[0;31m             api_params, operation_model)\n\u001b[0m\u001b[1;32m    727\u001b[0m         \u001b[0;32mif\u001b[0m \u001b[0;32mnot\u001b[0m \u001b[0mself\u001b[0m\u001b[0;34m.\u001b[0m\u001b[0m_client_config\u001b[0m\u001b[0;34m.\u001b[0m\u001b[0minject_host_prefix\u001b[0m\u001b[0;34m:\u001b[0m\u001b[0;34m\u001b[0m\u001b[0;34m\u001b[0m\u001b[0m\n\u001b[1;32m    728\u001b[0m             \u001b[0mrequest_dict\u001b[0m\u001b[0;34m.\u001b[0m\u001b[0mpop\u001b[0m\u001b[0;34m(\u001b[0m\u001b[0;34m'host_prefix'\u001b[0m\u001b[0;34m,\u001b[0m \u001b[0;32mNone\u001b[0m\u001b[0;34m)\u001b[0m\u001b[0;34m\u001b[0m\u001b[0;34m\u001b[0m\u001b[0m\n",
      "\u001b[0;32m/home/ec2-user/anaconda3/envs/python3/lib/python3.6/site-packages/botocore/validate.py\u001b[0m in \u001b[0;36mserialize_to_request\u001b[0;34m(self, parameters, operation_model)\u001b[0m\n\u001b[1;32m    335\u001b[0m                                                     operation_model.input_shape)\n\u001b[1;32m    336\u001b[0m             \u001b[0;32mif\u001b[0m \u001b[0mreport\u001b[0m\u001b[0;34m.\u001b[0m\u001b[0mhas_errors\u001b[0m\u001b[0;34m(\u001b[0m\u001b[0;34m)\u001b[0m\u001b[0;34m:\u001b[0m\u001b[0;34m\u001b[0m\u001b[0;34m\u001b[0m\u001b[0m\n\u001b[0;32m--> 337\u001b[0;31m                 \u001b[0;32mraise\u001b[0m \u001b[0mParamValidationError\u001b[0m\u001b[0;34m(\u001b[0m\u001b[0mreport\u001b[0m\u001b[0;34m=\u001b[0m\u001b[0mreport\u001b[0m\u001b[0;34m.\u001b[0m\u001b[0mgenerate_report\u001b[0m\u001b[0;34m(\u001b[0m\u001b[0;34m)\u001b[0m\u001b[0;34m)\u001b[0m\u001b[0;34m\u001b[0m\u001b[0;34m\u001b[0m\u001b[0m\n\u001b[0m\u001b[1;32m    338\u001b[0m         return self._serializer.serialize_to_request(parameters,\n\u001b[1;32m    339\u001b[0m                                                      operation_model)\n",
      "\u001b[0;31mParamValidationError\u001b[0m: Parameter validation failed:\nInvalid type for parameter Body, value: [0, 0, 0, 0, 0, 0, 0, 0, 0, 0, 0, 0, 0, 0, 0, 0, 0, 0, 0, 0, 0, 0, 0, 0, 0, 0, 0, 0, 0, 0, 0, 0, 0, 0, 0, 0, 0, 0, 0, 0, 0, 0, 0, 0, 0, 0, 0, 0, 0, 0, 0, 0, 0, 0, 0, 0, 0, 0, 0, 0, 0, 0, 0, 0, 0, 0, 0, 0, 0, 0, 0, 0, 0, 0, 0, 0, 0, 0, 0, 0, 0, 0, 0, 0, 0, 0, 0, 0, 0, 0, 0, 0, 0, 0, 0, 0, 0, 0, 0, 0, 0, 0, 0, 0, 0, 0, 0, 0, 0, 0, 0, 0, 0, 0, 0, 0, 0, 0, 0, 0, 0, 0, 0, 0, 0, 0, 0, 0, 0, 0, 0, 0, 0, 0, 0, 0, 0, 0, 0, 0, 0, 0, 0, 0, 0, 0, 0, 0, 0, 0, 0, 0, 0, 0, 0, 0, 0, 0, 0, 0, 0, 0, 0, 0, 0, 0, 0, 0, 0, 0, 0, 0, 0, 0, 0, 0, 0, 0, 0, 0, 0, 0, 0, 0, 0, 0, 0, 0, 0, 0, 0, 0, 0, 0, 0, 0, 0, 0, 0, 0, 0, 0, 0, 0, 0, 0, 0, 0, 0, 0, 0, 0, 0, 0, 0, 0, 0, 0, 0, 0, 0, 0, 0, 0, 0, 0, 1, 0, 0, 0, 0, 0, 0, 0, 0, 0, 0, 0, 0, 0, 0, 0, 0, 0, 0, 0, 0, 0, 0, 0, 0, 0, 0, 0, 0, 0, 1, 0, 0, 0, 0, 0, 0, 0, 0, 0, 0, 0, 0, 0, 0, 0, 0, 0, 0, 0, 0, 0, 0, 0, 0, 0, 0, 0, 0, 0, 0, 0, 0, 0, 0, 0, 0, 0, 0, 0, 0, 0, 0, 0, 0, 0, 0, 0, 0, 0, 0, 0, 0, 0, 0, 0, 0, 0, 0, 0, 0, 0, 0, 0, 0, 0, 0, 0, 0, 0, 0, 0, 0, 0, 0, 0, 0, 0, 0, 0, 0, 0, 0, 0, 0, 0, 0, 0, 0, 0, 0, 0, 0, 0, 0, 0, 0, 0, 0, 0, 0, 0, 0, 0, 0, 0, 0, 0, 0, 0, 0, 0, 0, 0, 0, 0, 0, 0, 0, 0, 0, 0, 0, 0, 0, 0, 0, 0, 0, 0, 0, 0, 0, 0, 0, 0, 0, 0, 0, 0, 0, 0, 0, 0, 0, 0, 0, 0, 0, 0, 0, 0, 0, 0, 0, 0, 0, 0, 0, 0, 0, 0, 0, 0, 0, 0, 0, 0, 0, 0, 0, 0, 0, 0, 0, 0, 0, 0, 0, 0, 0, 0, 0, 0, 0, 0, 0, 0, 0, 0, 0, 0, 0, 0, 0, 0, 0, 0, 0, 0, 0, 0, 0, 0, 0, 0, 0, 0, 0, 0, 0, 0, 0, 0, 0, 0, 0, 0, 0, 0, 0, 0, 0, 0, 0, 0, 0, 0, 0, 0, 0, 0, 0, 0, 0, 0, 0, 0, 0, 0, 0, 0, 0, 0, 0, 0, 0, 0, 0, 0, 0, 0, 0, 0, 0, 0, 0, 0, 0, 0, 0, 0, 0, 0, 0, 0, 0, 0, 0, 0, 0, 0, 0, 0, 0, 0, 0, 0, 0, 0, 0, 0, 0, 0, 0, 0, 0, 0, 0, 0, 0, 0, 0, 0, 0, 0, 0, 0, 0, 0, 0, 0, 0, 0, 0, 0, 0, 0, 0, 0, 0, 0, 0, 0, 0, 0, 0, 0, 0, 0, 0, 0, 0, 0, 0, 0, 0, 0, 0, 0, 0, 0, 0, 0, 0, 0, 0, 0, 0, 0, 0, 0, 0, 0, 0, 0, 0, 0, 0, 0, 0, 0, 0, 0, 0, 0, 0, 0, 0, 0, 0, 0, 0, 0, 0, 0, 0, 0, 0, 0, 0, 0, 0, 0, 0, 0, 0, 0, 0, 0, 1, 0, 0, 0, 0, 0, 0, 0, 0, 0, 0, 0, 0, 0, 0, 0, 0, 0, 0, 0, 0, 0, 0, 0, 0, 0, 0, 0, 0, 0, 0, 0, 0, 0, 0, 0, 0, 0, 0, 0, 0, 0, 0, 0, 0, 0, 0, 0, 0, 0, 0, 0, 0, 0, 0, 0, 0, 0, 0, 0, 0, 0, 0, 0, 0, 0, 0, 0, 0, 0, 0, 0, 0, 0, 0, 0, 0, 0, 0, 0, 0, 0, 0, 0, 0, 0, 0, 0, 0, 0, 0, 0, 0, 0, 0, 0, 0, 0, 0, 0, 0, 0, 0, 0, 0, 0, 0, 0, 0, 0, 0, 0, 0, 0, 0, 0, 0, 0, 0, 0, 0, 0, 0, 0, 0, 0, 0, 0, 0, 0, 0, 0, 0, 0, 0, 0, 0, 0, 0, 0, 0, 0, 0, 0, 0, 0, 0, 0, 0, 0, 0, 0, 0, 0, 0, 0, 0, 0, 0, 0, 0, 0, 0, 0, 0, 0, 0, 0, 0, 0, 0, 0, 0, 0, 0, 0, 0, 0, 0, 0, 0, 0, 0, 0, 0, 0, 0, 0, 0, 0, 0, 0, 0, 0, 0, 0, 0, 0, 0, 0, 0, 0, 0, 0, 0, 0, 0, 0, 0, 0, 0, 0, 0, 0, 0, 0, 0, 0, 0, 0, 0, 0, 0, 0, 0, 0, 0, 0, 0, 0, 0, 0, 0, 0, 0, 0, 0, 0, 0, 0, 0, 0, 0, 0, 0, 0, 0, 0, 0, 0, 0, 0, 0, 0, 1, 0, 0, 0, 0, 0, 0, 0, 0, 0, 0, 0, 0, 0, 0, 0, 0, 0, 0, 0, 0, 0, 0, 0, 0, 0, 0, 0, 0, 0, 0, 0, 0, 0, 0, 0, 0, 0, 0, 0, 0, 0, 0, 0, 0, 0, 0, 0, 0, 0, 0, 0, 0, 0, 0, 0, 0, 0, 0, 0, 0, 0, 0, 0, 0, 0, 0, 0, 0, 0, 0, 0, 0, 0, 0, 0, 0, 0, 0, 0, 0, 0, 0, 0, 0, 0, 0, 1, 0, 0, 0, 0, 0, 0, 0, 0, 0, 0, 0, 0, 0, 0, 0, 0, 0, 0, 0, 0, 0, 0, 0, 0, 0, 0, 0, 0, 0, 0, 0, 0, 0, 0, 0, 0, 0, 0, 0, 0, 0, 0, 0, 0, 0, 0, 0, 0, 0, 0, 0, 0, 0, 0, 0, 0, 0, 0, 0, 0, 0, 0, 0, 0, 0, 0, 0, 0, 0, 0, 0, 0, 0, 0, 0, 0, 0, 0, 0, 0, 0, 0, 0, 0, 0, 0, 0, 0, 0, 0, 0, 0, 0, 0, 0, 0, 0, 0, 0, 0, 0, 0, 0, 0, 0, 0, 0, 0, 0, 0, 0, 0, 0, 0, 0, 0, 0, 0, 0, 0, 0, 0, 0, 0, 0, 0, 0, 0, 0, 0, 0, 0, 0, 0, 0, 0, 0, 0, 0, 0, 0, 0, 0, 0, 0, 0, 0, 0, 0, 0, 0, 0, 0, 0, 0, 0, 0, 0, 0, 0, 0, 0, 0, 0, 0, 0, 0, 0, 0, 0, 0, 0, 0, 0, 0, 0, 0, 0, 0, 0, 0, 0, 0, 0, 0, 0, 0, 0, 0, 0, 0, 0, 0, 0, 0, 0, 0, 0, 0, 0, 0, 0, 0, 0, 0, 0, 0, 0, 0, 0, 0, 0, 0, 0, 0, 0, 0, 0, 0, 0, 0, 0, 0, 0, 0, 0, 0, 0, 0, 0, 0, 0, 0, 0, 0, 0, 0, 0, 0, 0, 0, 0, 0, 0, 0, 0, 0, 0, 0, 0, 0, 0, 1, 0, 0, 0, 0, 0, 0, 0, 0, 0, 0, 0, 0, 0, 0, 0, 0, 0, 0, 0, 0, 0, 0, 0, 0, 0, 0, 0, 0, 0, 0, 0, 0, 0, 0, 0, 0, 0, 0, 0, 0, 0, 0, 0, 0, 0, 0, 0, 0, 0, 0, 0, 0, 0, 0, 0, 1, 0, 0, 0, 0, 0, 0, 0, 0, 0, 0, 0, 0, 0, 0, 0, 0, 0, 0, 0, 0, 0, 0, 0, 0, 0, 0, 0, 0, 0, 0, 0, 0, 0, 0, 0, 0, 0, 0, 0, 0, 0, 0, 0, 0, 0, 0, 0, 0, 0, 0, 0, 0, 0, 0, 0, 0, 0, 0, 0, 0, 0, 0, 0, 0, 0, 0, 0, 0, 0, 0, 0, 0, 0, 0, 0, 0, 0, 0, 0, 0, 0, 0, 0, 0, 0, 0, 0, 0, 0, 0, 0, 0, 0, 0, 0, 0, 0, 0, 0, 0, 0, 0, 0, 0, 0, 0, 0, 0, 0, 0, 0, 0, 0, 0, 0, 0, 0, 0, 0, 0, 0, 0, 0, 0, 0, 0, 0, 0, 0, 0, 0, 0, 0, 0, 0, 0, 0, 0, 0, 0, 0, 0, 0, 0, 0, 0, 0, 0, 0, 0, 0, 0, 0, 0, 0, 0, 0, 0, 0, 0, 0, 0, 0, 0, 0, 0, 0, 0, 0, 0, 0, 0, 0, 0, 0, 0, 0, 0, 0, 0, 0, 0, 0, 0, 0, 0, 0, 0, 0, 0, 0, 0, 0, 0, 0, 0, 0, 0, 0, 0, 0, 0, 0, 0, 0, 0, 0, 0, 0, 0, 0, 0, 0, 0, 0, 0, 0, 0, 0, 0, 0, 0, 0, 0, 0, 0, 0, 0, 0, 0, 0, 0, 0, 0, 0, 0, 0, 0, 0, 0, 0, 0, 0, 0, 0, 0, 0, 0, 0, 0, 0, 0, 0, 0, 0, 0, 0, 0, 0, 0, 0, 0, 0, 0, 0, 0, 0, 0, 0, 0, 0, 0, 0, 0, 0, 0, 0, 0, 0, 0, 0, 0, 0, 0, 0, 0, 0, 0, 0, 0, 0, 0, 0, 0, 0, 0, 0, 0, 0, 0, 0, 0, 0, 0, 0, 0, 0, 0, 0, 0, 0, 0, 0, 0, 0, 0, 0, 0, 0, 0, 0, 0, 0, 0, 0, 0, 0, 0, 0, 0, 0, 0, 0, 0, 0, 0, 0, 0, 0, 0, 0, 0, 0, 0, 0, 0, 0, 0, 0, 0, 0, 0, 0, 0, 0, 0, 0, 0, 0, 0, 0, 0, 0, 0, 0, 0, 0, 0, 0, 0, 0, 0, 0, 0, 0, 0, 0, 0, 0, 0, 0, 0, 0, 0, 0, 0, 0, 0, 0, 0, 0, 0, 0, 0, 0, 0, 0, 0, 0, 0, 0, 0, 0, 0, 0, 0, 0, 0, 0, 0, 0, 0, 0, 0, 0, 0, 0, 0, 0, 0, 0, 0, 0, 0, 0, 0, 0, 0, 0, 0, 0, 0, 0, 0, 0, 0, 0, 0, 0, 0, 0, 0, 0, 0, 0, 0, 0, 0, 0, 0, 0, 0, 0, 0, 0, 0, 0, 0, 0, 0, 0, 0, 0, 0, 0, 0, 0, 0, 0, 0, 0, 0, 0, 0, 0, 0, 0, 0, 0, 0, 0, 0, 0, 0, 0, 0, 0, 0, 0, 0, 0, 0, 0, 0, 0, 0, 0, 0, 0, 0, 0, 0, 0, 0, 0, 0, 0, 0, 0, 0, 0, 0, 0, 0, 0, 0, 0, 0, 0, 0, 0, 0, 0, 0, 0, 0, 0, 0, 0, 0, 0, 0, 0, 0, 0, 0, 0, 0, 0, 0, 0, 0, 0, 0, 0, 0, 0, 0, 0, 0, 0, 0, 0, 0, 0, 0, 0, 0, 0, 0, 0, 0, 0, 0, 0, 0, 0, 0, 0, 0, 0, 0, 0, 0, 0, 0, 0, 0, 0, 0, 0, 0, 0, 0, 0, 0, 0, 0, 0, 0, 0, 0, 0, 0, 0, 0, 0, 0, 0, 0, 0, 0, 0, 0, 0, 0, 0, 0, 0, 0, 0, 0, 0, 0, 0, 0, 0, 0, 0, 0, 0, 0, 0, 0, 0, 0, 0, 0, 0, 0, 0, 0, 0, 0, 0, 0, 0, 0, 0, 0, 0, 0, 0, 0, 0, 0, 0, 0, 0, 0, 0, 0, 0, 0, 0, 0, 0, 0, 0, 0, 0, 0, 0, 0, 0, 0, 0, 0, 0, 0, 0, 0, 0, 0, 0, 0, 0, 0, 0, 0, 0, 1, 0, 0, 0, 0, 0, 0, 0, 0, 0, 0, 0, 0, 0, 0, 0, 0, 0, 0, 0, 0, 0, 0, 0, 0, 0, 0, 0, 0, 0, 0, 0, 0, 0, 0, 0, 0, 0, 0, 0, 0, 0, 0, 0, 0, 0, 0, 0, 0, 0, 0, 0, 0, 0, 0, 0, 0, 0, 0, 0, 0, 0, 0, 0, 0, 0, 0, 0, 0, 0, 0, 0, 0, 0, 0, 1, 0, 0, 0, 0, 0, 0, 0, 0, 0, 0, 0, 0, 0, 0, 0, 0, 0, 0, 0, 0, 1, 0, 0, 1, 0, 0, 0, 0, 0, 0, 0, 0, 0, 0, 0, 0, 0, 0, 0, 0, 0, 0, 0, 0, 0, 0, 0, 0, 0, 0, 0, 0, 0, 0, 0, 0, 0, 0, 0, 0, 0, 0, 0, 0, 0, 0, 0, 0, 0, 0, 0, 0, 0, 0, 0, 0, 0, 0, 0, 0, 0, 0, 0, 0, 0, 0, 0, 0, 0, 0, 0, 0, 0, 0, 0, 0, 0, 0, 0, 0, 0, 0, 0, 0, 0, 0, 0, 0, 0, 0, 0, 0, 0, 0, 0, 0, 0, 0, 0, 0, 0, 0, 0, 0, 0, 0, 0, 0, 0, 0, 0, 0, 0, 0, 0, 0, 0, 0, 0, 0, 0, 0, 0, 0, 0, 0, 0, 0, 0, 0, 0, 0, 0, 0, 0, 0, 0, 0, 0, 0, 0, 0, 0, 0, 0, 0, 0, 0, 0, 0, 0, 0, 0, 0, 0, 0, 0, 0, 0, 0, 0, 0, 0, 0, 0, 0, 0, 0, 0, 0, 0, 0, 0, 0, 0, 0, 0, 0, 0, 0, 0, 0, 0, 0, 0, 0, 0, 0, 0, 0, 0, 0, 0, 0, 0, 0, 0, 0, 0, 0, 0, 0, 0, 0, 0, 0, 0, 0, 0, 0, 0, 0, 0, 0, 0, 0, 0, 0, 0, 0, 0, 0, 0, 0, 0, 0, 0, 0, 0, 0, 0, 0, 0, 0, 0, 0, 0, 0, 0, 0, 0, 0, 0, 0, 0, 0, 0, 0, 0, 0, 0, 0, 0, 0, 0, 0, 0, 0, 0, 0, 0, 0, 0, 0, 0, 0, 0, 0, 0, 0, 0, 0, 0, 0, 0, 0, 0, 0, 0, 0, 0, 0, 0, 0, 0, 0, 0, 0, 0, 0, 0, 0, 0, 0, 0, 0, 0, 0, 0, 0, 0, 0, 0, 0, 0, 0, 0, 0, 0, 0, 0, 0, 0, 0, 0, 0, 0, 0, 0, 0, 0, 0, 0, 0, 0, 0, 0, 0, 0, 0, 0, 0, 0, 0, 0, 0, 0, 0, 0, 0, 0, 0, 0, 0, 0, 0, 0, 0, 0, 0, 0, 0, 0, 0, 0, 0, 0, 0, 0, 0, 0, 0, 0, 0, 0, 0, 0, 0, 0, 0, 0, 0, 0, 0, 0, 0, 0, 0, 0, 0, 0, 0, 0, 0, 0, 0, 0, 0, 0, 0, 0, 0, 0, 0, 0, 0, 0, 0, 0, 0, 0, 0, 0, 0, 0, 0, 0, 0, 0, 0, 0, 0, 0, 0, 0, 0, 0, 0, 0, 0, 0, 0, 0, 0, 0, 0, 0, 0, 0, 0, 0, 0, 0, 0, 0, 0, 0, 0, 0, 0, 0, 0, 0, 0, 0, 0, 0, 0, 0, 0, 0, 0, 0, 0, 0, 0, 0, 0, 0, 0, 0, 0, 0, 0, 0, 0, 0, 0, 0, 0, 1, 0, 0, 0, 0, 0, 0, 0, 0, 0, 0, 0, 0, 0, 0, 0, 0, 0, 0, 0, 0, 0, 0, 0, 0, 0, 0, 0, 0, 0, 0, 0, 0, 0, 0, 0, 0, 0, 0, 0, 0, 0, 0, 0, 0, 0, 0, 0, 0, 0, 0, 0, 0, 0, 0, 0, 0, 0, 0, 0, 0, 0, 0, 0, 0, 0, 0, 0, 0, 0, 0, 0, 0, 0, 0, 0, 0, 0, 0, 0, 0, 0, 0, 0, 0, 0, 0, 0, 0, 0, 0, 0, 0, 0, 0, 0, 0, 0, 0, 0, 0, 0, 0, 0, 0, 0, 0, 0, 0, 0, 0, 0, 0, 0, 0, 0, 0, 0, 0, 0, 0, 0, 0, 0, 0, 0, 0, 0, 0, 0, 0, 0, 0, 0, 0, 0, 0, 0, 0, 0, 0, 0, 0, 0, 0, 0, 0, 0, 0, 0, 0, 0, 0, 0, 0, 0, 0, 0, 0, 0, 0, 0, 0, 0, 0, 0, 0, 0, 0, 0, 0, 0, 0, 0, 0, 0, 0, 0, 0, 0, 0, 0, 0, 0, 0, 0, 0, 0, 0, 0, 0, 0, 0, 0, 0, 0, 0, 0, 0, 0, 0, 0, 0, 0, 0, 0, 0, 0, 0, 0, 0, 0, 0, 0, 0, 0, 0, 0, 0, 0, 0, 0, 0, 0, 0, 0, 0, 0, 0, 0, 0, 0, 0, 0, 0, 0, 0, 0, 0, 0, 0, 0, 0, 0, 0, 0, 0, 0, 0, 0, 0, 0, 0, 0, 0, 0, 0, 0, 0, 0, 0, 0, 0, 0, 0, 0, 0, 0, 0, 0, 0, 0, 0, 0, 0, 0, 0, 0, 0, 0, 0, 0, 0, 0, 0, 0, 0, 0, 0, 0, 0, 0, 0, 0, 0, 0, 0, 0, 0, 0, 0, 0, 0, 0, 0, 0, 0, 0, 0, 0, 0, 0, 0, 0, 0, 0, 0, 0, 0, 0, 0, 0, 0, 0, 0, 0, 0, 0, 0, 0, 0, 0, 0, 0, 0, 0, 0, 0, 0, 0, 0, 0, 0, 0, 0, 0, 0, 0, 0, 0, 0, 0, 0, 0, 0, 0, 0, 0, 0, 0, 0, 0, 0, 0, 0, 0, 0, 0, 0, 0, 0, 0, 0, 0, 0, 0, 0, 0, 0, 0, 0, 0, 0, 0, 0, 0, 0, 0, 0, 0, 0, 0, 0, 0, 0, 0, 0, 0, 0, 0, 0, 0, 0, 0, 0, 0, 0, 0, 0, 0, 0, 0, 0, 0, 0, 0, 0, 0, 0, 0, 0, 0, 0, 0, 0, 0, 0, 0, 0, 0, 0, 0, 0, 0, 0, 0, 0, 0, 0, 0, 0, 0, 0, 0, 0, 0, 0, 0, 0, 0, 0, 0, 0, 0, 0, 0, 0, 0, 0, 0, 0, 0, 0, 0, 0, 0, 0, 0, 0, 0, 0, 0, 0, 0, 0, 0, 0, 0, 0, 0, 0, 0, 0, 0, 0, 0, 0, 0, 0, 0, 0, 0, 0, 0, 0, 0, 0, 0, 0, 0, 0, 0, 0, 0, 0, 0, 0, 0, 0, 0, 0, 0, 0, 1, 0, 0, 0, 0, 0, 0, 0, 0, 0, 0, 0, 0, 0, 0, 0, 0, 0, 0, 0, 0, 0, 0, 0, 0, 0, 0, 0, 0, 0, 0, 0, 0, 0, 0, 0, 2, 0, 0, 0, 0, 0, 0, 0, 0, 0, 0, 0, 0, 0, 0, 0, 0, 0, 0, 0, 0, 0, 0, 0, 0, 0, 0, 0, 0, 0, 0, 0, 0, 0, 0, 0, 0, 0, 0, 0, 0, 1, 0, 0, 0, 0, 0, 0, 0, 0, 0, 0, 0, 0, 0, 0, 0, 0, 0, 0, 0, 0, 0, 0, 0, 0, 0, 0, 0, 0, 0, 0, 0, 0, 0, 0, 0, 0, 0, 0, 0, 0, 0, 0, 0, 0, 0, 0, 0, 0, 0, 0, 0, 0, 0, 0, 0, 0, 0, 0, 0, 0, 0, 0, 0, 0, 0, 0, 0, 0, 0, 0, 0, 0, 0, 0, 0, 0, 0, 0, 0, 0, 0, 0, 0, 0, 0, 0, 0, 0, 0, 0, 0, 0, 0, 0, 0, 0, 0, 0, 0, 0, 0, 0, 0, 0, 0, 0, 0, 0, 0, 0, 0, 0, 0, 0, 0, 0, 0, 0, 0, 0, 0, 0, 0, 0, 0, 0, 0, 0, 0, 0, 0, 0, 0, 0, 0, 0, 0, 0, 0, 0, 0, 0, 0, 0, 0, 0, 0, 0, 0, 0, 0, 0, 0, 0, 0, 0, 0, 0, 0, 0, 0, 0, 0, 0, 0, 0, 0, 0, 0, 0, 0, 0, 0, 0, 0, 0, 0, 0, 0, 0, 0, 0, 0, 0, 0, 0, 0, 0, 0, 0, 0, 0, 0, 0, 0, 0, 0, 0, 0, 0, 0, 0, 0, 0, 0, 0, 0, 0, 0, 0, 0, 0, 0, 0, 0, 0, 0, 0, 0, 0, 0, 0, 0, 0, 0, 0, 0, 0, 0, 0, 0, 0, 0, 0, 0, 0, 0, 0, 0, 0, 0, 0, 0, 0, 0, 0, 0, 0, 0, 0, 0, 0, 0, 0, 0, 0, 0, 0, 0, 0, 0, 0, 0, 0, 0, 0, 0, 0, 0, 0, 0, 0, 0, 0, 0, 0, 0, 0, 0, 0, 0, 0, 0, 0, 0, 0, 0, 0, 0, 0, 0, 0, 0, 0, 0, 0, 0, 0, 0, 0, 0, 0, 0, 0, 0, 0, 0, 0, 0, 0, 0, 0, 0, 0, 0, 0, 0, 0, 0, 0, 0, 0, 0, 0, 0, 0, 0, 0, 0, 0, 0, 0, 0, 0, 0, 0, 0, 0, 0, 0, 0, 0, 0, 0, 0, 0, 0, 0, 0, 0, 0, 0, 0, 0, 0, 0, 0, 0, 0, 0, 0, 0, 0, 0, 0, 0, 0, 0, 0, 0, 0, 0, 0, 0, 0, 0, 0, 0, 0, 0, 0, 0, 0, 0, 0, 0, 0, 0, 0, 0, 0, 0, 0, 0, 0, 0, 0, 0, 0, 0, 0, 0, 0, 0, 0, 0, 0, 0, 0, 0, 0, 0, 0, 0, 0, 0, 0, 0, 0, 0, 0, 0, 0, 0, 0, 0, 0, 0, 0, 0, 0, 0, 0, 0, 0, 0, 0, 0, 0, 0, 0, 0, 0, 0, 0, 0, 0, 0, 0, 0, 0, 0, 0, 0, 0, 0, 0, 0, 0, 0, 0, 0, 0, 0, 0, 0, 0, 0, 0, 0, 0, 0, 0, 0, 0, 0, 0, 0, 0, 0, 0, 0, 0, 0, 0, 0, 0, 0, 0, 0, 0, 0, 0, 0, 0, 0, 0, 1, 0, 0, 0, 0, 0, 0, 0, 0, 0, 0, 0, 0, 0, 0, 0, 0, 0, 0, 0, 0, 0, 0, 0, 0, 0, 0, 0, 0, 0, 0, 0, 0, 0, 0, 0, 0, 0, 0, 0, 0, 0, 0, 0, 0, 0, 0, 0, 0, 0, 0, 0, 0, 0, 0, 0, 0, 0, 0, 0, 0, 0, 0, 0, 0, 0, 0, 0, 0, 0, 0, 0, 0, 0, 0, 0, 0, 0, 0, 0, 0, 0, 0, 0, 0, 0, 0, 0, 0, 0, 0, 0, 0, 0, 0, 0, 0, 0, 0, 0, 0, 0, 0, 0, 0, 0, 0, 0, 0, 0, 0, 2, 0, 0, 0, 0, 0, 0, 0, 0, 0, 0, 0, 0, 0, 0, 0, 0, 0, 0, 0, 0, 0, 0, 0, 0, 0, 0, 0, 0, 0, 0, 0, 0, 0, 0, 0, 0, 0, 0, 0, 0, 0, 0, 0, 0, 0, 0, 0, 0, 0, 0, 0, 0, 0, 0, 0, 0, 0, 0, 0, 0, 0, 0, 0, 0, 0, 0, 0, 0, 0, 0, 0, 0, 0, 0, 0, 0, 0, 0, 0, 0, 0, 0, 0, 0, 0, 0, 0, 0, 0, 0, 0, 0, 0, 0, 0, 0, 0, 0, 0, 0, 0, 0, 0, 0, 0, 0, 0, 0, 0, 0, 0, 0, 0, 0, 0, 0, 0, 0, 0, 0, 0, 0, 0, 0, 0, 0, 0, 0, 0, 0, 0, 0, 0, 0, 0, 0, 0, 0, 0, 0, 0, 0, 0, 0, 0, 0, 0, 0, 0, 0, 0, 0, 0, 0, 0, 0, 0, 0, 0, 0, 0, 0, 0, 0, 0, 0, 0, 0, 0, 0, 0, 0, 0, 0, 0, 0, 0, 0, 0, 0, 0, 0, 0, 0, 0, 0, 0, 0, 0, 0, 0, 0, 0, 0, 0, 0, 0, 0, 0, 0, 0, 0, 0, 0, 0, 0, 0, 0, 0, 0, 0, 0, 0, 0, 0, 0, 0, 0, 0, 0, 0, 0, 0, 0, 0, 0, 0, 0, 0, 0, 0, 0, 0, 0, 0, 0, 0, 0, 0, 0, 0, 0, 0, 0, 0, 0, 0, 0, 0, 0, 0, 0, 0, 0, 0, 0, 0, 0, 0, 0, 0, 0, 0, 0, 0, 0, 0, 0, 0, 0, 0, 0, 0, 0, 0, 0, 0, 0, 0, 0, 0, 0, 0, 0, 0, 0, 0, 0, 0, 0, 0, 0, 0, 0, 0, 0, 0, 0, 0, 0, 0, 0, 0, 0, 0, 0, 0, 0, 0, 0, 0, 0, 0, 0, 0, 0, 0, 0, 0, 0, 0, 0, 0, 0, 0, 0, 0, 0, 0, 0, 0, 0, 0, 0, 0, 0, 0, 0, 0, 0, 0, 0, 0, 0, 0, 0, 0, 0, 0, 0, 0, 0, 0, 0, 0, 0, 0, 0, 0, 0, 0, 0, 0, 0, 0, 0, 0, 0, 0, 0, 0, 0, 0, 0, 0, 0, 0, 0, 0, 0, 0, 0, 0, 0, 0, 0, 0, 0, 0, 0, 0, 0, 0, 0, 0, 0, 0, 0, 0, 0, 0, 0, 0, 0, 0, 0, 0, 0, 0, 0, 0, 0, 0, 0, 0, 0, 0, 0, 0, 0, 0, 0, 0, 0, 0, 0, 0, 0, 0, 0, 0, 0, 0, 0, 0, 0, 0, 0, 0, 0, 0, 0, 0, 0, 0, 0, 0, 0, 0, 0, 0, 0, 0, 0, 0, 0, 0, 0, 0, 0, 0, 0, 0, 0, 0, 0, 0, 0, 0, 0, 0, 0, 0, 0, 0, 0, 0, 0, 0, 0, 0, 0, 0, 0, 0, 0, 0, 0, 0, 0, 0, 0, 0, 0, 0, 0, 0, 0, 0, 0, 0, 0, 0, 0, 0, 0, 0, 0, 0, 0, 0, 0, 0, 0, 0, 0, 0, 0, 0, 0, 0, 0, 0, 0, 0, 0, 0, 0, 0, 0, 0, 0, 0, 0, 0, 0, 0, 0, 0, 0, 0, 0, 0, 0, 0, 0, 0, 0, 0, 0, 0, 0, 0, 0, 0, 0, 0, 0, 0, 0, 0, 0, 0, 0, 0, 0, 0, 0, 0, 0, 0, 0, 0, 0, 0, 0, 0, 0, 0, 0, 0, 0, 0, 0, 0, 0, 0, 0, 0, 0, 0, 0, 0, 0, 0, 0, 0, 0, 0, 0, 0, 0, 0, 0, 0, 0, 0, 0, 0, 0, 0, 0, 0, 0, 0, 0, 0, 0, 0, 0, 0, 0, 0, 0, 0, 0, 0, 0, 0, 0, 0, 0, 0, 0, 0, 0, 0, 0, 0, 0, 0, 0, 0, 0, 0, 0, 0, 0, 0, 0, 0, 0, 0, 0, 0, 0, 0, 0, 0, 0, 0, 0, 0, 0, 0, 0, 0, 0, 0, 0, 0, 0, 0, 0, 0, 0, 0, 0, 0, 0, 0, 0, 0, 0, 0, 0, 0, 0, 0, 0, 1, 0, 0, 0, 0, 0, 0, 0, 0, 0, 0, 0, 0, 0, 0, 0, 0, 0, 0, 0, 0, 0, 0, 0, 0, 0, 0, 0, 0, 0, 0, 0, 0, 0, 0, 0, 0, 0, 0, 0, 0, 0, 0, 0, 0, 0, 0, 0, 0, 0, 0, 0, 0, 0, 0, 0, 0, 0, 0, 0, 0, 0, 0, 0, 0, 0, 0, 0, 0, 0, 0, 0, 0, 0, 0, 0, 0, 0, 0, 0, 0, 0, 0, 0, 0, 0, 0, 0, 0, 0, 0, 0, 0, 0, 0, 0, 0, 0, 0, 0, 0, 0, 0, 0, 0, 0, 0, 0, 1, 0, 0, 0, 0, 0, 0, 0, 0, 0, 0, 0, 0, 0, 0, 0, 0, 0, 0, 0, 0, 0, 0, 0, 0, 0, 0, 0, 0, 0, 0, 0, 0, 0, 0, 0, 0, 0, 0, 0, 0, 0, 0, 0, 0, 0, 0, 0, 0, 0, 0, 0, 0, 0, 0, 0, 0, 0, 0, 0, 0, 0, 0, 0, 0, 0, 0, 0, 0, 0, 0, 0, 0, 0, 0, 0, 0, 0, 0, 0, 0, 0, 0, 0, 0, 0, 0, 0, 0, 0, 0, 0, 0, 0, 0, 0, 0, 0, 0, 0, 0, 0, 0, 0, 0, 0, 0, 0, 0, 0, 0, 0, 0, 0, 0, 0, 0, 0, 0, 0, 0, 0, 0, 0, 0, 0, 0, 0, 0, 0, 0, 0, 0, 0, 0, 0, 0, 0, 0, 0, 0, 0, 0, 0, 0, 0, 0, 0, 0, 0, 0, 0, 0, 0, 0, 0, 0, 0, 0, 0, 0, 0, 0, 0, 0, 0, 0, 0, 0, 0, 0, 0, 0, 0, 0, 0, 0, 0, 0, 0, 0, 0, 0, 0, 0, 0, 0, 0, 0, 0, 0, 0, 0, 0, 0, 0, 0, 0, 0, 0, 0, 0, 0, 0, 0, 0, 0, 0, 0, 0, 0, 0, 0, 0, 0, 0, 0, 0, 0, 0, 0, 0, 0, 0, 0, 0, 0, 0, 0, 0, 0, 0, 0, 0, 0, 0, 0, 0, 0, 0, 0, 0, 0, 0, 0, 0, 0, 0, 0, 0, 0, 0, 0, 0, 0, 0, 0, 0, 0, 0, 0, 0, 0, 0, 0, 0, 0, 0, 0, 0, 0, 0, 0, 0, 0, 0, 0, 0, 0, 0, 0, 0, 0, 0, 0, 0, 0, 0, 0, 0, 0, 0, 0, 0, 0, 0, 0, 0, 0, 0, 0, 0, 0, 0, 0, 0, 0, 0, 0, 0, 0, 0, 0, 0, 0, 0, 0, 0, 0, 0, 0, 0, 0, 0, 0, 0, 0, 0, 0, 0, 0, 0, 0, 0, 0, 0, 0, 0, 0, 0, 0, 0, 0, 0, 0, 0, 0, 0, 0, 0, 0, 0, 0, 0, 0, 0, 0, 0, 0, 0, 0, 0, 0, 0, 0, 0, 0, 0, 0, 0, 0, 0, 0, 0, 0, 0, 0, 0, 0, 0, 0, 0, 0, 0, 0, 0, 0, 0, 0, 0, 0, 0, 0, 0, 0, 0, 0, 0, 0, 0, 0, 0, 0, 0, 0, 0, 0, 0, 0, 0, 0, 0, 0, 0, 0, 0, 0, 0, 0, 0, 0, 0, 0, 0, 0, 0, 0, 0, 0, 0, 0, 0, 0, 0, 0, 0, 0, 0, 0, 0, 0, 0, 0, 0, 0, 0, 0, 0, 0, 0, 0, 0, 0, 0, 0, 0, 0, 0, 0, 0, 0, 0, 0, 0, 2, 0, 1, 0], type: <class 'list'>, valid types: <class 'bytes'>, <class 'bytearray'>, file-like object"
     ]
    }
   ],
   "source": [
    "response = runtime.invoke_endpoint(EndpointName = xgb_predictor.endpoint, # The name of the endpoint we created\n",
    "                                       ContentType = 'text/csv',                     # The data format that is expected\n",
    "                                       Body = test_bow)"
   ]
  },
  {
   "cell_type": "markdown",
   "metadata": {},
   "source": [
    "So why did we get an error?\n",
    "\n",
    "Because we tried to send the endpoint a list of integers but it expected us to send data of type `text/csv`. So, we need to convert it."
   ]
  },
  {
   "cell_type": "code",
   "execution_count": 46,
   "metadata": {},
   "outputs": [],
   "source": [
    "response = runtime.invoke_endpoint(EndpointName = xgb_predictor.endpoint, # The name of the endpoint we created\n",
    "                                       ContentType = 'text/csv',                     # The data format that is expected\n",
    "                                       Body = ','.join([str(val) for val in test_bow]).encode('utf-8'))"
   ]
  },
  {
   "cell_type": "code",
   "execution_count": 47,
   "metadata": {},
   "outputs": [
    {
     "name": "stdout",
     "output_type": "stream",
     "text": [
      "{'ResponseMetadata': {'RequestId': 'd5fc440f-5e62-4c50-8596-995554690806', 'HTTPStatusCode': 200, 'HTTPHeaders': {'x-amzn-requestid': 'd5fc440f-5e62-4c50-8596-995554690806', 'x-amzn-invoked-production-variant': 'AllTraffic', 'date': 'Wed, 13 Oct 2021 13:43:04 GMT', 'content-type': 'text/csv; charset=utf-8', 'content-length': '18'}, 'RetryAttempts': 0}, 'ContentType': 'text/csv; charset=utf-8', 'InvokedProductionVariant': 'AllTraffic', 'Body': <botocore.response.StreamingBody object at 0x7f9794b49668>}\n"
     ]
    }
   ],
   "source": [
    "print(response)"
   ]
  },
  {
   "cell_type": "markdown",
   "metadata": {},
   "source": [
    "As we can see, the response from our model is a somewhat complicated looking dict that contains a bunch of information. The bit that we are most interested in is `'Body'` object which is a streaming object that we need to `read` in order to make use of."
   ]
  },
  {
   "cell_type": "code",
   "execution_count": 48,
   "metadata": {},
   "outputs": [
    {
     "name": "stdout",
     "output_type": "stream",
     "text": [
      "0.4322388172149658\n"
     ]
    }
   ],
   "source": [
    "response = response['Body'].read().decode('utf-8')\n",
    "print(response)"
   ]
  },
  {
   "cell_type": "markdown",
   "metadata": {},
   "source": [
    "Now that we know how to process the incoming user data we can start setting up the infrastructure to make our simple web app work. To do this we will make use of two different services. Amazon's Lambda and API Gateway services.\n",
    "\n",
    "Lambda is a service which allows someone to write some relatively simple code and have it executed whenever a chosen trigger occurs. For example, you may want to update a database whenever new data is uploaded to a folder stored on S3.\n",
    "\n",
    "API Gateway is a service that allows you to create HTTP endpoints (url addresses) which are connected to other AWS services. One of the benefits to this is that you get to decide what credentials, if any, are required to access these endpoints.\n",
    "\n",
    "In our case we are going to set up an HTTP endpoint through API Gateway which is open to the public. Then, whenever anyone sends data to our public endpoint we will trigger a Lambda function which will send the input (in our case a review) to our model's endpoint and then return the result."
   ]
  },
  {
   "cell_type": "markdown",
   "metadata": {},
   "source": [
    "### Setting up a Lambda function\n",
    "\n",
    "The first thing we are going to do is set up a Lambda function. This Lambda function will be executed whenever our public API has data sent to it. When it is executed it will receive the data, perform any sort of processing that is required, send the data (the review) to the SageMaker endpoint we've created and then return the result.\n",
    "\n",
    "#### Part A: Create an IAM Role for the Lambda function\n",
    "\n",
    "Since we want the Lambda function to call a SageMaker endpoint, we need to make sure that it has permission to do so. To do this, we will construct a role that we can later give the Lambda function.\n",
    "\n",
    "Using the AWS Console, navigate to the **IAM** page and click on **Roles**. Then, click on **Create role**. Make sure that the **AWS service** is the type of trusted entity selected and choose **Lambda** as the service that will use this role, then click **Next: Permissions**.\n",
    "\n",
    "In the search box type `sagemaker` and select the check box next to the **AmazonSageMakerFullAccess** policy. Then, click on **Next: Review**.\n",
    "\n",
    "Lastly, give this role a name. Make sure you use a name that you will remember later on, for example `LambdaSageMakerRole`. Then, click on **Create role**."
   ]
  },
  {
   "cell_type": "markdown",
   "metadata": {},
   "source": [
    "#### Part B: Create a Lambda function\n",
    "\n",
    "Now it is time to actually create the Lambda function. Remember from earlier that in order to process the user provided input and send it to our endpoint we need to gather two pieces of information:\n",
    "\n",
    " - The name of the endpoint, and\n",
    " - the vocabulary object.\n",
    "\n",
    "We will copy these pieces of information to our Lambda function after we create it.\n",
    "\n",
    "To start, using the AWS Console, navigate to the AWS Lambda page and click on **Create a function**. When you get to the next page, make sure that **Author from scratch** is selected. Now, name your Lambda function, using a name that you will remember later on, for example `sentiment_analysis_xgboost_func`. Make sure that the **Python 3.6** runtime is selected and then choose the role that you created in the previous part. Then, click on **Create Function**.\n",
    "\n",
    "On the next page you will see some information about the Lambda function you've just created. If you scroll down you should see an editor in which you can write the code that will be executed when your Lambda function is triggered. Collecting the code we wrote above to process a single review and adding it to the provided example `lambda_handler` we arrive at the following.\n",
    "\n",
    "```python\n",
    "# We need to use the low-level library to interact with SageMaker since the SageMaker API\n",
    "# is not available natively through Lambda.\n",
    "import boto3\n",
    "\n",
    "# And we need the regular expression library to do some of the data processing\n",
    "import re\n",
    "\n",
    "REPLACE_NO_SPACE = re.compile(\"(\\.)|(\\;)|(\\:)|(\\!)|(\\')|(\\?)|(\\,)|(\\\")|(\\()|(\\))|(\\[)|(\\])\")\n",
    "REPLACE_WITH_SPACE = re.compile(\"(<br\\s*/><br\\s*/>)|(\\-)|(\\/)\")\n",
    "\n",
    "def review_to_words(review):\n",
    "    words = REPLACE_NO_SPACE.sub(\"\", review.lower())\n",
    "    words = REPLACE_WITH_SPACE.sub(\" \", words)\n",
    "    return words\n",
    "    \n",
    "def bow_encoding(words, vocabulary):\n",
    "    bow = [0] * len(vocabulary) # Start by setting the count for each word in the vocabulary to zero.\n",
    "    for word in words.split():  # For each word in the string\n",
    "        if word in vocabulary:  # If the word is one that occurs in the vocabulary, increase its count.\n",
    "            bow[vocabulary[word]] += 1\n",
    "    return bow\n",
    "\n",
    "\n",
    "def lambda_handler(event, context):\n",
    "    \n",
    "    vocab = \"*** ACTUAL VOCABULARY GOES HERE ***\"\n",
    "    \n",
    "    words = review_to_words(event['body'])\n",
    "    bow = bow_encoding(words, vocab)\n",
    "\n",
    "    # The SageMaker runtime is what allows us to invoke the endpoint that we've created.\n",
    "    runtime = boto3.Session().client('sagemaker-runtime')\n",
    "\n",
    "    # Now we use the SageMaker runtime to invoke our endpoint, sending the review we were given\n",
    "    response = runtime.invoke_endpoint(EndpointName = '***ENDPOINT NAME HERE***',# The name of the endpoint we created\n",
    "                                       ContentType = 'text/csv',                 # The data format that is expected\n",
    "                                       Body = ','.join([str(val) for val in bow]).encode('utf-8')) # The actual review\n",
    "\n",
    "    # The response is an HTTP response whose body contains the result of our inference\n",
    "    result = response['Body'].read().decode('utf-8')\n",
    "    \n",
    "    # Round the result so that our web app only gets '1' or '0' as a response.\n",
    "    result = round(float(result))\n",
    "\n",
    "    return {\n",
    "        'statusCode' : 200,\n",
    "        'headers' : { 'Content-Type' : 'text/plain', 'Access-Control-Allow-Origin' : '*' },\n",
    "        'body' : str(result)\n",
    "    }\n",
    "```"
   ]
  },
  {
   "cell_type": "markdown",
   "metadata": {},
   "source": [
    "Once you have copy and pasted the code above into the Lambda code editor, replace the `**ENDPOINT NAME HERE**` portion with the name of the endpoint that we deployed earlier. You can determine the name of the endpoint using the code cell below."
   ]
  },
  {
   "cell_type": "code",
   "execution_count": 49,
   "metadata": {},
   "outputs": [
    {
     "data": {
      "text/plain": [
       "'xgboost-2021-10-13-12-59-31-098'"
      ]
     },
     "execution_count": 49,
     "metadata": {},
     "output_type": "execute_result"
    }
   ],
   "source": [
    "xgb_predictor.endpoint"
   ]
  },
  {
   "cell_type": "markdown",
   "metadata": {},
   "source": [
    "In addition, you will need to copy the vocabulary dict to the appropriate place in the code at the beginning of the `lambda_handler` method. The cell below prints out the vocabulary dict in a way that is easy to copy and paste."
   ]
  },
  {
   "cell_type": "code",
   "execution_count": 50,
   "metadata": {},
   "outputs": [
    {
     "name": "stdout",
     "output_type": "stream",
     "text": [
      "{'love': 2669, 'this': 4457, 'tv': 4610, 'series': 3890, 'so': 4046, 'much': 2934, 'it': 2366, 'contains': 964, 'animation': 242, 'that': 4424, 'is': 2360, 'interesting': 2325, 'and': 226, 'beautiful': 428, 'cant': 671, 'believe': 454, 'they': 4442, 'cut': 1089, 'off': 3084, 'also': 199, 'never': 3001, 'found': 1811, 'out': 3141, 'whether': 4866, 'die': 1243, 'or': 3124, 'not': 3040, 'apparently': 270, 'survive': 4321, 'but': 636, 'im': 2232, 'sure': 4308, 'was': 4805, 'by': 642, 'far': 1653, 'the': 4426, 'best': 469, 'show': 3953, 'ever': 1538, 'know': 2489, 'its': 2370, 'to': 4507, 'late': 2523, 'hope': 2155, 'will': 4886, 'start': 4156, 'over': 3148, 'again': 146, 'really': 3556, 'glad': 1916, 'got': 1944, 'watch': 4811, 'about': 67, 'women': 4923, 'name': 2960, 'of': 3083, 'she': 3923, 'human': 2188, 'goes': 1930, 'man': 2721, 'teacher': 4375, 'at': 331, 'now': 3054, 'actually': 109, 'just': 2437, 'as': 311, 'in': 2257, 'day': 1129, 'night': 3013, 'city': 825, 'guy': 2000, 'von': 4765, 'one': 3107, 'who': 4871, 'created': 1037, 'once': 3106, 'he': 2056, 'finds': 1728, 'put': 3480, 'alive': 186, 'uses': 4697, 'everything': 1544, 'can': 665, 'capture': 676, 'her': 2085, 'if': 2222, 'have': 2052, 'watched': 4813, 'before': 440, 'should': 3951, 'totally': 4532, 'world': 4946, 'why': 4878, 'did': 1241, 'some': 4061, 'people': 3221, 'issues': 2365, '13': 4, 'episodes': 1508, 'young': 4989, 'mr': 2929, 'lincoln': 2608, 'marks': 2742, 'first': 1736, 'film': 1716, 'director': 1264, 'star': 4150, 'john': 2409, 'ford': 1789, 'henry': 2084, 'fonda': 1777, 'recall': 3562, 'years': 4979, 'ago': 154, 'telling': 4396, 'actor': 103, 'nervous': 2999, 'playing': 3300, 'abraham': 69, 'scared': 3805, 'wouldnt': 4958, 'live': 2625, 'up': 4683, 'challenge': 743, 'shooting': 3943, 'starts': 4159, 'him': 2110, 'ease': 1404, 'saying': 3800, 'wasnt': 4807, 'going': 1931, 'be': 418, 'great': 1964, 'jack': 2373, 'leg': 2562, 'lawyer': 2541, 'being': 448, 'headed': 2058, 'cast': 710, 'directed': 1259, 'into': 2332, 'classic': 835, 'had': 2003, 'come': 886, 'sound': 4081, 'era': 1513, 'with': 4911, 'walter': 4784, 'year': 4978, 'after': 143, 'raymond': 3534, 'prize': 3405, 'winning': 4898, 'play': 3296, 'robert': 3713, 'still': 4188, 'remains': 3611, 'said': 3774, 'small': 4033, 'town': 4541, '10': 0, 'early': 1400, 'life': 2592, 'we': 4823, 'see': 3855, 'general': 1880, 'store': 4204, 'getting': 1901, 'law': 2538, 'books': 536, 'from': 1840, 'an': 223, 'family': 1645, 'whose': 4877, 'path': 3209, 'would': 4957, 'cross': 1066, 'later': 2525, 'story': 4207, 'his': 2118, 'romance': 3732, 'ann': 244, 'death': 1141, 'leaving': 2557, 'most': 2909, 'fast': 1661, 'forward': 1808, 'attorney': 348, 'beginning': 443, 'get': 1899, 'notice': 3048, 'hes': 2093, 'served': 3894, 'couple': 1016, 'terms': 4406, 'back': 378, 'private': 3404, 'practice': 3363, 'politics': 3326, 'for': 1784, 'where': 4864, 'action': 100, 'takes': 4351, 'place': 3282, 'two': 4620, 'sons': 4073, 'hed': 2072, 'gotten': 1947, 'way': 4820, 'when': 4862, 'are': 285, 'accused': 91, 'murder': 2939, 'offers': 3090, 'defend': 1158, 'them': 4432, 'ordinary': 3128, 'sheriff': 3929, 'trial': 4580, 'itself': 2371, 'fiction': 1702, 'used': 4693, 'defense': 1159, 'richard': 3686, 'eddie': 1416, 'played': 3297, 'based': 404, 'on': 3105, 'real': 3547, 'case': 707, 'ill': 2228, 'say': 3799, 'no': 3020, 'more': 2904, 'other': 3135, 'than': 4420, 'performances': 3229, 'strength': 4219, 'captures': 678, 'mood': 2898, 'atmosphere': 333, 'setting': 3900, 'fourth': 1813, 'almost': 193, 'like': 2599, 'youre': 4992, 'watching': 4815, 'country': 1014, 'growing': 1983, 'fans': 1650, 'films': 1721, 'recognize': 3569, 'musical': 2947, 'themes': 4434, 'here': 2086, 'were': 4848, 'repeated': 3631, 'during': 1387, 'romantic': 3733, 'moore': 2901, 'music': 2946, 'background': 380, 'same': 3778, 'theme': 4433, 'shot': 3949, 'miles': 2843, 'dance': 1103, 'tune': 4602, 'lovely': 2671, 'susan': 4326, 'brown': 601, 'plays': 3301, 'mary': 2751, 'todd': 4510, 'my': 2951, 'raising': 3509, 'church': 813, 'forever': 1792, 'favorite': 1671, 'subject': 4253, 'because': 432, 'reasons': 3560, 'living': 2629, 'our': 3139, 'own': 3158, 'american': 213, 'rising': 3703, 'very': 4723, 'bottom': 551, 'power': 3359, 'through': 4477, 'their': 4431, 'efforts': 1433, 'fact': 1621, 'shows': 3960, 'came': 656, 'secondly': 3847, 'president': 3378, 'greatest': 1966, 'crisis': 1060, 'history': 2121, 'made': 2697, 'good': 1937, 'moral': 2902, 'decision': 1151, 'free': 1827, 'civil': 826, 'war': 4792, 'albeit': 173, 'necessary': 2984, 'political': 3324, 'besides': 468, 'others': 3136, 'ive': 2372, 'mentioned': 2811, 'special': 4097, 'praise': 3364, 'go': 1924, 'fred': 1825, 'jr': 2423, 'ward': 4793, 'bond': 532, 'victim': 4729, 'chief': 788, 'donald': 1321, 'alice': 182, 'brady': 561, 'what': 4858, 'turned': 4606, 'last': 2521, 'mother': 2911, 'nice': 3008, 'performance': 3228, 'characters': 760, 'judge': 2424, 'drama': 1346, 'time': 4495, 'set': 3898, 'you': 4986, 'do': 1302, 'better': 472, 'reading': 3544, 'review': 3676, 'house': 2178, 'many': 2732, 'may': 2775, 'assume': 328, '14': 6, 'old': 3100, 'thinks': 4454, 'scream': 3826, 'considered': 951, 'horror': 2168, '30': 42, 'been': 438, 'admittedly': 123, 'child': 789, '80s': 59, 'grew': 1972, 'slasher': 4020, 'zombie': 4997, 'ghost': 1902, 'cannibal': 669, 'typically': 4624, 'prefer': 3368, 'graphic': 1958, 'faster': 1662, 'paced': 3162, 'someone': 4064, 'appreciate': 279, 'different': 1248, 'painting': 3175, 'necessarily': 2983, 'enjoy': 1484, 'sort': 4077, 'dont': 1324, 'dull': 1384, 'tedious': 4387, 'school': 3813, 'girls': 1911, 'heavy': 2070, 'handed': 2016, 'mistress': 2874, 'rules': 3754, 'iron': 2354, 'hand': 2015, 'cases': 708, 'keep': 2449, 'line': 2610, 'has': 2043, 'son': 4070, 'around': 297, 'while': 4868, 'shower': 3957, 'less': 2575, 'meanwhile': 2785, 'murderer': 2941, 'whos': 4876, 'often': 3095, 'compared': 912, 'which': 4867, 'masterpiece': 2759, 'opinion': 3118, 'interaction': 2322, 'between': 475, 'could': 1007, 'barely': 399, 'stay': 4166, 'awake': 365, 'all': 187, 'tension': 4404, 'suspense': 4330, 'held': 2074, 'neither': 2996, 'me': 2778, 'luckily': 2682, 'expecting': 1578, 'whole': 4873, 'lot': 2661, 'disappointed': 1273, 'personally': 3243, 'older': 3101, '70s': 56, 'isnt': 2362, 'hard': 2033, 'rule': 3753, 'those': 4460, 'enjoyed': 1486, 'definitely': 1162, 'seem': 3861, 'exception': 1557, 'probably': 3407, 'must': 2950, 'understated': 4646, 'too': 4522, 'material': 2766, 'recommend': 3571, 'everyone': 1542, 'anyone': 259, 'especially': 1520, 'liners': 2611, 'ya': 4976, 'etc': 1527, 'mature': 2773, 'previous': 3387, 'works': 4945, 'agree': 155, 'confusing': 942, 'facts': 1624, 'there': 4438, 'us': 4690, 'listen': 2619, 'harder': 2035, 'demands': 1175, 'your': 4991, 'attention': 345, 'look': 2646, 'past': 3207, 'cool': 989, 'try': 4600, 'dialogue': 1234, 'rather': 3528, 'admire': 121, 'think': 4452, 'understanding': 4645, 'yes': 4982, 'modern': 2882, 'classics': 837, 'fight': 1707, 'club': 863, 'pulp': 3465, 'original': 3129, 'both': 547, 'direction': 1261, 'pacing': 3163, 'score': 3822, 'second': 3846, 'none': 3028, 'feel': 1684, 'understand': 4643, 'maybe': 2776, 'fine': 1729, 'piece': 3272, 'cinema': 816, 'continues': 971, 'masterpieces': 2760, 'part': 3193, 'these': 4441, 'minutes': 2859, 'knew': 2486, 'terrible': 4407, 'dressed': 1358, 'indian': 2274, 'top': 4525, 'away': 369, 'boy': 557, 'baseball': 403, 'right': 3696, 'decided': 1149, 'rent': 3626, 'even': 1533, 'though': 4461, 'seemed': 3862, 'parts': 3199, 'cringe': 1059, 'heard': 2062, 'needless': 2989, 'foul': 1810, 'language': 2516, 'bad': 382, 'movie': 2926, 'awful': 372, 'news': 3005, 'bears': 421, 'completely': 922, 'predictable': 3367, 'mind': 2849, 'done': 1322, 'well': 4843, 'absolutely': 72, 'went': 4847, 'cutting': 1092, 'moments': 2887, 'short': 3946, 'douglas': 1334, 'buck': 605, 'del': 1165, 'festival': 1697, 'couldnt': 1008, 'cover': 1022, 'eyes': 1613, '1st': 28, 'half': 2007, 'take': 4349, 'every': 1539, 'stomach': 4196, 'down': 1335, 'felt': 1692, 'light': 2595, 'leave': 2555, 'few': 1700, '2nd': 41, 'course': 1019, 'only': 3110, 'left': 2561, 'room': 3735, 'violent': 4748, 'disgusting': 1286, 'am': 204, 'impressed': 2251, 'brave': 567, 'loved': 2670, 'how': 2181, 'kind': 2476, 'movies': 2927, 'shocking': 3940, 'bloody': 513, 'horrible': 2163, 'images': 2235, 'saw': 3798, 'stuck': 4237, 'head': 2057, 'days': 1130, 'boyfriend': 558, 'thing': 4450, 'told': 4513, 'makes': 2716, 'any': 256, 'sense': 3877, 'mean': 2779, 'amount': 219, 'violence': 4747, 'stuff': 4243, 'shock': 3938, 'thats': 4425, 'enough': 1491, 'reason': 3557, 'theres': 4440, 'nothing': 3047, 'least': 2554, 'guess': 1989, 'horrid': 2165, 'disaster': 1276, 'end': 1468, 'filled': 1715, 'acting': 99, 'worse': 4951, 'editing': 1421, 'redeeming': 3577, 'numbers': 3061, 'streisand': 4218, 'impossible': 2249, 'main': 2707, 'problem': 3408, 'character': 758, 'struggling': 4236, 'seen': 3865, 'final': 1722, 'number': 3060, 'edited': 1420, 'properly': 3437, 'single': 3996, 'face': 1616, 'song': 4071, 'mistake': 2871, 'band': 391, 'audience': 352, 'wide': 4880, 'shots': 3950, 'stage': 4139, 'shown': 3959, 'dynamic': 1394, 'screenplay': 3831, 'technical': 4381, 'decisions': 1152, 'dvd': 1391, 'trailer': 4554, 'voice': 4761, 'describes': 1196, 'surreal': 4317, 'frankly': 1823, 'unusual': 4681, 'imagery': 2234, 'particularly': 3195, 'scene': 3809, 'everybody': 1540, 'floor': 1759, 'nonsensical': 3031, 'meaning': 2780, 'doesnt': 1309, 'anything': 260, 'scenes': 3811, 'irrelevant': 2358, 'impression': 2252, 'trying': 4601, 'convey': 982, 'inner': 2292, 'else': 1448, 'explain': 1586, 'unfortunately': 4654, 'gave': 1875, 'clue': 864, 'thinking': 4453, 'perspective': 3245, 'emotional': 1459, 'state': 4160, 'tell': 4395, 'happy': 2032, 'physical': 3262, 'appearance': 274, 'crush': 1072, 'thought': 4462, 'ending': 1471, 'relationship': 3597, 'boys': 559, 'become': 433, 'cop': 991, 'artistic': 308, 'tiresome': 4502, 'content': 966, 'definite': 1161, 'change': 749, 'pace': 3161, 'liked': 2600, 'skin': 4015, 'feeling': 1685, 'narrative': 2966, 'perhaps': 3235, 'style': 4249, 'didnt': 1242, 'close': 853, 'question': 3487, 'deserves': 1201, 'effort': 1432, 'execution': 1566, 'spoilers': 4124, 'sister': 4001, 'discovered': 1280, 'book': 535, 'read': 3543, 'rented': 3628, 'video': 4733, 'finished': 1733, 'memorable': 2802, 'excellent': 1555, 'helen': 2075, 'settings': 3901, 'sex': 3907, 'added': 116, 'rated': 3527, '15': 7, 'things': 4451, 'thrown': 4481, 'downhill': 1336, 'costume': 1005, 'long': 2644, 'don': 1320, 'widely': 4881, 'known': 2492, 'jane': 2380, 'heights': 2073, 'television': 4394, 'several': 3905, 'times': 4497, 'another': 250, 'surprised': 4313, 'religion': 3607, 'rubbish': 3748, 'excuse': 1564, 'god': 1926, 'trash': 4565, 'hit': 2122, 'australian': 357, 'uninteresting': 4660, 'ridiculously': 3694, 'picked': 3266, 'basis': 408, 'likely': 2601, 'attempt': 340, 'concerned': 932, 'big': 478, 'brother': 598, 'western': 4853, 'society': 4050, 'showing': 3958, 'becoming': 435, 'brain': 562, 'dead': 1132, 'whatever': 4859, 'happened': 2027, 'target': 4366, 'lowest': 2678, 'common': 906, 'cannot': 670, 'entertainment': 1500, 'true': 4596, 'channel': 753, 'ten': 4399, 'soul': 4079, 'comedian': 887, 'moving': 2928, 'horribly': 2164, 'unfunny': 4655, 'highly': 2105, 'ok': 3098, 'dark': 1115, 'caught': 722, 'surprisingly': 4316, 'feature': 1678, 'silly': 3976, 'extra': 1606, 'missing': 2869, 'pair': 3176, 'new': 3003, 'pants': 3182, 'however': 2183, 'next': 3007, 'id': 2212, 'rest': 3657, 'coffee': 870, 'table': 4346, 'girlfriend': 1910, 'catch': 714, 'covered': 1023, 'screen': 3829, 'jumped': 2430, 'making': 2718, 'solid': 4057, 'situation': 4008, 'compelling': 916, 'simplicity': 3984, 'captured': 677, 'jump': 2429, 'button': 639, 'merely': 2815, 'cabin': 643, 'jail': 2376, 'darkness': 1117, 'surprising': 4315, 'clearly': 840, 'multi': 2935, 'million': 2847, 'dollar': 1314, 'production': 3419, 'make': 2713, 'effects': 1431, 'looked': 2647, 'obvious': 3071, 'design': 1202, 'use': 4692, 'system': 4345, 'hollywood': 2137, 'noticed': 3049, 'won': 4925, 'la': 2500, 'major': 2711, 'achievement': 94, 'filmmakers': 1720, 'clear': 839, 'talent': 4354, 'deal': 1135, 'managed': 2723, 'turn': 4605, 'lights': 2597, 'want': 4788, 'order': 3126, 'plot': 3309, 'truly': 4597, 'fits': 1741, 'role': 3726, 'perfectly': 3226, 'corny': 997, 'lines': 2612, 'meant': 2784, 'provide': 3448, 'laugh': 2529, 'perfect': 3224, 'spot': 4131, 'draws': 1352, 'throughout': 4478, 'youll': 4988, '100': 1, 'fan': 1648, 'alex': 179, 'winter': 4900, 'return': 3665, 'san': 3780, 'sent': 3880, 'trip': 4588, 'lifetime': 2594, 'future': 1856, 'feels': 1687, 'exactly': 1551, 'opposite': 3123, 'presented': 3376, 'difference': 1246, 'somewhere': 4069, 'heaven': 2068, 'hell': 2077, 'ends': 1474, 'meet': 2793, 'grim': 1974, 'chance': 747, 'stop': 4201, 'evil': 1548, 'robots': 3718, 'supposed': 4306, 'roles': 3727, 'process': 3412, 'games': 1865, 'copy': 994, 'closet': 858, 'deals': 1137, 'might': 2835, 'instead': 2307, 'without': 4913, 'give': 1912, 'anymore': 258, 'information': 2288, 'decide': 1148, 'yourself': 4993, 'stars': 4155, 'alone': 194, '45': 50, 'marriage': 2743, 'solve': 4060, 'refuses': 3587, 'allow': 189, 'until': 4680, 'wife': 4884, 'generation': 1883, 'nostalgic': 3039, 'responsibility': 3655, 'each': 1395, 'green': 1971, 'countryside': 1015, 'writer': 4968, 'further': 1853, 'areas': 287, 'multiple': 2936, 'award': 366, 'minute': 2858, 'reel': 3581, 'already': 197, 'commented': 900, 'brad': 560, 'capable': 672, 'projects': 3428, 'proved': 3446, 'starring': 4154, 'iii': 2227, 'appear': 273, 'gives': 1914, 'demented': 1176, 'three': 4469, 'un': 4630, 'curious': 1083, 'full': 1846, 'hour': 2176, 'version': 4720, 'oddly': 3081, 'charismatic': 763, 'men': 2805, 'che': 773, 'engaged': 1480, 'struggle': 4234, 'devoid': 1230, 'fire': 1734, 'level': 2584, 'slightly': 4029, 'high': 2100, 'depth': 1190, 'basically': 407, 'explanation': 1590, 'effect': 1428, 'result': 3660, 'de': 1131, 'aside': 315, 'minor': 2857, 'passion': 3205, 'expect': 1575, 'becomes': 434, 'epic': 1506, 'length': 2569, 'running': 3756, 'various': 4715, 'particular': 3194, 'purpose': 3474, 'reviews': 3679, 'work': 4940, 'steven': 4182, 'actors': 104, 'spent': 4108, 'talking': 4360, 'digital': 1251, 'camera': 659, 'entirely': 1503, 'spanish': 4092, 'english': 1483, 'odd': 3080, 'since': 3990, 'hired': 2117, 'gun': 1996, 'competent': 917, 'job': 2405, 'upon': 4684, 'oliver': 3102, 'stones': 4198, 'black': 493, 'white': 4870, 'visits': 4756, 'york': 4985, 'imagine': 2238, 'andrew': 228, 'warren': 4801, 'beatty': 427, 'youd': 4987, 'idea': 2213, 'imdb': 2240, 'cult': 1077, 'likes': 2602, 'mst3k': 2932, 'fun': 1848, 'seeing': 3857, 'werewolf': 4850, 'dozens': 1339, 'comments': 901, 'became': 431, 'convinced': 984, 'hate': 2046, 'gore': 1941, 'care': 684, 'something': 4066, 'happen': 2026, 'sitting': 4007, 'looking': 2648, 'walking': 4779, 'garden': 1872, 'requires': 3642, 'pointless': 3318, 'walks': 4780, 'oh': 3096, 'yeah': 4977, 'move': 2921, 'worst': 4952, 'ps': 3453, 'record': 3573, 'dracula': 1341, 'frankenstein': 1822, 'connection': 946, 'finger': 1731, 'nail': 2957, 'sit': 4003, 'flat': 1748, 'boring': 543, 'exciting': 1563, 'directors': 1266, 'create': 1036, 'such': 4268, 'remain': 3609, 'mysteries': 2954, '20th': 38, 'century': 736, 'vaguely': 4706, 'worthy': 4956, 'omen': 3104, 'franchise': 1817, 'pay': 3216, 'pop': 3330, '90': 60, 'luck': 2681, 'quickly': 3491, 'wake': 4774, 'namely': 2962, 'actress': 105, 'wooden': 4934, 'horse': 2170, 'then': 4436, 'remember': 3616, 'four': 1812, 'equally': 1510, 'portrays': 3344, 'england': 1482, 'box': 555, 'village': 4743, 'schools': 3814, 'apart': 264, 'police': 3322, 'station': 4164, 'british': 589, 'wanted': 4789, 'comedy': 890, 'serious': 3891, 'womens': 4924, 'former': 1800, 'stupid': 4247, 'wedding': 4836, 'worked': 4941, 'tragedy': 4551, 'find': 1726, 'implausible': 2245, 'kate': 2446, 'speak': 4094, 'molly': 2884, 'note': 3044, 'decent': 1147, 'doing': 1312, 'pile': 3275, 'mention': 2810, 'anna': 245, 'stick': 4185, 'advertising': 132, 'started': 4157, 'badly': 383, 'ended': 1470, 'consists': 955, 'extremely': 1610, 'poor': 3328, 'unrealistic': 4677, 'seat': 3845, 'seriously': 3892, 'cat': 713, 'acted': 98, 'laughable': 2530, 'unbelievable': 4634, 'lower': 2677, 'havent': 2053, 'warning': 4800, 'unless': 4669, 'bored': 541, 'suicide': 4283, 'continue': 969, 'mission': 2870, 'bother': 548, 'released': 3603, 'public': 3460, 'crime': 1055, 'involved': 2346, 'arrested': 298, 'youve': 4995, 'viewed': 4737, 'consider': 949, 'veteran': 4724, 'period': 3236, 'america': 212, 'today': 4508, 'except': 1556, 'radio': 3504, 'starting': 4158, 'sweet': 4336, 'innocent': 2294, 'tales': 4357, 'girl': 1909, 'called': 652, 'red': 3576, 'hair': 2005, 'herself': 2092, 'taken': 4350, 'home': 2142, 'elderly': 1440, 'folks': 1771, 'wise': 4903, 'shirley': 3936, 'entire': 1502, 'within': 4912, 'earth': 1403, 'help': 2079, 'simple': 3983, 'seems': 3864, 'ball': 388, '30s': 44, 'kim': 2475, 'witch': 4909, 'spell': 4104, 'james': 2378, 'stewart': 4184, 'gets': 1900, 'rival': 3706, 'broadway': 592, 'famous': 1647, 'kid': 2464, 'animal': 239, 'talk': 4358, 'funny': 1852, 'laughing': 2533, 'hear': 2061, 'dog': 1310, 'cause': 723, 'vote': 4766, 'international': 2326, 'thoroughly': 4459, 'welcome': 4842, 'genre': 1888, 'certainly': 738, 'successfully': 4267, 'george': 1893, 'canadian': 667, 'believable': 453, 'importantly': 2248, 'enjoyable': 1485, 'baker': 385, 'carrie': 697, 'anne': 246, 'ray': 3533, 'whom': 4875, 'suspect': 4327, 'features': 1680, 'tim': 4494, 'blake': 498, 'nelson': 2997, 'essentially': 1523, 'willing': 4889, 'animated': 241, 'victor': 4731, 'van': 4713, 'corpse': 999, 'bride': 577, 'pride': 3391, 'billy': 482, 'yet': 4984, 'somehow': 4063, 'deeply': 1156, 'peter': 3247, 'prison': 3401, 'break': 569, 'revealed': 3671, 'following': 1774, 'nights': 3016, 'screening': 3830, 'drawn': 1351, 'inspiration': 2300, 'revealing': 3672, 'details': 1219, 'comment': 898, 'wont': 4932, 'suffice': 4279, 'gory': 1943, 'constantly': 958, 'although': 201, 'carefully': 689, 'fair': 1630, 'blood': 512, 'letting': 2583, 'humour': 2194, 'co': 867, 'towards': 4540, 'ought': 3138, 'pg': 3250, 'urge': 4689, 'little': 2624, 'gem': 1877, 'buying': 641, 'hopefully': 2157, 'summer': 4291, 'confused': 941, 'sympathy': 4343, 'developed': 1223, 'superficial': 4298, 'cheesy': 781, 'stereotypes': 4179, 'subplots': 4256, 'nowhere': 3056, 'chick': 786, 'attempting': 342, 'shocked': 3939, 'showed': 3956, 'quality': 3484, 'gay': 1876, 'lesbian': 2573, 'celluloid': 731, 'documentary': 1307, 'moment': 2886, 'worth': 4953, 'otherwise': 3137, 'sad': 3767, 'count': 1010, 'cinematography': 820, 'pretty': 3384, 'crappy': 1032, 'lighting': 2596, 'places': 3284, 'add': 115, 'practically': 3362, 'johnny': 2410, 'rebel': 3561, 'hot': 2174, 'blond': 510, 'porn': 3336, 'buddy': 609, 'professor': 3422, 'paul': 3214, 'research': 3644, 'matter': 2769, 'machine': 2693, 'object': 3066, 'disappear': 1270, 're': 3535, 'location': 2635, 'experiments': 1584, 'succeed': 4262, 'failed': 1626, 'saved': 3795, 'decides': 1150, 'test': 4416, 'himself': 2111, 'expected': 1577, 'wrong': 4973, 'heavily': 2069, 'mere': 2814, 'touch': 4533, 'kill': 2468, 'week': 4837, 'fly': 1763, 'curse': 1086, 'potentially': 3356, 'horrendous': 2162, 'body': 527, 'person': 3238, 'endure': 1475, 'responsible': 3656, 'list': 2617, 'source': 4086, 'similar': 3978, 'nearly': 2981, 'trilogy': 4586, 'terribly': 4408, 'unoriginal': 4673, 'problems': 3409, 'hurt': 2202, 'enjoyment': 1488, 'issue': 2364, 'lead': 2545, 'horses': 2171, 'ass': 323, 'suffering': 4277, 'root': 3737, 'supporting': 4304, 'members': 2801, 'allen': 188, 'theyre': 4445, 'bland': 500, 'hardly': 2036, 'excited': 1561, 'soundtrack': 4085, 'describe': 1194, 'overall': 3150, 'avoid': 363, 'fortunately': 1805, 'via': 4726, 'mystery': 2956, 'science': 3816, 'theater': 4427, '3000': 43, 'episode': 1507, 'absolute': 71, 'guys': 2001, 'rating': 3529, 'scale': 3802, 'promise': 3430, 'relatively': 3600, 'let': 2579, 'writers': 4969, 'techniques': 4384, 'lots': 2662, 'quick': 3490, 'annoying': 249, 'resolution': 3649, 'alas': 172, 'wasted': 4809, 'makers': 2715, 'money': 2888, 'need': 2987, 'stinker': 4191, 'suffer': 4275, 'plenty': 3307, 'scenery': 3810, 'happens': 2029, 'deep': 1154, 'secrets': 3852, 'threat': 4467, 'slight': 4027, 'voices': 4763, 'anybody': 257, 'secret': 3849, 'point': 3316, 'revolves': 3682, 'woman': 4921, 'named': 2961, 'faith': 1633, 'artist': 307, 'paint': 3173, 'huge': 2185, 'vast': 4716, 'mansion': 2731, 'wealthy': 4827, 'daughter': 1121, 'type': 4621, 'turns': 4609, 'womans': 4922, 'fit': 1740, 'pieces': 3273, 'together': 4511, 'mysterious': 2955, 'menacing': 2807, 'heroine': 2091, 'does': 1308, 'advance': 127, 'fear': 1676, 'safety': 3772, 'beyond': 476, 'hanging': 2023, 'faithful': 1634, 'butler': 637, 'serving': 3897, 'door': 1328, 'chair': 742, 'arms': 294, 'edge': 1418, 'pathetic': 3210, '1973': 19, 'nicholas': 3010, 'cage': 645, 'usual': 4699, 'took': 4523, 'five': 1743, 'hammer': 2014, 'dinner': 1254, 'party': 3200, 'figure': 1711, 'thirty': 4456, 'entertaining': 1499, 'thriller': 4472, 'unable': 4631, 'credit': 1049, 'write': 4967, 'fresh': 1833, 'smart': 4035, 'creepy': 1052, 'throw': 4479, 'send': 3875, 'print': 3399, 'local': 2634, 'wonders': 4931, 'picture': 3269, 'gods': 1928, 'dinosaur': 1255, 'heck': 2071, 'realistic': 3550, 'flick': 1754, 'giant': 1905, 'monster': 2892, 'honest': 2146, 'pack': 3165, 'punch': 3466, 'comes': 891, 'shouldnt': 3952, 'entertained': 1498, 'embarrassment': 1455, 'listed': 2618, 'script': 3834, 'atrocious': 335, 'casting': 711, 'talented': 4355, 'canada': 666, 'helping': 2081, 'realize': 3552, 'technically': 4382, 'ashamed': 312, 'bought': 552, 'rights': 3697, 'crap': 1031, 'says': 3801, 'repeat': 3630, 'worlds': 4947, 'finest': 1730, 'spy': 4135, 'flight': 1757, 'conceived': 929, 'technology': 4385, 'admit': 122, 'recommended': 3572, 'critics': 1064, 'largely': 2518, 'positive': 3346, 'noted': 3045, 'fantastic': 1651, 'advanced': 128, 'crafted': 1029, 'heads': 2059, 'cheap': 774, 'whatsoever': 4861, 'storyline': 4208, 'class': 833, 'notch': 3043, 'naturally': 2974, 'spoiler': 4123, 'theaters': 4428, 'quite': 3495, 'release': 3602, 'underground': 4640, 'blade': 495, '1984': 23, 'total': 4531, 'run': 3755, 'jason': 2383, 'bourne': 554, 'placed': 3283, 'hall': 2009, 'fame': 1642, 'hands': 2020, 'truth': 4599, 'stranger': 4213, 'father': 1666, 'pleasant': 3302, 'surprise': 4312, 'witty': 4917, 'lion': 2614, 'attraction': 350, 'roy': 3745, 'indeed': 2271, 'cartoon': 704, 'includes': 2263, 'crude': 1069, 'adult': 125, 'humor': 2192, 'mild': 2839, 'references': 3583, 'celebrity': 729, 'cameos': 658, 'executed': 1565, 'fairly': 1631, 'dickens': 1240, 'beat': 423, 'vhs': 4725, 'christmas': 810, 'eve': 1532, 'halloween': 2010, 'scott': 3824, 'scrooge': 3837, 'nasty': 2968, 'transformation': 4560, 'spirits': 4115, 'effective': 1429, 'floating': 1758, 'form': 1798, 'spirit': 4113, 'sends': 3876, 'david': 1124, 'warner': 4799, 'bob': 524, 'sticks': 4186, 'closer': 856, 'mistaken': 2872, 'regardless': 3590, 'terrific': 4409, 'hong': 2149, 'asian': 314, 'cinemas': 817, 'kept': 2456, 'covers': 1024, 'ground': 1979, 'moves': 2925, 'self': 3869, 'slow': 4031, 'plus': 3311, 'subjects': 4254, 'complete': 921, 'open': 3112, 'believing': 457, 'directly': 1263, 'influenced': 2287, 'lost': 2660, 'translation': 4562, 'wandering': 4785, 'hotel': 2175, 'wearing': 4831, 'punk': 3468, 'familiar': 1643, 'treat': 4572, 'across': 96, 'brief': 579, 'passed': 3202, 'wanting': 4790, 'business': 633, 'falling': 1639, 'trite': 4589, 'carries': 699, 'weight': 4840, 'word': 4937, 'aspect': 321, 'provides': 3450, 'fathers': 1667, 'control': 977, 'macy': 2695, 'sadness': 3770, 'talks': 4361, 'amazing': 209, 'skills': 4014, 'natural': 2973, 'personal': 3240, 'loving': 2675, 'accident': 84, 'key': 2458, 'flaws': 1752, 'significant': 3972, 'lack': 2502, 'sadly': 3769, 'difficult': 1249, 'certain': 737, 'feelings': 1686, 'wasting': 4810, 'valuable': 4708, 'means': 2783, 'viewing': 4740, 'grow': 1982, 'associated': 327, 'large': 2517, 'rubber': 3747, 'blow': 514, 'incredible': 2269, 'twists': 4619, 'depiction': 1185, 'versus': 4722, 'recently': 3567, 'pleasure': 3306, 'swim': 4337, 'inspired': 2301, 'beautifully': 429, 'combined': 885, 'dialogs': 1233, 'inspiring': 2302, 'message': 2819, 'lives': 2628, 'extraordinary': 1607, 'captivating': 675, 'legs': 2566, 'individuals': 2278, 'enter': 1494, 'pool': 3327, 'water': 4816, 'brilliantly': 584, 'hold': 2129, 'imagination': 2236, 'anthony': 253, 'intense': 2316, 'sexual': 3908, 'reviewer': 3677, 'context': 968, 'torture': 4529, 'donna': 1323, 'road': 3709, 'heart': 2064, 'lame': 2510, 'attempts': 343, 'thanks': 4423, 'written': 4972, 'judy': 2426, 'stole': 4194, 'drag': 1342, 'deserve': 1199, 'photography': 3260, 'motion': 2913, 'poorly': 3329, 'scripted': 3835, 'themselves': 4435, 'directing': 1260, 'art': 304, 'shame': 3918, 'arent': 288, 'caliber': 649, 'ourselves': 3140, 'lucky': 2683, 'occasionally': 3075, 'able': 66, 'creative': 1041, 'whenever': 4863, 'third': 4455, 'satisfying': 3791, 'begins': 444, 'description': 1197, 'deaf': 1134, 'working': 4944, 'universe': 4666, 'secretary': 3850, 'ignored': 2225, 'frustrated': 1842, 'assistant': 326, 'appears': 278, 'coming': 896, 'lips': 2615, 'reveals': 3673, 'useful': 4694, 'filmed': 1717, 'convincing': 985, 'noir': 3023, 'filming': 1718, 'nominated': 3025, 'awards': 367, 'attractive': 351, 'blonde': 511, 'strip': 4228, 'nudity': 3059, 'resembles': 3646, 'bud': 607, 'drunken': 1376, 'semi': 3874, 'amusing': 221, 'ms': 2931, 'post': 3352, 'dubbed': 1379, 'exploitation': 1592, 'usually': 4700, 'bore': 540, 'fest': 1696, 'sid': 3964, 'daddy': 1096, 'samurai': 3779, 'facial': 1619, 'expressions': 1603, 'installment': 2303, 'hitting': 2126, 'anti': 254, 'wants': 4791, 'hits': 2125, 'choreography': 802, 'stunt': 4245, 'pick': 3265, 'sudden': 4272, 'flashback': 1746, 'clean': 838, 'intrigue': 2333, 'player': 3298, 'protect': 3443, 'costs': 1004, 'pamela': 3179, 'tight': 4492, 'car': 680, 'chase': 769, 'possible': 3350, 'ones': 3108, 'chasing': 772, 'superb': 4296, 'albert': 174, 'rendition': 3625, 'government': 1948, 'aware': 368, 'japan': 2381, 'notorious': 3051, 'reputation': 3640, 'brutal': 603, 'miike': 2837, 'nor': 3032, 'ambitious': 211, 'brand': 565, 'japanese': 2382, 'korean': 2495, 'develops': 1226, 'pushing': 3479, 'incredibly': 2270, 'vicious': 4728, 'motivations': 2915, 'sam': 3777, 'lees': 2560, 'instance': 2304, 'slowly': 4032, 'surely': 4309, 'encounters': 1467, 'involves': 2348, 'nature': 2975, 'perfection': 3225, 'side': 3965, 'forget': 1793, 'ability': 65, 'fellow': 1691, 'broken': 594, 'lee': 2559, 'garbage': 1870, 'ultimately': 4628, '80': 58, 'straight': 4210, 'mouse': 2919, 'encounter': 1466, 'square': 4136, 'commit': 904, 'act': 97, 'brings': 587, 'simply': 3986, 'guilty': 1995, 'points': 3319, '20': 29, 'mark': 2739, 'climax': 849, 'majority': 2712, 'minimum': 2856, 'disturbing': 1300, 'despite': 1211, 'having': 2054, 'handled': 2019, 'viewers': 4739, 'intelligence': 2313, 'nevertheless': 3002, 'breath': 573, 'air': 164, 'kong': 2494, 'martial': 2747, 'arts': 310, 'reaches': 3538, 'keeping': 2450, 'words': 4938, 'dean': 1139, 'concept': 930, 'lab': 2501, 'creates': 1038, 'dragon': 1344, 'giving': 1915, 'park': 3190, 'meets': 2795, 'possibilities': 3348, 'follow': 1772, 'cgi': 740, 'lay': 2542, 'blame': 499, 'producers': 3416, 'fascinating': 1658, 'haunting': 2051, 'sometimes': 4067, 'tale': 4353, 'brilliant': 583, 'driven': 1365, 'behavior': 446, 'spending': 4106, 'weekend': 4838, 'mountains': 2918, 'faced': 1617, 'intended': 2315, 'travel': 4567, 'river': 3707, 'adventure': 130, 'excitement': 1562, 'soon': 4074, 'changes': 751, 'mountain': 2917, 'land': 2511, 'forms': 1801, 'elements': 1443, 'pure': 3471, 'important': 2247, 'closely': 855, 'followed': 1773, 'featured': 1679, 'unforgettable': 4652, 'homosexual': 2145, 'pig': 3274, 'rape': 3521, 'deliver': 1169, 'jon': 2416, 'voight': 4764, 'unpleasant': 4674, 'dolph': 1317, 'either': 1438, 'allowed': 190, 'occasional': 3074, 'dialog': 1232, 'suggest': 4280, 'insight': 2298, 'bizarre': 492, 'sub': 4252, 'par': 3184, 'confusion': 943, 'focusing': 1769, 'distracting': 1297, 'opening': 3114, 'credits': 1050, 'sets': 3899, 'instant': 2305, 'bigger': 479, 'academy': 77, 'sheer': 3925, 'walked': 4776, 'ticket': 4487, 'counter': 1011, 'purchase': 3469, 'myself': 2953, 'dozen': 1338, 'viewings': 4741, 'strange': 4211, 'huh': 2187, 'embarrassed': 1453, 'clever': 841, 'wonder': 4926, 'idiot': 2218, 'fbi': 1675, 'levels': 2585, 'complexity': 924, 'structure': 4233, 'begin': 442, 'hidden': 2096, 'unexpected': 4650, 'twist': 4617, 'guard': 1988, 'agent': 150, 'davis': 1126, 'criminal': 1057, 'pops': 3332, 'paulie': 3215, 'chris': 806, 'comedic': 888, 'talents': 4356, 'leads': 2548, 'unpredictable': 4675, 'situations': 4009, 'reminiscent': 3621, 'reynolds': 3684, 'fate': 1665, 'personalities': 3241, 'timing': 4498, 'master': 2757, 'audiences': 353, 'slightest': 4028, 'reflect': 3584, 'example': 1553, 'brothers': 599, 'faces': 1618, 'expression': 1602, 'social': 4049, 'dry': 1377, 'eye': 1611, 'heroes': 2089, 'easy': 1410, 'experienced': 1581, 'project': 3427, 'storytelling': 4209, 'mediocre': 2791, 'saturday': 3792, 'experience': 1580, 'ideas': 2215, 'season': 3843, 'jean': 2389, 'bruce': 602, 'wonderful': 4928, 'appeared': 276, 'favorites': 1672, 'blacks': 494, 'okay': 3099, 'usa': 4691, 'knowing': 2490, 'whoever': 4872, 'paid': 3169, 'broke': 593, 'actual': 108, 'killers': 2471, 'weeks': 4839, 'oscar': 3133, 'devils': 1229, 'experiment': 1583, 'hardcore': 2034, 'fall': 1637, 'falls': 1640, 'latter': 2528, 'category': 718, 'wait': 4770, 'non': 3027, 'range': 3516, '50': 51, 'kicking': 2462, 'hundred': 2195, 'office': 3091, 'factor': 1622, 'bath': 411, 'guts': 1999, 'finally': 1724, 'blair': 497, 'tree': 4576, 'looks': 2649, 'yelling': 4980, 'staring': 4152, 'waiting': 4772, 'direct': 1258, 'stephen': 4176, 'fully': 1847, 'lets': 2580, 'loose': 2650, 'fifteen': 1706, 'development': 1225, 'needs': 2990, 'anyway': 261, 'creatures': 1046, 'suck': 4269, 'female': 1693, 'existence': 1571, 'teenager': 4390, 'beloved': 461, 'handsome': 2021, 'charles': 764, 'claims': 830, 'ripped': 3701, 'neck': 2985, 'torn': 4528, 'drawing': 1350, 'energy': 1478, 'vengeance': 4719, 'goal': 1925, 'refreshing': 3586, 'dying': 1393, 'teenagers': 4391, 'actresses': 106, 'amy': 222, 'shes': 3930, 'adorable': 124, 'unaware': 4632, 'motives': 2916, 'queen': 3485, 'wouldve': 4959, 'damn': 1100, 'sexy': 3911, 'force': 1786, 'parents': 3188, 'fail': 1625, 'ron': 3734, 'bone': 533, 'mom': 2885, 'window': 4894, 'breaking': 570, 'rose': 3739, 'ear': 1397, 'impact': 2244, 'dragged': 1343, 'forced': 1787, 'onto': 3111, 'cats': 721, 'combat': 882, 'unlike': 4670, 'humans': 2190, 'abilities': 64, 'using': 4698, 'king': 2479, 'include': 2261, 'buddies': 608, 'sequence': 3887, 'officers': 3093, 'joe': 2407, 'tongue': 4518, 'cheek': 779, 'hang': 2022, 'manner': 2729, 'technique': 4383, 'ultra': 4629, 'jet': 2400, 'kings': 2481, 'angle': 236, 'bit': 488, 'fabulous': 1615, 'adaptation': 113, 'eyre': 1614, 'stronger': 4230, 'annoyed': 248, 'portrayal': 3341, 'morning': 2906, 'rochester': 3719, 'asks': 319, 'marry': 2745, 'runs': 3757, 'always': 203, 'choice': 797, 'dalton': 1098, 'eighties': 1437, 'complaint': 920, 'prime': 3395, 'popular': 3333, 'literature': 2623, 'erotic': 1515, 'exotic': 1574, 'fake': 1635, 'bite': 489, 'catholic': 720, 'guilt': 1994, 'castle': 712, 'burned': 626, 'lover': 2672, 'husband': 2204, 'religious': 3608, 'relies': 3606, 'tricks': 4583, 'basic': 406, 'express': 1600, 'logic': 2638, 'ultimate': 4627, 'eventually': 1537, 'price': 3389, 'reduced': 3579, 'beauty': 430, 'magazine': 2701, 'standards': 4145, 'monk': 2889, 'mad': 2696, 'escapes': 1519, 'desert': 1198, 'naive': 2958, 'mess': 2818, 'comparison': 914, 'sophisticated': 4075, 'novel': 3052, 'intention': 2319, 'opera': 3116, 'thankfully': 4422, 'unique': 4662, 'commercial': 902, 'enormous': 1490, 'under': 4639, 'cinematic': 818, 'wet': 4855, 'dream': 1354, 'including': 2264, 'cute': 1090, 'max': 2774, 'determined': 1221, 'composed': 926, 'michael': 2829, 'powell': 3358, 'ironically': 2356, 'silent': 3975, 'splendid': 4119, 'magic': 2703, 'vague': 4705, 'male': 2719, 'doomed': 1327, 'mgm': 2828, 'presentation': 3375, 'bare': 398, 'rate': 3526, 'colour': 880, 'justice': 2438, 'historical': 2119, 'clothes': 860, 'mouth': 2920, 'taking': 4352, 'discover': 1279, 'missed': 2867, 'dancers': 1105, 'tragic': 4552, 'consequences': 947, 'cynical': 1093, 'low': 2676, 'recorded': 3574, 'sexually': 3910, 'abusive': 75, 'step': 4175, 'amanda': 205, 'doctor': 1304, 'secretly': 3851, 'affair': 135, 'renting': 3629, 'kills': 2474, 'sees': 3866, 'neighbor': 2992, 'stops': 4203, 'acts': 107, 'killed': 2469, 'attempted': 341, 'richards': 3687, 'supposedly': 4307, 'loves': 2674, 'cares': 690, 'dies': 1245, 'reminds': 3620, 'absurd': 73, 'desperately': 1209, 'cup': 1080, 'conspiracy': 956, 'against': 147, 'aging': 153, 'careers': 687, 'stunning': 4244, 'tribute': 4581, 'french': 1830, 'reflection': 3585, 'wall': 4781, 'cameras': 660, 'mixed': 2877, 'front': 1841, 'follows': 1775, 'leaves': 2556, 'hilariously': 2107, 'street': 4216, 'asking': 318, 'fights': 1710, '50s': 52, 'interest': 2323, 'offer': 3087, 'track': 4544, 'aint': 163, 'below': 462, 'beer': 439, 'insult': 2309, 'intelligent': 2314, 'obviously': 3072, 'plan': 3287, 'considering': 952, 'bin': 483, 'immediately': 2242, 'lived': 2626, 'standard': 4144, 'ages': 152, 'journey': 2421, 'spain': 4091, 'whilst': 4869, 'sea': 3838, 'storm': 4206, 'precious': 3366, 'gold': 1932, 'buy': 640, 'weapons': 4829, 'battle': 414, 'odds': 3082, 'christopher': 811, 'wars': 4804, 'lord': 2652, 'rings': 3699, 'davies': 1125, 'jones': 2418, 'seven': 3903, 'team': 4378, 'bring': 585, 'sequences': 3888, 'eastern': 1408, 'army': 295, 'attack': 337, 'ship': 3934, 'carrying': 701, 'priceless': 3390, 'present': 3374, 'search': 3841, 'dealt': 1138, 'please': 3304, 'above': 68, 'hire': 2116, 'steve': 4181, 'waste': 4808, 'gotta': 1946, 'hilarious': 2106, 'response': 3654, 'sold': 4052, 'characterization': 759, 'wisdom': 4902, 'birthday': 487, 'corner': 996, 'sexuality': 3909, 'spends': 4107, 'wind': 4893, 'murdered': 2940, 'generic': 1885, 'dan': 1102, 'bo': 521, 'wild': 4885, 'bunch': 623, 'shoes': 3941, 'friday': 1834, '13th': 5, 'killings': 2473, 'focuses': 1768, 'melodrama': 2797, 'aspects': 322, 'thus': 4486, 'stress': 4220, '18': 10, 'overly': 3155, 'unnecessary': 4672, 'tad': 4347, 'candy': 668, 'bush': 632, 'grade': 1951, 'code': 869, 'extras': 1608, 'theatrical': 4430, 'audio': 354, 'conversation': 980, 'jim': 2402, 'interview': 2329, 'trailers': 4555, 'nightmare': 3014, 'rock': 3720, 'hbo': 2055, 'repetitive': 3633, 'survived': 4322, 'lies': 2591, 'beaten': 424, 'ad': 110, 'call': 651, 'embarrassing': 1454, 'timothy': 4499, 'southern': 4088, 'speaking': 4095, 'super': 4295, 'thugs': 4484, 'lately': 2524, 'justify': 2439, 'irony': 2357, 'miss': 2866, 'average': 362, 'leading': 2547, 'suddenly': 4273, 'magical': 2704, 'turning': 4608, 'causing': 726, 'learn': 2550, 'lessons': 2578, 'along': 195, 'formula': 1802, 'rob': 3710, 'successful': 4266, 'color': 877, 'loser': 2655, 'loads': 2633, 'inappropriate': 2259, 'likable': 2598, 'flicks': 1755, 'reality': 3551, 'survivor': 4324, 'cameo': 657, 'exist': 1569, 'sorry': 4076, 'value': 4709, 'delivered': 1170, 'exact': 1550, 'heres': 2087, 'friends': 1837, 'miserably': 2864, 'satire': 3788, 'redemption': 3578, 'camp': 662, '60s': 54, 'families': 1644, 'according': 88, '1960s': 15, 'learned': 2551, 'african': 142, 'visible': 4753, 'hours': 2177, 'mini': 2854, 'stories': 4205, 'wrote': 4974, 'weird': 4841, 'psycho': 3457, 'uneven': 4649, 'horrific': 2166, 'humorous': 2193, 'pitt': 3280, 'francis': 1818, 'names': 2963, 'unfortunate': 4653, 'briefly': 580, 'dignity': 1252, 'tom': 4514, 'adams': 112, 'ruins': 3752, 'psychiatrist': 3455, 'killer': 2470, 'behind': 447, 'nobody': 3022, 'museum': 2945, 'laughs': 2534, 'seed': 3856, 'accidentally': 85, 'vampire': 4711, 'plots': 3310, 'writing': 4971, 'disjointed': 1287, 'matt': 2768, 'damon': 1101, 'politically': 3325, 'correct': 1000, 'oil': 3097, 'middle': 2833, 'east': 1407, 'documentaries': 1306, 'gang': 1867, 'terrorists': 4414, 'peoples': 3222, 'creature': 1045, 'eating': 1413, 'shirt': 3937, 'yellow': 4981, 'near': 2979, 'available': 361, 'versions': 4721, 'blue': 518, 'united': 4664, 'states': 4163, 'court': 1020, 'whats': 4860, 'flesh': 1753, 'intellectual': 2312, 'lust': 2689, 'daring': 1114, 'statement': 4162, 'generally': 1881, 'ie': 2221, 'foreign': 1790, 'filmmaker': 1719, 'lesser': 2576, 'extent': 1605, 'mix': 2876, 'mostly': 2910, 'lena': 2568, 'cold': 872, 'wannabe': 4787, 'woods': 4935, 'crew': 1053, 'concert': 935, 'title': 4504, 'cards': 683, 'fill': 1714, 'hey': 2095, 'thoughts': 4464, 'franco': 1820, 'viewer': 4738, 'impressive': 2253, 'afraid': 140, 'dramatic': 1348, 'martin': 2748, 'coherent': 871, 'analysis': 224, 'cheating': 776, 'loaded': 2632, 'stands': 4147, 'enterprise': 1495, 'blown': 516, 'comfortable': 892, 'bergman': 466, 'purely': 3472, 'specific': 4099, 'subtle': 4260, 'spectacular': 4101, 'sympathetic': 4342, 'vulnerable': 4768, '40': 48, 'connect': 944, 'intentionally': 2320, 'clichés': 846, 'narration': 2965, 'sorts': 4078, 'faults': 1669, 'holds': 2131, 'waters': 4817, 'swedish': 4335, 'ways': 4822, 'due': 1382, 'outstanding': 3147, 'arthur': 305, 'skill': 4013, 'comic': 893, 'juvenile': 2441, 'jokes': 2415, 'songs': 4072, 'dances': 1106, 'engage': 1479, 'folk': 1770, 'draw': 1349, 'distinct': 1296, 'train': 4556, 'tommy': 4516, 'performer': 3231, 'needed': 2988, 'appreciated': 280, 'support': 4303, 'strong': 4229, 'regular': 3592, 'betty': 474, 'board': 522, 'hill': 2108, 'married': 2744, 'lady': 2507, 'carol': 693, 'steal': 4170, 'dr': 1340, 'given': 1913, 'giallo': 1904, 'suspend': 4329, 'disbelief': 1277, 'roll': 3728, 'officer': 3092, 'italian': 2367, 'featuring': 1681, 'blatant': 502, 'mindless': 2851, 'pretentious': 3383, 'essential': 1522, 'listening': 2620, 'approach': 282, 'vision': 4754, 'displayed': 1292, 'joy': 2422, 'twin': 4615, 'sisters': 4002, 'utterly': 4702, 'modesty': 2883, 'recognition': 3568, 'makeup': 2717, 'member': 2800, 'model': 2880, 'novels': 3053, 'pitch': 3279, 'weak': 4824, 'conclusion': 936, 'idiots': 2220, 'explaining': 1588, 'tiny': 4500, 'detail': 1217, 'flashbacks': 1747, 'equivalent': 1512, 'brought': 600, 'splatter': 4118, 'till': 4493, 'dawn': 1127, 'texas': 4418, 'guns': 1998, 'concerning': 933, 'laughed': 2532, 'kinda': 2477, 'uninspired': 4657, 'presents': 3377, 'forgettable': 1794, 'hearted': 2065, 'tries': 4585, 'round': 3742, 'lily': 2605, 'mars': 2746, 'singing': 3995, 'producer': 3415, 'breathtaking': 574, 'format': 1799, 'blind': 506, 'ex': 1549, 'journalist': 2420, 'outside': 3146, 'reporter': 3636, 'investigate': 2342, 'murders': 2943, 'rushed': 3760, 'success': 4265, 'directorial': 1265, 'debut': 1143, 'bird': 484, 'valley': 4707, 'resulting': 3661, 'claimed': 829, 'nine': 3017, 'suspenseful': 4331, 'disappointing': 1274, 'photographed': 3258, 'watchable': 4812, 'cinematographer': 819, 'frame': 1815, 'scenario': 3808, 'unfolds': 4651, 'subplot': 4255, 'involving': 2349, 'catherine': 719, 'amounts': 220, 'highlights': 2104, 'seek': 3858, 'inside': 2297, 'brilliance': 582, 'paris': 3189, 'twisted': 4618, 'morality': 2903, 'cliché': 844, 'karen': 2444, 'potential': 3355, 'bits': 490, 'children': 792, 'sat': 3786, 'pet': 3246, 'shall': 3916, 'al': 170, 'environment': 1505, 'foot': 1781, 'hook': 2152, '70': 55, 'zone': 4999, 'driving': 1368, 'attend': 344, 'flaw': 1749, 'seemingly': 3863, 'scientists': 3819, 'global': 1920, 'warming': 4795, 'scientist': 3818, 'degree': 1164, 'accurate': 90, 'toilet': 4512, 'june': 2433, 'match': 2762, '60': 53, 'therefore': 4439, 'planet': 3289, 'questionable': 3488, 'sole': 4055, 'answer': 251, 'ice': 2210, 'age': 148, 'fails': 1628, 'suit': 4284, 'produced': 3414, 'titled': 4505, 'ask': 316, 'biggest': 480, 'aka': 168, 'china': 795, 'india': 2273, 'realized': 3553, 'teaching': 4377, 'university': 4667, 'students': 4239, 'event': 1535, 'occurred': 3077, 'accept': 80, 'learning': 2552, 'interested': 2324, 'beliefs': 452, 'friend': 1835, 'mine': 2853, 'angels': 234, 'suppose': 4305, 'sequel': 3885, 'hopes': 2159, 'terror': 4412, 'military': 2844, 'grown': 1984, 'opportunity': 3121, 'regarding': 3589, 'realism': 3549, '1990s': 25, 'happening': 2028, 'wins': 4899, 'gas': 1874, 'instantly': 2306, 'tells': 4397, '16': 8, 'task': 4368, 'believes': 456, 'humanity': 2189, 'expert': 1585, 'knowledge': 2491, 'entry': 1504, 'budget': 610, 'titles': 4506, 'ensues': 1493, 'opportunities': 3120, 'rank': 3518, 'wizard': 4919, 'oz': 3160, 'combination': 883, 'footage': 1782, 'contrast': 975, 'achieved': 93, 'described': 1195, 'powerful': 3360, 'stand': 4143, 'literally': 2622, 'premise': 3370, 'struggles': 4235, 'raise': 3507, 'charm': 767, 'allows': 192, 'thin': 4449, 'career': 686, 'trapped': 4564, 'buried': 624, 'resort': 3650, 'opened': 3113, 'blowing': 515, 'possibility': 3349, 'anyways': 262, 'higher': 2101, 'authority': 360, 'gonna': 1936, 'reveal': 3670, 'designed': 1203, 'commercials': 903, 'proves': 3447, 'unreal': 4676, 'snow': 4045, 'cd': 728, 'explosion': 1596, 'furthermore': 1854, 'rental': 3627, 'received': 3564, 'loses': 2657, 'parker': 3191, 'distribution': 1298, 'indie': 2276, 'silver': 3977, 'disappointment': 1275, 'holiday': 2134, 'included': 2262, 'shy': 3962, 'touching': 4536, 'maintain': 2710, 'health': 2060, 'ignorant': 2223, 'fault': 1668, 'emma': 1457, 'roberts': 3714, 'nancy': 2964, 'drew': 1360, 'fashion': 1659, 'rich': 3685, 'wore': 4939, 'realise': 3548, 'wish': 4904, 'powers': 3361, 'hospital': 2172, 'defeat': 1157, 'puts': 3481, 'beings': 449, 'domestic': 1318, 'improved': 2255, 'sight': 3969, 'hearing': 2063, 'craig': 1030, 'boss': 546, 'quirky': 3493, 'genuine': 1891, 'community': 908, 'strangely': 4212, 'screaming': 3827, 'sci': 3815, 'fi': 1701, 'mainly': 2708, 'initially': 2291, 'depicts': 1186, 'witnessed': 4915, 'jesus': 2399, 'da': 1094, 'shine': 3931, 'random': 3514, 'built': 618, 'genuinely': 1892, 'fairy': 1632, 'fell': 1690, 'argue': 290, 'center': 732, 'events': 1536, 'friendly': 1836, 'focus': 1766, 'centered': 733, 'solely': 4056, 'arrival': 299, 'group': 1980, '12': 3, 'hole': 2132, 'size': 4012, 'rare': 3523, 'central': 735, 'defined': 1160, 'share': 3920, 'promises': 3432, 'meaningless': 2782, 'drivel': 1364, 'chosen': 805, 'scientific': 3817, 'aid': 160, 'homeless': 2143, 'paper': 3183, 'cake': 648, 'blew': 505, 'changed': 750, 'directions': 1262, 'errors': 1516, 'marketing': 2741, 'per': 3223, 'explained': 1587, 'imagined': 2239, 'loyal': 2679, 'favourite': 1673, 'angel': 231, 'introduction': 2339, 'glenn': 1918, 'hated': 2047, 'latin': 2527, 'nick': 3012, 'dogs': 1311, 'chemistry': 782, 'goofy': 1939, 'ninja': 3018, 'awesome': 371, 'presence': 3373, 'chuck': 812, 'shines': 3932, 'tough': 4537, 'sign': 3970, 'mental': 2808, 'dennis': 1179, 'brooklyn': 595, 'colonel': 876, 'tends': 4402, 'spoil': 4121, 'trick': 4582, 'died': 1244, 'lasted': 2522, 'freeman': 1829, 'spare': 4093, 'existent': 1572, 'justin': 2440, 'knock': 2488, 'realizes': 3554, 'kevin': 2457, 'mundane': 2938, 'pseudo': 3454, 'plain': 3286, 'trek': 4578, 'pilot': 3276, 'outcome': 3142, 'earlier': 1399, 'treated': 4573, 'captain': 674, 'double': 1331, 'space': 4090, '11': 2, 'unknown': 4668, 'scheme': 3812, 'tend': 4400, 'gone': 1935, 'limits': 2607, 'kirk': 2482, 'illogical': 2231, '3rd': 47, 'prior': 3400, 'facing': 1620, 'severe': 3906, 'enemy': 1477, 'neat': 2982, 'futuristic': 1857, 'check': 777, 'progresses': 3426, 'spin': 4112, 'steals': 4172, 'persons': 3244, 'scary': 3807, 'memories': 2803, 'brian': 576, 'cars': 702, 'studio': 4240, 'costumes': 1006, 'signs': 3973, 'visually': 4758, 'reaching': 3539, 'food': 1778, 'seconds': 3848, 'phone': 3255, 'tony': 4521, 'lose': 2654, 'alike': 185, 'blockbuster': 509, 'millions': 2848, 'khan': 2459, 'cry': 1073, 'thousands': 4466, 'plastic': 3294, 'dancing': 1107, 'soldiers': 4054, 'sleeping': 4025, 'batman': 413, 'tried': 4584, 'adam': 111, 'west': 4852, 'burt': 629, '35': 45, 'robin': 3715, 'dress': 1357, 'suits': 4287, 'fighting': 1709, 'commentary': 899, 'smoke': 4039, 'gordon': 1940, 'alfred': 181, 'hoped': 2156, 'entertain': 1497, 'fulci': 1845, 'shake': 3914, 'junior': 2435, 'relate': 3593, 'sucks': 4271, 'depression': 1189, 'letters': 2582, 'shop': 3945, 'owner': 3159, 'fired': 1735, 'inevitable': 2282, 'dated': 1119, 'poverty': 3357, 'kids': 2467, 'reach': 3536, 'credible': 1048, 'mail': 2706, 'hanks': 2025, 'ryan': 3765, 'chain': 741, 'offended': 3085, 'memory': 2804, 'lane': 2515, 'complicated': 925, 'lovers': 2673, 'comedies': 889, 'thru': 4483, 'touches': 4535, 'spend': 4105, 'offensive': 3086, 'moronic': 2907, 'pearl': 3220, 'serial': 3889, 'weakest': 4825, 'elvis': 1451, 'blend': 504, 'segments': 3868, 'forth': 1804, 'styles': 4250, 'pat': 3208, 'painful': 3171, 'mid': 2832, 'sandra': 3782, 'replaced': 3634, 'fever': 1699, 'bright': 581, 'showcase': 3954, 'mrs': 2930, 'fortune': 1806, 'prince': 3396, 'industry': 2280, 'russian': 3762, 'program': 3424, 'charming': 768, 'manages': 2725, 'stock': 4193, 'toward': 4539, 'tied': 4489, 'professional': 3421, 'singer': 3993, 'pull': 3461, 'forty': 1807, 'funniest': 1851, 'shorts': 3948, 'changing': 752, 'frightening': 1839, 'unbearable': 4633, 'heat': 2067, 'resources': 3651, 'heston': 2094, 'detective': 1220, 'legend': 2564, 'edward': 1426, 'robinson': 3716, 'masses': 2755, 'hop': 2154, 'subsequent': 4257, 'apartment': 265, 'atmospheric': 334, 'tremendous': 4579, 'danny': 1112, 'glover': 1923, 'lloyd': 2630, 'ben': 463, 'johnson': 2411, 'brenda': 575, 'matthew': 2772, 'jay': 2386, 'reminded': 3619, 'mitchell': 2875, 'strongly': 4231, '2006': 36, 'centers': 734, 'serves': 3895, 'greater': 1965, 'rarely': 3524, 'ensemble': 1492, 'immensely': 2243, 'poignant': 3315, 'harris': 2038, 'prove': 3445, 'save': 3794, 'downright': 1337, 'cruel': 1070, 'actions': 101, 'appeal': 271, 'virgin': 4749, 'sandler': 3781, 'sink': 3999, 'worthwhile': 4955, 'andy': 230, 'poster': 3353, 'collection': 874, 'swear': 4334, 'respect': 3652, 'stays': 4169, 'combine': 884, 'exaggerated': 1552, 'easily': 1406, 'ignore': 2224, 'succeeded': 4263, 'rid': 3690, 'education': 1424, 'questions': 3489, 'ah': 158, 'chest': 784, 'pain': 3170, 'respected': 3653, 'doubts': 1333, 'gags': 1862, 'waves': 4819, 'channels': 754, 'addition': 118, 'superior': 4300, 'standing': 4146, 'gross': 1978, 'taste': 4369, 'killing': 2472, 'hero': 2088, 'happily': 2030, 'reviewers': 3678, 'stated': 4161, 'peace': 3219, 'emphasis': 1463, 'overwhelming': 3157, 'relationships': 3598, 'integrity': 2311, 'holly': 2136, 'virginia': 4750, 'barbara': 397, 'grant': 1956, 'wicked': 4879, 'angela': 232, 'provided': 3449, 'friendship': 1838, 'depicted': 1183, 'advantage': 129, 'initial': 2290, 'meeting': 2794, 'lively': 2627, 'pretend': 3381, 'circumstances': 822, 'greatly': 1967, 'sounds': 4084, 'critical': 1062, 'classical': 836, 'werent': 4849, 'struck': 4232, 'currently': 1085, 'hasnt': 2044, 'stopped': 4202, 'benefit': 465, 'doubt': 1332, 'shallow': 3917, 'clichéd': 845, 'poetry': 3314, 'clumsy': 866, 'insulting': 2310, 'orange': 3125, 'compelled': 915, 'bullets': 621, 'everywhere': 1545, 'belief': 451, 'game': 1864, 'zero': 4996, 'wow': 4962, 'loosely': 2651, '1980s': 21, 'pretending': 3382, 'nostalgia': 3038, 'threatening': 4468, 'bus': 631, 'property': 3438, 'saving': 3797, 'college': 875, 'zombies': 4998, 'walk': 4775, 'typical': 4623, 'messed': 2821, 'eaten': 1412, 'cried': 1054, 'weapon': 4828, 'holding': 2130, 'delivers': 1172, 'germany': 1898, 'france': 1816, 'germans': 1897, 'retired': 3664, 'breaks': 571, 'buff': 611, 'seagal': 3839, '25': 40, 'producing': 3417, 'choose': 799, 'dub': 1378, 'confidence': 938, 'attitude': 346, 'afternoon': 144, 'granted': 1957, 'bet': 470, 'figured': 1712, 'tall': 4362, 'basketball': 409, 'armed': 293, 'months': 2897, 'training': 4558, 'scare': 3803, 'ramones': 3512, 'dreams': 1355, 'ranks': 3519, 'musicals': 2948, 'blues': 519, 'choreographed': 801, 'adults': 126, 'funnier': 1850, 'lynch': 2691, 'examples': 1554, 'visual': 4757, 'blank': 501, 'walls': 4783, 'joke': 2414, 'website': 4834, 'incoherent': 2265, 'loud': 2664, 'ed': 1415, 'wing': 4896, 'elvira': 1450, 'regard': 3588, 'corruption': 1002, 'among': 217, 'denzel': 1181, 'drugs': 1374, 'jungle': 2434, 'mexico': 2827, 'knows': 2493, 'smooth': 4041, 'experiences': 1582, 'passes': 3203, 'opens': 3115, 'met': 2822, 'victims': 4730, 'misery': 2865, 'apparent': 269, 'purposes': 3475, 'lake': 2509, 'bill': 481, 'constructed': 959, 'introduced': 2337, 'dropped': 1370, 'appearing': 277, 'drop': 1369, 'gorgeous': 1942, 'myers': 2952, 'football': 1783, 'dislike': 1288, 'position': 3345, 'utter': 4701, 'serve': 3893, 'imitation': 2241, 'highest': 2102, 'league': 2549, 'petty': 3249, 'selfish': 3870, 'holes': 2133, 'aged': 149, 'widow': 4883, 'daughters': 1122, 'daniel': 1111, 'roger': 3724, 'thank': 4421, 'somebody': 4062, 'jake': 2377, 'speed': 4103, 'adventures': 131, 'antics': 255, 'crocodile': 1065, '2000': 30, 'sequels': 3886, 'delightful': 1168, 'goodness': 1938, 'wood': 4933, 'remarkable': 3613, 'scripts': 3836, 'creating': 1039, 'computer': 927, 'wed': 4835, 'breasts': 572, 'chose': 804, 'revenge': 3675, 'rip': 3700, 'jaws': 2385, 'temple': 4398, 'doom': 1326, 'godzilla': 1929, 'ready': 3546, 'editor': 1423, 'appreciation': 281, 'tour': 4538, 'golden': 1934, 'monkey': 2890, 'bar': 396, 'hunt': 2198, 'magnificent': 2705, 'charge': 761, 'investigation': 2343, 'progress': 3425, 'communist': 907, 'closed': 854, 'underlying': 4641, 'conflict': 939, 'represented': 3638, 'sutherland': 4333, 'gradually': 1952, 'jeffrey': 2391, 'humble': 2191, 'twice': 4613, 'hysterical': 2208, 'jerry': 2396, 'thumbs': 4485, 'lol': 2640, 'holy': 2140, 'childrens': 793, 'ruined': 3751, 'dumb': 1385, 'ridiculous': 3693, 'topic': 4526, 'putting': 3482, 'overcome': 3151, 'eight': 1436, 'bed': 436, 'nude': 3058, 'descent': 1193, 'tired': 4501, 'deaths': 1142, 'infamous': 2284, 'upper': 4685, 'shelf': 3926, 'masterful': 2758, 'chinese': 796, 'slave': 4022, 'husbands': 2205, 'troubles': 4594, 'passing': 3204, 'household': 2179, 'discovers': 1281, 'relatives': 3601, 'uncle': 4636, 'advise': 134, 'remind': 3618, 'notable': 3041, 'appearances': 275, 'luke': 2687, 'soldier': 4053, 'wonderfully': 4929, 'adapted': 114, 'hurts': 2203, 'proper': 3436, 'operation': 3117, '1970s': 17, 'possibly': 3351, 'compare': 911, 'unseen': 4678, 'separate': 3883, 'younger': 4990, 'ratings': 3530, 'led': 2558, 'seeking': 3859, 'ugly': 4625, 'guest': 1992, 'childhood': 790, 'improvement': 2256, 'rush': 3759, 'somewhat': 4068, 'shark': 3921, 'decade': 1144, 'columbo': 881, 'abc': 63, 'linda': 2609, 'stevens': 4183, 'ruthless': 3764, 'thomas': 4458, 'tooth': 4524, 'props': 3439, 'robot': 3717, 'picks': 3268, 'forgotten': 1797, 'island': 2361, 'forbidden': 1785, 'adds': 119, 'con': 928, 'clark': 832, 'kinds': 2478, 'trouble': 4592, 'pulling': 3463, 'partner': 3198, 'cops': 993, 'chased': 770, 'winds': 4895, 'identify': 2216, 'prisoners': 3403, 'sings': 3997, 'notably': 3042, 'answers': 252, 'fox': 1814, 'pictures': 3270, 'jewish': 2401, 'meaningful': 2781, 'fatal': 1664, 'bonus': 534, 'abysmal': 76, 'stellar': 4174, 'signed': 3971, 'junk': 2436, 'hadnt': 2004, 'term': 4405, 'contrary': 974, 'differences': 1247, 'consistently': 954, 'alien': 183, 'forgive': 1795, 'anime': 243, 'accepted': 82, 'nicely': 3009, 'evident': 1547, 'uk': 4626, 'limited': 2606, 'access': 83, 'media': 2789, 'carl': 692, 'balls': 390, 'push': 3477, 'cash': 709, 'keeps': 2451, 'minds': 2852, 'popularity': 3334, 'nowadays': 3055, 'market': 2740, 'cost': 1003, 'german': 1896, 'command': 897, 'senseless': 3878, 'nations': 2971, 'americans': 214, 'boot': 538, 'gary': 1873, 'unintentionally': 4659, 'delivering': 1171, 'pointed': 3317, 'urban': 4688, 'abuse': 74, 'gray': 1963, 'lazy': 2543, 'trained': 4557, 'performers': 3232, 'raw': 3532, 'guide': 1993, 'uncomfortable': 4637, 'month': 2896, 'strictly': 4223, 'realizing': 3555, 'minimal': 2855, 'delivery': 1173, 'rise': 3702, 'revelation': 3674, '17': 9, 'began': 441, 'traditional': 4550, 'sum': 4289, 'birth': 486, 'fisher': 1739, 'emotions': 1461, 'helped': 2080, 'caused': 724, 'familys': 1646, 'reaction': 3541, 'born': 544, 'foster': 1809, 'florida': 1761, 'ashley': 313, 'propaganda': 3435, 'obscure': 3068, 'intent': 2318, 'hitler': 2124, 'workers': 4943, 'movement': 2923, 'claim': 828, 'considerable': 950, 'study': 4242, 'asked': 317, 'speaks': 4096, 'amazed': 208, 'grasp': 1960, 'existed': 1570, 'atlantis': 332, 'financial': 1725, 'advice': 133, 'forgot': 1796, 'creator': 1043, 'site': 4005, 'sick': 3963, 'values': 4710, 'visit': 4755, 'mans': 2730, 'navy': 2976, 'eyed': 1612, 'jimmy': 2403, 'shadow': 3912, 'authentic': 358, 'march': 2734, 'newly': 3004, 'plane': 3288, 'expensive': 1579, 'montana': 2895, 'frank': 1821, 'safe': 3771, 'bumbling': 622, 'portrayed': 3342, 'trust': 4598, 'william': 4887, 'campbell': 663, 'rex': 3683, 'culture': 1079, 'civilization': 827, 'jonathan': 2417, 'orson': 3132, 'welles': 4844, 'roman': 3731, 'polanski': 3321, 'spielberg': 4110, 'revolutionary': 3681, 'raised': 3508, 'packed': 3166, 'thrilling': 4474, 'creation': 1040, 'beats': 426, 'normal': 3033, 'caring': 691, 'lovable': 2668, 'condition': 937, 'complex': 923, 'undoubtedly': 4648, 'south': 4087, 'guarantee': 1987, 'treasure': 4571, 'wears': 4832, 'theyll': 4444, 'spoken': 4126, '1983': 22, 'bbc': 417, 'device': 1227, 'jaw': 2384, 'thief': 4448, 'dangerous': 1110, 'hiding': 2099, 'dimensional': 1253, 'deliberately': 1166, 'parody': 3192, 'taylor': 4372, 'closest': 857, 'woody': 4936, 'lou': 2663, 'hood': 2151, 'flash': 1745, 'intriguing': 2335, 'fix': 1744, 'scope': 3821, 'brooks': 596, 'matrix': 2767, 'developing': 1224, 'criminals': 1058, 'perry': 3237, 'smith': 4038, 'wilson': 4891, 'explore': 1594, 'classes': 834, 'universal': 4665, 'ego': 1435, 'arnold': 296, 'leslie': 2574, 'ups': 4686, 'passionate': 3206, 'regret': 3591, 'dear': 1140, 'sean': 3840, 'student': 4238, 'hopeless': 2158, 'stale': 4141, 'depressing': 1188, 'grinch': 1975, 'failure': 1629, 'laughably': 2531, 'sucked': 4270, 'unintentional': 4658, 'funeral': 1849, 'pregnant': 3369, 'personality': 3242, 'interviews': 2330, 'horrifying': 2167, 'greedy': 1969, 'influence': 2286, 'introduce': 2336, 'sir': 4000, 'santa': 3783, 'nightmares': 3015, 'parties': 3196, 'satan': 3787, 'tape': 4365, '1930s': 11, 'cagney': 646, 'vehicle': 4718, 'routine': 3743, 'highlight': 2103, 'elaborate': 1439, 'conservative': 948, 'closing': 859, 'ruby': 3749, 'climactic': 848, 'blows': 517, 'view': 4736, 'critic': 1061, 'groups': 1981, 'recent': 3566, 'normally': 3034, 'previously': 3388, 'youth': 4994, 'screams': 3828, '90s': 61, 'soap': 4047, 'fantasy': 1652, 'soft': 4051, 'core': 995, 'silence': 3974, 'empathy': 1462, 'hatred': 2049, 'tortured': 4530, 'spooky': 4128, 'types': 4622, 'keaton': 2448, 'turkey': 4604, 'removed': 3624, 'bank': 394, 'guessing': 1991, 'feet': 1688, 'animals': 240, 'painfully': 3172, 'surprises': 4314, 'manage': 2722, 'christian': 808, 'sports': 4130, 'string': 4227, 'mike': 2838, '1968': 16, 'directs': 1267, 'oscars': 3134, 'remarks': 3615, 'fed': 1682, 'winner': 4897, 'ralph': 3510, 'sunshine': 4294, 'shut': 3961, 'choices': 798, 'nomination': 3026, 'washington': 4806, 'letter': 2581, 'bothered': 549, 'current': 1084, 'strike': 4224, 'essence': 1521, 'kissing': 2484, '2007': 37, 'ridden': 3691, 'substance': 4258, 'shakespeare': 3915, 'talked': 4359, 'altogether': 202, 'earned': 1401, 'stupidity': 4248, 'qualities': 3483, 'brosnan': 597, 'lonely': 2643, 'emotionally': 1460, 'bette': 471, 'nazis': 2978, 'arrive': 300, 'nazi': 2977, 'cared': 685, 'monkeys': 2891, 'proceedings': 3410, 'remake': 3612, 'burton': 630, 'honestly': 2147, 'stayed': 4167, 'beneath': 464, 'apes': 267, 'finding': 1727, 'destroyed': 1214, 'crazy': 1035, 'wreck': 4965, 'rotten': 3740, 'todays': 4509, 'explicit': 1591, 'detailed': 1218, 'whereas': 4865, 'carrey': 696, 'trade': 4547, 'timeless': 4496, 'product': 3418, 'proud': 3444, 'howard': 2182, 'flying': 1764, 'disagree': 1269, 'hearts': 2066, 'hideous': 2098, 'maker': 2714, 'rolled': 3729, 'required': 3641, 'pass': 3201, 'amazingly': 210, 'understandable': 4644, 'european': 1530, 'online': 3109, 'gangsters': 1869, 'buildings': 616, 'favor': 1670, 'introduces': 2338, 'accents': 79, 'drinking': 1362, 'tea': 4373, 'fighter': 1708, 'join': 2412, 'mayor': 2777, 'staged': 4140, 'dirty': 1268, 'preview': 3386, 'leo': 2571, 'cardboard': 682, 'six': 4010, 'educational': 1425, 'parent': 3187, 'sneak': 4043, 'cities': 823, 'players': 3299, 'moved': 2922, 'innocence': 2293, 'villain': 4744, 'territory': 4411, 'lyrics': 2692, 'boat': 523, 'shining': 3933, 'sake': 3775, 'grand': 1953, 'twins': 4616, 'truck': 4595, 'citizen': 824, 'kane': 2442, 'snake': 4042, 'stunts': 4246, 'fx': 1858, 'lousy': 2667, 'loss': 2659, 'cox': 1026, 'raped': 3522, 'mickey': 2831, 'flies': 1756, 'returns': 3668, 'philip': 3252, 'witness': 4914, 'virtually': 4751, 'fitting': 1742, 'harry': 2039, 'saga': 3773, 'worthless': 4954, 'insane': 2296, 'ii': 2226, 'fat': 1663, 'burn': 625, 'theyve': 4446, 'hung': 2197, 'cell': 730, 'mentally': 2809, 'retarded': 3663, 'knife': 2487, 'akshay': 169, 'maggie': 2702, 'jealous': 2388, 'liking': 2604, 'ha': 2002, 'emotion': 1458, 'amateur': 206, 'clip': 851, 'olivier': 3103, 'narrator': 2967, 'nurse': 3063, 'teen': 4388, 'dinosaurs': 1256, 'outrageous': 3145, 'concerns': 934, 'cultural': 1078, 'receives': 3565, 'convince': 983, 'native': 2972, 'warrior': 4802, 'spiritual': 4116, 'north': 3036, 'belongs': 460, 'vs': 4767, 'noble': 3021, 'eat': 1411, 'hence': 2083, 'remaining': 3610, 'reference': 3582, 'disease': 1285, 'ideal': 2214, 'remembered': 3617, 'represents': 3639, 'americas': 215, 'racist': 3503, 'ian': 2209, 'stealing': 4171, 'alexander': 180, 'leonard': 2572, 'disc': 1278, 'itll': 2369, 'helps': 2082, 'glorious': 1921, 'midnight': 2834, 'cowboy': 1025, 'warned': 4798, 'innovative': 2295, 'bleak': 503, 'simplistic': 3985, 'backgrounds': 381, 'hoffman': 2128, 'sleazy': 4023, '24': 39, 'build': 614, 'connected': 945, 'symbolism': 4341, 'craft': 1028, 'distance': 1294, 'image': 2233, 'lewis': 2586, 'deserved': 1200, 'devoted': 1231, 'desperation': 1210, 'focused': 1767, 'intensity': 2317, 'ocean': 3079, 'landing': 2512, 'longer': 2645, 'views': 4742, 'area': 286, 'melodramatic': 2798, 'busy': 635, 'drunk': 1375, 'pushed': 3478, 'stilted': 4190, 'glimpse': 1919, 'darker': 1116, 'opposed': 3122, 'expectations': 1576, 'stretched': 4222, 'vivid': 4760, 'block': 508, 'hoping': 2160, 'sword': 4340, 'heroic': 2090, 'villains': 4745, 'naked': 2959, 'chicks': 787, 'department': 1182, 'disney': 1289, 'remarkably': 3614, 'destroy': 1213, 'surviving': 4323, 'portrait': 3339, 'rough': 3741, 'lifestyle': 2593, 'portray': 3340, 'gritty': 1977, 'stood': 4199, 'awkward': 374, 'tame': 4363, 'effectively': 1430, 'gratuitous': 1961, 'campy': 664, 'mob': 2879, 'pulls': 3464, 'mile': 2842, 'psychological': 3458, 'alright': 198, 'hopper': 2161, 'discuss': 1283, 'harvey': 2042, 'field': 1704, 'partly': 3197, 'awe': 370, 'anywhere': 263, 'driver': 1366, 'teachers': 4376, 'troubled': 4593, 'press': 3379, 'pan': 3180, 'sky': 4017, 'paltrow': 3178, 'sentimental': 3882, 'brando': 566, 'marvelous': 2750, 'underrated': 4642, 'curiosity': 1082, 'bell': 458, 'screenwriter': 3833, 'calls': 654, 'dreadful': 1353, 'careful': 688, 'tag': 4348, 'interpretation': 2328, 'westerns': 4854, 'pre': 3365, 'extended': 1604, 'psychic': 3456, 'destiny': 1212, 'seeks': 3860, 'freedom': 1828, 'poem': 3312, 'jobs': 2406, 'drive': 1363, 'medium': 2792, 'theatre': 4429, 'kick': 2460, '2001': 31, 'nonetheless': 3029, 'hide': 2097, 'domino': 1319, 'results': 3662, 'baby': 376, 'figures': 1713, 'joined': 2413, 'tiger': 4491, 'intentions': 2321, 'trap': 4563, 'meat': 2787, 'bridge': 578, 'escape': 1517, 'sensitive': 3879, 'delight': 1167, 'fancy': 1649, 'tradition': 4549, 'ties': 4490, 'landscapes': 2514, 'engaging': 1481, 'plausible': 3295, 'tears': 4380, 'lacking': 2504, 'specifically': 4100, 'cartoons': 705, 'dad': 1095, 'theory': 4437, 'prepared': 3371, 'whale': 4857, 'motivation': 2914, 'desire': 1205, 'superbly': 4297, 'fond': 1776, 'turner': 4607, 'portraying': 3343, 'negative': 2991, 'trademark': 4548, 'sinatra': 3989, 'upset': 4687, 'williams': 4888, 'stereotypical': 4180, 'suffers': 4278, 'sappy': 3784, 'ran': 3513, 'snl': 4044, 'fallen': 1638, 'subtlety': 4261, 'sunday': 4293, 'trio': 4587, 'nyc': 3065, 'hunter': 2199, 'witnesses': 4916, 'taught': 4370, 'lesson': 2577, 'shell': 3927, 'date': 1118, 'sleep': 4024, 'element': 1442, 'dude': 1381, 'gag': 1861, 'bat': 410, 'flow': 1762, 'belong': 459, 'everyday': 1541, 'depressed': 1187, 'julia': 2427, 'locations': 2636, 'supernatural': 4302, 'wishes': 4906, 'anger': 235, 'arm': 292, 'mafia': 2700, 'bold': 528, 'colors': 879, 'extreme': 1609, 'gruesome': 1986, 'worry': 4950, 'chooses': 800, 'amongst': 218, 'sell': 3871, 'involve': 2345, '1980': 20, 'dancer': 1104, 'outfit': 3144, 'soccer': 4048, 'chicago': 785, 'provoking': 3452, 'miller': 2846, 'split': 4120, 'shoot': 3942, 'impress': 2250, 'rocks': 3722, 'tender': 4401, 'wear': 4830, 'edie': 1419, 'achieve': 92, 'drags': 1345, 'vacation': 4704, 'europe': 1529, 'handful': 2017, 'eric': 1514, 'slapstick': 4019, 'drug': 1373, 'building': 615, 'plight': 3308, 'stone': 4197, 'travesty': 4570, 'morgan': 2905, 'manager': 2724, 'staff': 4138, 'ride': 3692, 'company': 910, 'persona': 3239, 'beast': 422, 'phantom': 3251, 'overrated': 3156, 'latest': 2526, 'wes': 4851, 'warriors': 4803, 'freddy': 1826, 'constant': 957, 'idiotic': 2219, 'visuals': 4759, 'teenage': 4389, 'asleep': 320, 'lisa': 2616, 'eerie': 1427, 'originality': 3130, 'load': 2631, 'generous': 1886, 'avoided': 364, 'disappoint': 1272, 'believed': 455, 'strikes': 4225, 'cure': 1081, 'ken': 2453, 'astaire': 330, 'rogers': 3725, 'berlin': 467, 'piano': 3264, 'singers': 3994, 'finale': 1723, 'peters': 3248, 'pal': 3177, 'sing': 3992, 'solo': 4058, 'mexican': 2826, 'amateurish': 207, 'aids': 161, 'africa': 141, 'contain': 962, 'beating': 425, 'chaos': 755, 'affect': 136, 'borrowed': 545, 'le': 2544, 'wolf': 4920, 'offered': 3088, 'minded': 2850, 'vincent': 4746, 'cheese': 780, 'alan': 171, 'nearby': 2980, 'escaped': 1518, 'saves': 3796, 'joan': 2404, 'grey': 1973, 'lacks': 2505, 'aforementioned': 139, 'guessed': 1990, 'destroying': 1215, 'wayne': 4821, 'dutch': 1389, 'slick': 4026, 'showdown': 3955, 'bang': 393, 'grace': 1950, 'kapoor': 2443, 'union': 4661, 'reached': 3537, 'promised': 3431, 'angry': 238, 'agreed': 156, 'hart': 2041, 'psychotic': 3459, 'jennifer': 2392, 'ahead': 159, 'smoking': 4040, 'everyones': 1543, 'dialogues': 1235, 'philosophical': 3253, 'overdone': 3152, 'status': 4165, 'calling': 653, 'halfway': 2008, 'throwing': 4480, 'nonsense': 3030, 'boredom': 542, 'movements': 2924, 'rural': 3758, 'revolution': 3680, 'cuba': 1075, 'rambo': 3511, 'daily': 1097, 'dealing': 1136, 'excessive': 1560, 'clips': 852, 'julie': 2428, 'rocky': 3723, 'farm': 1656, 'em': 1452, 'misses': 2868, 'develop': 1222, 'bomb': 531, 'destruction': 1216, 'afterwards': 145, 'terrorist': 4413, 'card': 681, 'losing': 2658, 'dropping': 1371, 'unsettling': 4679, 'quiet': 3492, 'rolling': 3730, 'companion': 909, 'blunt': 520, 'larry': 2520, 'pulled': 3462, 'butt': 638, 'criticism': 1063, 'national': 2970, 'crying': 1074, 'argument': 291, 'rat': 3525, 'hugh': 2186, 'planned': 3290, 'doc': 1303, 'pro': 3406, 'occurs': 3078, 'thrill': 4471, 'landscape': 2513, 'capturing': 679, 'hat': 2045, 'wrapped': 4964, 'primary': 3394, 'chances': 748, 'clown': 862, 'searching': 3842, 'relevant': 3604, 'plague': 3285, 'bands': 392, 'testament': 4417, 'abandoned': 62, 'arrives': 302, 'tonight': 4519, '1950s': 14, 'page': 3167, 'falk': 1636, 'aliens': 184, 'increasingly': 2268, 'exercise': 1568, 'occasion': 3073, 'clint': 850, 'sounded': 4082, 'hundreds': 2196, 'uwe': 4703, 'boll': 529, 'alcohol': 176, 'empty': 1465, 'judging': 2425, 'bullet': 620, 'terrifying': 4410, 'react': 3540, 'wondering': 4930, 'resident': 3647, 'copies': 992, 'virus': 4752, 'vampires': 4712, 'suggests': 4282, 'text': 4419, 'barry': 401, 'racism': 3502, 'bakshi': 386, 'crowd': 1067, 'succeeds': 4264, 'jeff': 2390, 'incomprehensible': 2267, 'endless': 1473, 'depicting': 1184, 'cable': 644, 'genres': 1889, 'cruise': 1071, 'ho': 2127, 'countless': 1012, 'stretch': 4221, 'touched': 4534, 'nose': 3037, 'countries': 1013, 'complain': 919, 'princess': 3397, 'artists': 309, 'performed': 3230, 'improve': 2254, 'subtitles': 4259, 'teach': 4374, 'discovery': 1282, 'ruin': 3750, 'sitcom': 4004, 'stereotype': 4178, 'sounding': 4083, 'hints': 2113, 'dick': 1239, 'tracy': 4546, '1990': 24, 'superhero': 4299, 'tone': 4517, 'treats': 4575, 'pacino': 3164, 'gain': 1863, 'charlie': 765, 'madonna': 2699, 'sides': 3967, 'overlooked': 3154, 'contrived': 976, 'comics': 895, 'hooked': 2153, 'wishing': 4907, 'thick': 4447, 'recognized': 3570, 'win': 4892, 'mtv': 2933, 'performing': 3233, 'bodies': 526, 'pity': 3281, 'paranoia': 3186, 'soviet': 4089, 'irish': 2353, 'accent': 78, 'appealing': 272, 'pink': 3277, 'fare': 1655, 'attracted': 349, 'stiff': 4187, 'transition': 4561, 'bucks': 606, 'hunters': 2200, 'traveling': 4568, 'rangers': 3517, 'rick': 3689, 'ethan': 1528, 'louise': 2666, 'attacks': 339, 'forest': 1791, 'spread': 4133, 'spots': 4132, 'attacked': 338, 'credibility': 1047, 'menace': 2806, 'service': 3896, 'inferior': 2285, 'mass': 2753, 'mainstream': 2709, 'inspector': 2299, 'hates': 2048, 'carried': 698, 'promising': 3433, 'kudos': 2497, 'smiling': 4037, 'continued': 970, 'ghosts': 1903, 'someones': 4065, 'convoluted': 987, 'cliche': 843, 'kung': 2498, 'fu': 1844, 'neo': 2998, 'weve': 4856, 'originally': 3131, 'appalling': 268, 'reasonable': 3558, 'worn': 4948, 'matters': 2770, 'base': 402, 'equipment': 1511, 'maria': 2736, 'forces': 1788, 'host': 2173, 'dig': 1250, 'jackson': 2375, 'sullivan': 4288, 'remote': 3622, 'false': 1641, 'scares': 3806, 'frequently': 1832, 'arrogant': 303, 'honor': 2150, 'kidnapped': 2466, 'learns': 2553, 'useless': 4695, 'sidney': 3968, 'picking': 3267, 'shelley': 3928, 'winters': 4901, 'fury': 1855, 'consistent': 953, 'handle': 2018, 'diane': 1238, 'discussion': 1284, 'exceptional': 1558, 'variety': 4714, 'pleasantly': 3303, 'randomly': 3515, 'shortly': 3947, 'transfer': 4559, 'screens': 3832, 'battles': 415, 'simon': 3982, 'receive': 3563, 'adding': 117, 'outer': 3143, 'slaughter': 4021, 'fields': 1705, 'ellen': 1446, 'risk': 3704, 'enthusiasm': 1501, 'cheated': 775, 'caine': 647, 'nicholson': 3011, 'females': 1694, 'suffered': 4276, 'tons': 4520, 'sincere': 3991, 'priest': 3392, 'remotely': 3623, 'enjoying': 1487, 'courage': 1018, 'christians': 809, 'miserable': 2863, 'irritating': 2359, 'angles': 237, 'jamie': 2379, 'produce': 3413, 'shed': 3924, 'exists': 1573, 'mistakes': 2873, 'primarily': 3393, 'topless': 4527, 'liberal': 2588, 'bobby': 525, 'genius': 1887, 'couples': 1017, 'deceased': 1146, 'laid': 2508, 'portion': 3338, '2003': 33, 'continuity': 972, 'patrick': 3213, 'challenging': 744, 'enjoys': 1489, 'paying': 3217, 'monsters': 2893, 'september': 3884, 'goldberg': 1933, 'pleased': 3305, 'spring': 4134, 'bringing': 586, 'jesse': 2397, 'warm': 4794, 'contact': 961, '2004': 34, 'finish': 1732, 'toys': 4543, 'st': 4137, 'laws': 2540, 'suited': 4286, 'devil': 1228, 'bound': 553, 'christ': 807, 'fool': 1779, 'plant': 3293, 'creep': 1051, 'dubbing': 1380, 'relation': 3595, 'independent': 2272, 'creators': 1044, 'surfing': 4311, 'explored': 1595, 'frequent': 1831, 'spike': 4111, 'margaret': 2735, 'builds': 617, 'wondered': 4927, 'jenny': 2393, 'cousin': 1021, 'sun': 4292, 'wished': 4905, 'internet': 2327, 'vietnam': 4735, 'understood': 4647, 'hamilton': 2012, 'evening': 1534, 'ring': 3698, 'flawed': 1750, 'race': 3499, 'tracks': 4545, 'broadcast': 591, 'section': 3853, 'official': 3094, 'cave': 727, 'matched': 2763, 'returning': 3667, 'segment': 3867, 'california': 650, 'burns': 628, 'carpenter': 694, 'drink': 1361, 'firstly': 1737, 'hardy': 2037, 'mask': 2752, 'wholly': 4874, 'decades': 1145, 'metal': 2823, 'eg': 1434, 'exposure': 1599, 'mill': 2845, 'tear': 4379, 'providing': 3451, 'ludicrous': 2685, 'elizabeth': 1445, 'shape': 3919, 'elephant': 1444, 'amitabh': 216, 'bitter': 491, 'london': 2641, 'accomplished': 87, 'gene': 1879, 'simmons': 3981, 'synopsis': 4344, 'notes': 3046, 'vegas': 4717, 'obnoxious': 3067, 'row': 3744, 'duty': 1390, 'measure': 2786, 'strangers': 4214, 'dollars': 1315, 'grandfather': 1954, 'buffs': 612, 'mixture': 2878, 'messages': 2820, 'fears': 1677, 'wound': 4960, 'tense': 4403, 'throws': 4482, 'endearing': 1469, 'kiss': 2483, 'spoof': 4127, 'committed': 905, 'merits': 2817, 'grave': 1962, 'proof': 3434, 'neil': 2995, 'matthau': 2771, 'lemmon': 2567, 'felix': 1689, 'laughter': 2535, 'legendary': 2565, 'sally': 3776, 'sharp': 3922, 'balance': 387, 'circle': 821, 'triumph': 4590, 'disneys': 1290, 'teens': 4392, 'annie': 247, 'desperate': 1208, 'hunting': 2201, 'dorothy': 1330, 'empire': 1464, 'unbelievably': 4635, 'gangster': 1868, 'purple': 3473, 'rain': 3506, 'deadly': 1133, 'absence': 70, 'sinister': 3998, 'shoots': 3944, 'arrived': 301, 'crash': 1033, 'numerous': 3062, 'survivors': 4325, 'rescue': 3643, 'steel': 4173, 'mentioning': 2812, 'stanley': 4148, 'basement': 405, 'quit': 3494, '2002': 32, 'scarecrow': 3804, 'protagonist': 3441, 'display': 1291, 'evidence': 1546, 'spite': 4117, 'jessica': 2398, 'bedroom': 437, 'italy': 2368, 'smaller': 4034, 'fictional': 1703, 'mildly': 2840, 'intimate': 2331, 'striking': 4226, 'walker': 4778, 'locked': 2637, 'marie': 2737, 'resemblance': 3645, 'historically': 2120, 'diamond': 1236, 'presumably': 3380, 'toy': 4542, 'definition': 1163, '1996': 26, 'estate': 1525, 'cusack': 1088, 'streets': 4217, 'hip': 2114, 'sin': 3988, 'claire': 831, 'danes': 1108, 'stinks': 4192, 'louis': 2665, '2005': 35, '1940s': 13, 'conversations': 981, 'ingredients': 2289, 'wwii': 4975, 'factory': 1623, 'acid': 95, 'obsession': 3070, 'disappeared': 1271, 'explains': 1589, 'elsewhere': 1449, 'feed': 1683, 'theyd': 4443, 'alongside': 196, 'jumps': 2432, 'controversial': 978, 'colorful': 878, 'dave': 1123, 'represent': 3637, 'gentle': 1890, 'border': 539, 'prostitute': 3440, 'pursuit': 3476, 'harsh': 2040, 'stolen': 4195, 'twelve': 4611, 'worker': 4942, 'demand': 1174, 'affected': 137, 'quest': 3486, 'businessman': 634, 'boom': 537, 'distant': 1295, 'scottish': 3825, 'stan': 4142, 'steps': 4177, 'laurel': 2537, 'parallel': 3185, 'rooms': 3736, 'conflicts': 940, 'gripping': 1976, 'kurt': 2499, 'russell': 3761, 'dvds': 1392, 'ape': 266, 'freak': 1824, 'productions': 3420, 'marty': 2749, 'arguably': 289, 'individual': 2277, 'anderson': 227, 'duo': 1386, 'ruth': 3763, 'travels': 4569, 'alert': 178, 'treatment': 4574, 'banned': 395, 'houses': 2180, 'eva': 1531, 'ladies': 2506, 'population': 3335, 'bugs': 613, '1933': 12, 'honesty': 2148, 'intrigued': 2334, 'models': 2881, 'agents': 151, 'suitable': 4285, 'panic': 3181, 'manhattan': 2726, 'rachel': 3500, 'wallace': 4782, 'larger': 2519, 'thousand': 4465, 'duke': 1383, 'sadistic': 3768, 'identity': 2217, 'brutally': 604, 'appropriate': 283, 'album': 175, 'bathroom': 412, 'catches': 715, 'mate': 2765, 'cuts': 1091, 'enters': 1496, 'wounded': 4961, 'superman': 4301, 'satisfied': 3789, 'ritter': 3705, 'thoughtful': 4463, 'warmth': 4796, 'chaplin': 756, 'resist': 3648, 'demons': 1178, 'sentence': 3881, 'methods': 2825, 'perform': 3227, 'demon': 1177, 'chilling': 794, 'throat': 4476, 'security': 3854, 'kidding': 2465, 'satisfy': 3790, 'gifted': 1907, 'joey': 2408, 'lit': 2621, 'seasons': 3844, 'glory': 1922, 'profound': 3423, 'prequel': 3372, 'karloff': 2445, 'beach': 419, 'inane': 2258, 'plans': 3292, 'contemporary': 965, 'photographer': 3259, 'surrounding': 4319, 'iran': 2350, 'expressed': 1601, 'frustration': 1843, 'eccentric': 1414, 'generated': 1882, 'gothic': 1945, 'account': 89, 'wrap': 4963, 'writes': 4970, 'reasonably': 3559, 'bay': 416, 'neighborhood': 2993, 'couldve': 1009, 'jeremy': 2394, 'performs': 3234, 'dedicated': 1153, 'obsessed': 3069, 'feminist': 1695, 'muslim': 2949, 'francisco': 1819, 'link': 2613, 'trail': 4553, 'eastwood': 1409, 'teeth': 4393, 'robbery': 3711, 'kelly': 2452, 'merit': 2816, 'dust': 1388, 'hint': 2112, 'slap': 4018, 'suspicious': 4332, 'unhappy': 4656, 'carry': 700, 'explosions': 1597, 'farce': 1654, 'related': 3594, 'competition': 918, 'cleverly': 842, 'grab': 1949, 'popcorn': 3331, 'wells': 4845, 'phony': 3256, 'chorus': 803, 'skip': 4016, 'assumed': 329, 'thrills': 4475, 'widmark': 4882, 'sidekick': 3966, 'relative': 3599, 'greek': 1970, 'dare': 1113, 'established': 1524, 'smile': 4036, 'relief': 3605, 'scooby': 3820, 'doo': 1325, 'assault': 324, 'spoiled': 4122, 'chases': 771, 'neighbors': 2994, 'andrews': 229, 'quote': 3496, 'ships': 3935, 'calm': 655, 'godfather': 1927, 'unlikely': 4671, 'unconvincing': 4638, 'spirited': 4114, 'bargain': 400, 'acceptable': 81, 'sloppy': 4030, 'danger': 1109, 'sacrifice': 3766, 'sport': 4129, 'mighty': 2836, 'wit': 4908, 'catching': 716, 'kennedy': 2454, 'walken': 4777, 'survival': 4320, 'bag': 384, 'helicopter': 2076, 'branagh': 564, 'waitress': 4773, 'drives': 1367, 'stanwyck': 4149, 'philosophy': 3254, 'broad': 590, 'ned': 2986, 'joseph': 2419, 'cook': 988, 'emily': 1456, 'hollywoods': 2138, 'invisible': 2344, 'britain': 588, 'rap': 3520, 'overlook': 3153, 'watches': 4814, 'aunt': 355, 'prisoner': 3402, 'isolated': 2363, 'morris': 2908, 'backdrop': 379, 'equal': 1509, 'protagonists': 3442, 'miscast': 2862, 'attitudes': 347, 'stooges': 4200, 'los': 2653, 'angeles': 233, 'mentions': 2813, 'rocket': 3721, 'clothing': 861, 'lawrence': 2539, 'fish': 1738, 'pays': 3218, 'cinderella': 815, 'returned': 3666, 'georges': 1894, 'studios': 4241, 'ham': 2011, 'championship': 745, 'warn': 4797, 'stiller': 4189, 'laura': 2536, 'homer': 2144, 'cole': 873, 'physically': 3263, 'airplane': 166, 'network': 3000, 'fashioned': 1660, 'tunes': 4603, 'leader': 2546, 'vice': 4727, 'dawson': 1128, 'jackie': 2374, 'chan': 746, 'fay': 1674, 'hal': 2006, 'ironic': 2355, 'adequate': 120, 'sixties': 4011, 'unit': 4663, 'trashy': 4566, 'catchy': 717, 'wave': 4818, 'method': 2824, 'carradine': 695, 'kenneth': 2455, 'inventive': 2341, 'seventies': 3904, 'afford': 138, 'robbins': 3712, 'inducing': 2279, 'babe': 375, 'murphy': 2944, 'gift': 1906, 'rats': 3531, 'horrors': 2169, 'construction': 960, 'bettie': 473, 'photo': 3257, '75': 57, 'pie': 3271, 'illegal': 2229, 'streep': 4215, 'haunted': 2050, 'brains': 563, 'offering': 3089, 'bollywood': 530, 'swimming': 4338, 'yesterday': 4983, 'lie': 2590, 'map': 2733, 'spoke': 4125, 'taxi': 4371, 'possessed': 3347, 'tie': 4488, 'birds': 485, 'alternate': 200, 'michelle': 2830, 'creativity': 1042, 'massacre': 2754, 'hype': 2207, 'shadows': 3913, 'blah': 496, 'concern': 931, 'legal': 2563, 'checking': 778, 'fooled': 1780, 'jerk': 2395, 'conventional': 979, 'imaginative': 2237, 'endings': 1472, 'alcoholic': 177, 'sue': 4274, 'ears': 1402, 'et': 1526, 'lucas': 2680, 'ireland': 2352, 'graphics': 1959, 'doors': 1329, 'suggested': 4281, 'restored': 3659, 'punishment': 3467, 'icon': 2211, 'kitchen': 2485, 'polished': 3323, 'matches': 2764, 'aimed': 162, 'formulaic': 1803, 'hudson': 2184, 'twenty': 4612, 'contract': 973, 'allowing': 191, 'inept': 2281, 'scores': 3823, 'cary': 706, 'dreary': 1356, 'mel': 2796, 'mummy': 2937, 'exceptionally': 1559, 'earl': 1398, 'bull': 619, 'doll': 1313, 'burning': 627, 'restaurant': 3658, 'threw': 4470, 'reactions': 3542, 'glass': 1917, 'exploration': 1593, 'roots': 3738, 'videos': 4734, 'suspects': 4328, 'spider': 4109, 'flop': 1760, 'attached': 336, 'hills': 2109, 'lucy': 2684, 'fetched': 1698, 'niro': 3019, 'massive': 2756, 'cube': 1076, 'miracle': 2860, 'selling': 3873, 'reed': 3580, 'damage': 1099, 'convincingly': 986, 'medical': 2790, 'invasion': 2340, 'mirror': 2861, 'troops': 4591, 'racial': 3501, 'speech': 4102, 'happiness': 2031, 'sits': 4006, 'terry': 4415, 'mothers': 2912, 'easier': 1405, 'opinions': 3119, 'riveting': 3708, 'nuts': 3064, 'dressing': 1359, 'mildred': 2841, 'wendy': 4846, 'carter': 703, 'planning': 3291, 'bear': 420, 'starred': 4153, 'cliff': 847, 'deeper': 1155, 'royal': 3746, 'hamlet': 2013, 'wanna': 4786, 'elegant': 1441, 'lacked': 2503, '1972': 18, 'wives': 4918, 'lumet': 2688, '40s': 49, 'principal': 3398, 'childish': 791, 'recording': 3575, 'craven': 1034, 'elm': 1447, 'involvement': 2347, 'thrillers': 4473, 'tomatoes': 4515, 'machines': 2694, 'jumping': 2431, 'homage': 2141, 'chess': 783, 'quotes': 3497, 'photos': 3261, 'contained': 963, 'agrees': 157, 'switch': 4339, 'importance': 2246, 'lying': 2690, 'author': 359, 'aired': 165, 'incompetent': 2266, 'nuclear': 3057, 'richardson': 3688, 'wacky': 4769, 'gadget': 1860, 'waited': 4771, 'ancient': 225, 'overacting': 3149, 'brazil': 568, 'similarities': 3979, 'edition': 1422, 'hollow': 2135, 'corrupt': 1001, 'cooper': 990, 'patient': 3211, 'hello': 2078, 'madness': 2698, 'comparing': 913, 'australia': 356, 'cia': 814, 'wrestling': 4966, 'inevitably': 2283, 'stylish': 4251, 'cg': 739, 'failing': 1627, 'causes': 725, 'manipulative': 2727, 'user': 4696, 'divorce': 1301, 'corporate': 998, 'purchased': 3470, 'gerard': 1895, 'mario': 2738, 'proceeds': 3411, 'summary': 4290, 'incident': 2260, 'charisma': 762, 'instinct': 2308, 'riding': 3695, 'titanic': 4503, 'cameron': 661, 'kingdom': 2480, 'noise': 3024, 'logical': 2639, 'crack': 1027, 'sellers': 3872, 'lengthy': 2570, 'web': 4833, 'species': 4098, 'moody': 2899, 'porno': 3337, 'mall': 2720, 'flawless': 1751, 'gabriel': 1859, 'losers': 2656, 'voiced': 4762, 'notion': 3050, 'surrounded': 4318, 'occur': 3076, 'worried': 4949, 'wealth': 4826, 'illness': 2230, 'solution': 4059, 'ted': 4386, 'exposed': 1598, 'chapter': 757, 'derek': 1192, 'grows': 1985, 'desired': 1206, 'unwatchable': 4682, 'doctors': 1305, 'tarzan': 4367, 'crucial': 1068, 'gender': 1878, 'hank': 2024, 'der': 1191, 'fascinated': 1657, 'similarly': 3980, '3d': 46, 'indians': 2275, 'reunion': 3669, 'curtis': 1087, 'despair': 1207, 'orders': 3127, 'kicked': 2461, 'disturbed': 1299, 'hippie': 2115, 'norman': 3035, 'holmes': 2139, 'montage': 2894, 'staying': 4168, 'reads': 3545, 'murderous': 2942, 'pot': 3354, 'grandmother': 1955, 'executive': 1567, 'library': 2589, 'bottle': 550, 'dire': 1257, 'generations': 1884, 'accompanied': 86, 'hitchcock': 2123, 'kubrick': 2496, 'comical': 894, 'poetic': 3313, 'kicks': 2463, 'iraq': 2351, 'surface': 4310, 'simpson': 3987, 'april': 284, 'capital': 673, 'souls': 4080, 'repeatedly': 3632, 'hyde': 2206, 'pokemon': 3320, 'relations': 3596, 'eager': 1396, 'charlotte': 766, 'displays': 1293, 'painted': 3174, 'prevent': 3385, 'rabbit': 3498, 'bela': 450, 'lugosi': 2686, 'crimes': 1056, 'edgar': 1417, 'pit': 3278, 'dramas': 1347, 'artificial': 306, 'sarah': 3785, 'dolls': 1316, 'bible': 477, 'ginger': 1908, 'coach': 868, 'report': 3635, 'dating': 1120, 'kay': 2447, 'assigned': 325, 'savage': 3793, 'nation': 2969, 'moon': 2900, 'masters': 2761, 'jazz': 2387, 'likewise': 2603, 'activities': 102, 'greed': 1968, 'willis': 4890, 'settle': 3902, 'prom': 3429, 'mann': 2728, 'flynn': 1765, 'trees': 4577, 'pages': 3168, 'drops': 1372, 'boxing': 556, 'newspaper': 3006, 'gundam': 1997, 'designs': 1204, 'tap': 4364, 'rage': 3505, 'li': 2587, 'dentist': 1180, 'contest': 967, 'patients': 3212, 'melting': 2799, 'enemies': 1476, 'garbo': 1871, 'bacall': 377, 'stargate': 4151, 'airport': 167, 'ballet': 389, 'lone': 2642, 'twilight': 4614, 'mechanical': 2788, 'behave': 445, 'victoria': 4732, 'clues': 865, 'diana': 1237, '1999': 27, 'awfully': 373, 'witches': 4910, 'blob': 507, 'gandhi': 1866}\n"
     ]
    }
   ],
   "source": [
    "print(str(vocabulary))"
   ]
  },
  {
   "cell_type": "markdown",
   "metadata": {},
   "source": [
    "Once you have added the endpoint name to the Lambda function, click on **Save**. Your Lambda function is now up and running. Next we need to create a way for our web app to execute the Lambda function."
   ]
  },
  {
   "cell_type": "markdown",
   "metadata": {},
   "source": [
    "### Setting up API Gateway\n",
    "\n",
    "Now that our Lambda function is set up, it is time to create a new API using API Gateway that will trigger the Lambda function we have just created.\n",
    "\n",
    "Using AWS Console, navigate to **Amazon API Gateway** and then click on **Get started**.\n",
    "\n",
    "On the next page, make sure that **New API** is selected and give the new api a name, for example, `sentiment_analysis_web_app`. Then, click on **Create API**.\n",
    "\n",
    "Now we have created an API, however it doesn't currently do anything. What we want it to do is to trigger the Lambda function that we created earlier.\n",
    "\n",
    "Select the **Actions** dropdown menu and click **Create Method**. A new blank method will be created, select its dropdown menu and select **POST**, then click on the check mark beside it.\n",
    "\n",
    "For the integration point, make sure that **Lambda Function** is selected and click on the **Use Lambda Proxy integration**. This option makes sure that the data that is sent to the API is then sent directly to the Lambda function with no processing. It also means that the return value must be a proper response object as it will also not be processed by API Gateway.\n",
    "\n",
    "Type the name of the Lambda function you created earlier into the **Lambda Function** text entry box and then click on **Save**. Click on **OK** in the pop-up box that then appears, giving permission to API Gateway to invoke the Lambda function you created.\n",
    "\n",
    "The last step in creating the API Gateway is to select the **Actions** dropdown and click on **Deploy API**. You will need to create a new Deployment stage and name it anything you like, for example `prod`.\n",
    "\n",
    "You have now successfully set up a public API to access your SageMaker model. Make sure to copy or write down the URL provided to invoke your newly created public API as this will be needed in the next step. This URL can be found at the top of the page, highlighted in blue next to the text **Invoke URL**."
   ]
  },
  {
   "cell_type": "markdown",
   "metadata": {},
   "source": [
    "## Step 7: Deploying our web app\n",
    "\n",
    "Now that we have a publicly available API, we can start using it in a web app. For our purposes, we have provided a simple static html file which can make use of the public api you created earlier.\n",
    "\n",
    "In the `website` folder there should be a file called `index.html`. Download the file to your computer and open that file up in a text editor of your choice. There should be a line which contains **\\*\\*REPLACE WITH PUBLIC API URL\\*\\***. Replace this string with the url that you wrote down in the last step and then save the file.\n",
    "\n",
    "Now, if you open `index.html` on your local computer, your browser will behave as a local web server and you can use the provided site to interact with your SageMaker model.\n",
    "\n",
    "If you'd like to go further, you can host this html file anywhere you'd like, for example using github or hosting a static site on Amazon's S3. Once you have done this you can share the link with anyone you'd like and have them play with it too!\n",
    "\n",
    "> **Important Note** In order for the web app to communicate with the SageMaker endpoint, the endpoint has to actually be deployed and running. This means that you are paying for it. Make sure that the endpoint is running when you want to use the web app but that you shut it down when you don't need it, otherwise you will end up with a surprisingly large AWS bill."
   ]
  },
  {
   "cell_type": "markdown",
   "metadata": {},
   "source": [
    "### Delete the endpoint\n",
    "\n",
    "Remember to always shut down your endpoint if you are no longer using it. You are charged for the length of time that the endpoint is running so if you forget and leave it on you could end up with an unexpectedly large bill."
   ]
  },
  {
   "cell_type": "code",
   "execution_count": 51,
   "metadata": {},
   "outputs": [],
   "source": [
    "xgb_predictor.delete_endpoint()"
   ]
  },
  {
   "cell_type": "markdown",
   "metadata": {},
   "source": [
    "## Optional: Clean up\n",
    "\n",
    "The default notebook instance on SageMaker doesn't have a lot of excess disk space available. As you continue to complete and execute notebooks you will eventually fill up this disk space, leading to errors which can be difficult to diagnose. Once you are completely finished using a notebook it is a good idea to remove the files that you created along the way. Of course, you can do this from the terminal or from the notebook hub if you would like. The cell below contains some commands to clean up the created files from within the notebook."
   ]
  },
  {
   "cell_type": "code",
   "execution_count": 52,
   "metadata": {},
   "outputs": [
    {
     "ename": "OSError",
     "evalue": "[Errno 12] Cannot allocate memory",
     "output_type": "error",
     "traceback": [
      "\u001b[0;31m---------------------------------------------------------------------------\u001b[0m",
      "\u001b[0;31mOSError\u001b[0m                                   Traceback (most recent call last)",
      "\u001b[0;32m<ipython-input-52-2c87d8eefdf2>\u001b[0m in \u001b[0;36m<module>\u001b[0;34m()\u001b[0m\n\u001b[1;32m      1\u001b[0m \u001b[0;31m# First we will remove all of the files contained in the data_dir directory\u001b[0m\u001b[0;34m\u001b[0m\u001b[0;34m\u001b[0m\u001b[0;34m\u001b[0m\u001b[0m\n\u001b[0;32m----> 2\u001b[0;31m \u001b[0mget_ipython\u001b[0m\u001b[0;34m(\u001b[0m\u001b[0;34m)\u001b[0m\u001b[0;34m.\u001b[0m\u001b[0msystem\u001b[0m\u001b[0;34m(\u001b[0m\u001b[0;34m'rm $data_dir/*'\u001b[0m\u001b[0;34m)\u001b[0m\u001b[0;34m\u001b[0m\u001b[0;34m\u001b[0m\u001b[0m\n\u001b[0m\u001b[1;32m      3\u001b[0m \u001b[0;34m\u001b[0m\u001b[0m\n\u001b[1;32m      4\u001b[0m \u001b[0;31m# And then we delete the directory itself\u001b[0m\u001b[0;34m\u001b[0m\u001b[0;34m\u001b[0m\u001b[0;34m\u001b[0m\u001b[0m\n\u001b[1;32m      5\u001b[0m \u001b[0mget_ipython\u001b[0m\u001b[0;34m(\u001b[0m\u001b[0;34m)\u001b[0m\u001b[0;34m.\u001b[0m\u001b[0msystem\u001b[0m\u001b[0;34m(\u001b[0m\u001b[0;34m'rmdir $data_dir'\u001b[0m\u001b[0;34m)\u001b[0m\u001b[0;34m\u001b[0m\u001b[0;34m\u001b[0m\u001b[0m\n",
      "\u001b[0;32m/home/ec2-user/anaconda3/envs/python3/lib/python3.6/site-packages/ipykernel/zmqshell.py\u001b[0m in \u001b[0;36msystem_piped\u001b[0;34m(self, cmd)\u001b[0m\n\u001b[1;32m    645\u001b[0m                 \u001b[0mself\u001b[0m\u001b[0;34m.\u001b[0m\u001b[0muser_ns\u001b[0m\u001b[0;34m[\u001b[0m\u001b[0;34m'_exit_code'\u001b[0m\u001b[0;34m]\u001b[0m \u001b[0;34m=\u001b[0m \u001b[0msystem\u001b[0m\u001b[0;34m(\u001b[0m\u001b[0mcmd\u001b[0m\u001b[0;34m)\u001b[0m\u001b[0;34m\u001b[0m\u001b[0;34m\u001b[0m\u001b[0m\n\u001b[1;32m    646\u001b[0m         \u001b[0;32melse\u001b[0m\u001b[0;34m:\u001b[0m\u001b[0;34m\u001b[0m\u001b[0;34m\u001b[0m\u001b[0m\n\u001b[0;32m--> 647\u001b[0;31m             \u001b[0mself\u001b[0m\u001b[0;34m.\u001b[0m\u001b[0muser_ns\u001b[0m\u001b[0;34m[\u001b[0m\u001b[0;34m'_exit_code'\u001b[0m\u001b[0;34m]\u001b[0m \u001b[0;34m=\u001b[0m \u001b[0msystem\u001b[0m\u001b[0;34m(\u001b[0m\u001b[0mself\u001b[0m\u001b[0;34m.\u001b[0m\u001b[0mvar_expand\u001b[0m\u001b[0;34m(\u001b[0m\u001b[0mcmd\u001b[0m\u001b[0;34m,\u001b[0m \u001b[0mdepth\u001b[0m\u001b[0;34m=\u001b[0m\u001b[0;36m1\u001b[0m\u001b[0;34m)\u001b[0m\u001b[0;34m)\u001b[0m\u001b[0;34m\u001b[0m\u001b[0;34m\u001b[0m\u001b[0m\n\u001b[0m\u001b[1;32m    648\u001b[0m \u001b[0;34m\u001b[0m\u001b[0m\n\u001b[1;32m    649\u001b[0m     \u001b[0;31m# Ensure new system_piped implementation is used\u001b[0m\u001b[0;34m\u001b[0m\u001b[0;34m\u001b[0m\u001b[0;34m\u001b[0m\u001b[0m\n",
      "\u001b[0;32m/home/ec2-user/anaconda3/envs/python3/lib/python3.6/site-packages/IPython/utils/_process_posix.py\u001b[0m in \u001b[0;36msystem\u001b[0;34m(self, cmd)\u001b[0m\n\u001b[1;32m    155\u001b[0m                 \u001b[0mchild\u001b[0m \u001b[0;34m=\u001b[0m \u001b[0mpexpect\u001b[0m\u001b[0;34m.\u001b[0m\u001b[0mspawnb\u001b[0m\u001b[0;34m(\u001b[0m\u001b[0mself\u001b[0m\u001b[0;34m.\u001b[0m\u001b[0msh\u001b[0m\u001b[0;34m,\u001b[0m \u001b[0margs\u001b[0m\u001b[0;34m=\u001b[0m\u001b[0;34m[\u001b[0m\u001b[0;34m'-c'\u001b[0m\u001b[0;34m,\u001b[0m \u001b[0mcmd\u001b[0m\u001b[0;34m]\u001b[0m\u001b[0;34m)\u001b[0m \u001b[0;31m# Pexpect-U\u001b[0m\u001b[0;34m\u001b[0m\u001b[0;34m\u001b[0m\u001b[0m\n\u001b[1;32m    156\u001b[0m             \u001b[0;32melse\u001b[0m\u001b[0;34m:\u001b[0m\u001b[0;34m\u001b[0m\u001b[0;34m\u001b[0m\u001b[0m\n\u001b[0;32m--> 157\u001b[0;31m                 \u001b[0mchild\u001b[0m \u001b[0;34m=\u001b[0m \u001b[0mpexpect\u001b[0m\u001b[0;34m.\u001b[0m\u001b[0mspawn\u001b[0m\u001b[0;34m(\u001b[0m\u001b[0mself\u001b[0m\u001b[0;34m.\u001b[0m\u001b[0msh\u001b[0m\u001b[0;34m,\u001b[0m \u001b[0margs\u001b[0m\u001b[0;34m=\u001b[0m\u001b[0;34m[\u001b[0m\u001b[0;34m'-c'\u001b[0m\u001b[0;34m,\u001b[0m \u001b[0mcmd\u001b[0m\u001b[0;34m]\u001b[0m\u001b[0;34m)\u001b[0m  \u001b[0;31m# Vanilla Pexpect\u001b[0m\u001b[0;34m\u001b[0m\u001b[0;34m\u001b[0m\u001b[0m\n\u001b[0m\u001b[1;32m    158\u001b[0m             \u001b[0mflush\u001b[0m \u001b[0;34m=\u001b[0m \u001b[0msys\u001b[0m\u001b[0;34m.\u001b[0m\u001b[0mstdout\u001b[0m\u001b[0;34m.\u001b[0m\u001b[0mflush\u001b[0m\u001b[0;34m\u001b[0m\u001b[0;34m\u001b[0m\u001b[0m\n\u001b[1;32m    159\u001b[0m             \u001b[0;32mwhile\u001b[0m \u001b[0;32mTrue\u001b[0m\u001b[0;34m:\u001b[0m\u001b[0;34m\u001b[0m\u001b[0;34m\u001b[0m\u001b[0m\n",
      "\u001b[0;32m/home/ec2-user/anaconda3/envs/python3/lib/python3.6/site-packages/pexpect/pty_spawn.py\u001b[0m in \u001b[0;36m__init__\u001b[0;34m(self, command, args, timeout, maxread, searchwindowsize, logfile, cwd, env, ignore_sighup, echo, preexec_fn, encoding, codec_errors, dimensions, use_poll)\u001b[0m\n\u001b[1;32m    203\u001b[0m             \u001b[0mself\u001b[0m\u001b[0;34m.\u001b[0m\u001b[0mname\u001b[0m \u001b[0;34m=\u001b[0m \u001b[0;34m'<pexpect factory incomplete>'\u001b[0m\u001b[0;34m\u001b[0m\u001b[0;34m\u001b[0m\u001b[0m\n\u001b[1;32m    204\u001b[0m         \u001b[0;32melse\u001b[0m\u001b[0;34m:\u001b[0m\u001b[0;34m\u001b[0m\u001b[0;34m\u001b[0m\u001b[0m\n\u001b[0;32m--> 205\u001b[0;31m             \u001b[0mself\u001b[0m\u001b[0;34m.\u001b[0m\u001b[0m_spawn\u001b[0m\u001b[0;34m(\u001b[0m\u001b[0mcommand\u001b[0m\u001b[0;34m,\u001b[0m \u001b[0margs\u001b[0m\u001b[0;34m,\u001b[0m \u001b[0mpreexec_fn\u001b[0m\u001b[0;34m,\u001b[0m \u001b[0mdimensions\u001b[0m\u001b[0;34m)\u001b[0m\u001b[0;34m\u001b[0m\u001b[0;34m\u001b[0m\u001b[0m\n\u001b[0m\u001b[1;32m    206\u001b[0m         \u001b[0mself\u001b[0m\u001b[0;34m.\u001b[0m\u001b[0muse_poll\u001b[0m \u001b[0;34m=\u001b[0m \u001b[0muse_poll\u001b[0m\u001b[0;34m\u001b[0m\u001b[0;34m\u001b[0m\u001b[0m\n\u001b[1;32m    207\u001b[0m \u001b[0;34m\u001b[0m\u001b[0m\n",
      "\u001b[0;32m/home/ec2-user/anaconda3/envs/python3/lib/python3.6/site-packages/pexpect/pty_spawn.py\u001b[0m in \u001b[0;36m_spawn\u001b[0;34m(self, command, args, preexec_fn, dimensions)\u001b[0m\n\u001b[1;32m    302\u001b[0m \u001b[0;34m\u001b[0m\u001b[0m\n\u001b[1;32m    303\u001b[0m         self.ptyproc = self._spawnpty(self.args, env=self.env,\n\u001b[0;32m--> 304\u001b[0;31m                                      cwd=self.cwd, **kwargs)\n\u001b[0m\u001b[1;32m    305\u001b[0m \u001b[0;34m\u001b[0m\u001b[0m\n\u001b[1;32m    306\u001b[0m         \u001b[0mself\u001b[0m\u001b[0;34m.\u001b[0m\u001b[0mpid\u001b[0m \u001b[0;34m=\u001b[0m \u001b[0mself\u001b[0m\u001b[0;34m.\u001b[0m\u001b[0mptyproc\u001b[0m\u001b[0;34m.\u001b[0m\u001b[0mpid\u001b[0m\u001b[0;34m\u001b[0m\u001b[0;34m\u001b[0m\u001b[0m\n",
      "\u001b[0;32m/home/ec2-user/anaconda3/envs/python3/lib/python3.6/site-packages/pexpect/pty_spawn.py\u001b[0m in \u001b[0;36m_spawnpty\u001b[0;34m(self, args, **kwargs)\u001b[0m\n\u001b[1;32m    313\u001b[0m     \u001b[0;32mdef\u001b[0m \u001b[0m_spawnpty\u001b[0m\u001b[0;34m(\u001b[0m\u001b[0mself\u001b[0m\u001b[0;34m,\u001b[0m \u001b[0margs\u001b[0m\u001b[0;34m,\u001b[0m \u001b[0;34m**\u001b[0m\u001b[0mkwargs\u001b[0m\u001b[0;34m)\u001b[0m\u001b[0;34m:\u001b[0m\u001b[0;34m\u001b[0m\u001b[0;34m\u001b[0m\u001b[0m\n\u001b[1;32m    314\u001b[0m         \u001b[0;34m'''Spawn a pty and return an instance of PtyProcess.'''\u001b[0m\u001b[0;34m\u001b[0m\u001b[0;34m\u001b[0m\u001b[0m\n\u001b[0;32m--> 315\u001b[0;31m         \u001b[0;32mreturn\u001b[0m \u001b[0mptyprocess\u001b[0m\u001b[0;34m.\u001b[0m\u001b[0mPtyProcess\u001b[0m\u001b[0;34m.\u001b[0m\u001b[0mspawn\u001b[0m\u001b[0;34m(\u001b[0m\u001b[0margs\u001b[0m\u001b[0;34m,\u001b[0m \u001b[0;34m**\u001b[0m\u001b[0mkwargs\u001b[0m\u001b[0;34m)\u001b[0m\u001b[0;34m\u001b[0m\u001b[0;34m\u001b[0m\u001b[0m\n\u001b[0m\u001b[1;32m    316\u001b[0m \u001b[0;34m\u001b[0m\u001b[0m\n\u001b[1;32m    317\u001b[0m     \u001b[0;32mdef\u001b[0m \u001b[0mclose\u001b[0m\u001b[0;34m(\u001b[0m\u001b[0mself\u001b[0m\u001b[0;34m,\u001b[0m \u001b[0mforce\u001b[0m\u001b[0;34m=\u001b[0m\u001b[0;32mTrue\u001b[0m\u001b[0;34m)\u001b[0m\u001b[0;34m:\u001b[0m\u001b[0;34m\u001b[0m\u001b[0;34m\u001b[0m\u001b[0m\n",
      "\u001b[0;32m/home/ec2-user/anaconda3/envs/python3/lib/python3.6/site-packages/ptyprocess/ptyprocess.py\u001b[0m in \u001b[0;36mspawn\u001b[0;34m(cls, argv, cwd, env, echo, preexec_fn, dimensions, pass_fds)\u001b[0m\n\u001b[1;32m    228\u001b[0m \u001b[0;34m\u001b[0m\u001b[0m\n\u001b[1;32m    229\u001b[0m         \u001b[0;32mif\u001b[0m \u001b[0muse_native_pty_fork\u001b[0m\u001b[0;34m:\u001b[0m\u001b[0;34m\u001b[0m\u001b[0;34m\u001b[0m\u001b[0m\n\u001b[0;32m--> 230\u001b[0;31m             \u001b[0mpid\u001b[0m\u001b[0;34m,\u001b[0m \u001b[0mfd\u001b[0m \u001b[0;34m=\u001b[0m \u001b[0mpty\u001b[0m\u001b[0;34m.\u001b[0m\u001b[0mfork\u001b[0m\u001b[0;34m(\u001b[0m\u001b[0;34m)\u001b[0m\u001b[0;34m\u001b[0m\u001b[0;34m\u001b[0m\u001b[0m\n\u001b[0m\u001b[1;32m    231\u001b[0m         \u001b[0;32melse\u001b[0m\u001b[0;34m:\u001b[0m\u001b[0;34m\u001b[0m\u001b[0;34m\u001b[0m\u001b[0m\n\u001b[1;32m    232\u001b[0m             \u001b[0;31m# Use internal fork_pty, for Solaris\u001b[0m\u001b[0;34m\u001b[0m\u001b[0;34m\u001b[0m\u001b[0;34m\u001b[0m\u001b[0m\n",
      "\u001b[0;32m/home/ec2-user/anaconda3/envs/python3/lib/python3.6/pty.py\u001b[0m in \u001b[0;36mfork\u001b[0;34m()\u001b[0m\n\u001b[1;32m     95\u001b[0m \u001b[0;34m\u001b[0m\u001b[0m\n\u001b[1;32m     96\u001b[0m     \u001b[0mmaster_fd\u001b[0m\u001b[0;34m,\u001b[0m \u001b[0mslave_fd\u001b[0m \u001b[0;34m=\u001b[0m \u001b[0mopenpty\u001b[0m\u001b[0;34m(\u001b[0m\u001b[0;34m)\u001b[0m\u001b[0;34m\u001b[0m\u001b[0;34m\u001b[0m\u001b[0m\n\u001b[0;32m---> 97\u001b[0;31m     \u001b[0mpid\u001b[0m \u001b[0;34m=\u001b[0m \u001b[0mos\u001b[0m\u001b[0;34m.\u001b[0m\u001b[0mfork\u001b[0m\u001b[0;34m(\u001b[0m\u001b[0;34m)\u001b[0m\u001b[0;34m\u001b[0m\u001b[0;34m\u001b[0m\u001b[0m\n\u001b[0m\u001b[1;32m     98\u001b[0m     \u001b[0;32mif\u001b[0m \u001b[0mpid\u001b[0m \u001b[0;34m==\u001b[0m \u001b[0mCHILD\u001b[0m\u001b[0;34m:\u001b[0m\u001b[0;34m\u001b[0m\u001b[0;34m\u001b[0m\u001b[0m\n\u001b[1;32m     99\u001b[0m         \u001b[0;31m# Establish a new session.\u001b[0m\u001b[0;34m\u001b[0m\u001b[0;34m\u001b[0m\u001b[0;34m\u001b[0m\u001b[0m\n",
      "\u001b[0;31mOSError\u001b[0m: [Errno 12] Cannot allocate memory"
     ]
    }
   ],
   "source": [
    "# First we will remove all of the files contained in the data_dir directory\n",
    "!rm $data_dir/*\n",
    "\n",
    "# And then we delete the directory itself\n",
    "!rmdir $data_dir\n",
    "\n",
    "# Similarly we remove the files in the cache_dir directory and the directory itself\n",
    "!rm $cache_dir/*\n",
    "!rmdir $cache_dir"
   ]
  },
  {
   "cell_type": "code",
   "execution_count": null,
   "metadata": {},
   "outputs": [],
   "source": []
  }
 ],
 "metadata": {
  "kernelspec": {
   "display_name": "conda_python3",
   "language": "python",
   "name": "conda_python3"
  },
  "language_info": {
   "codemirror_mode": {
    "name": "ipython",
    "version": 3
   },
   "file_extension": ".py",
   "mimetype": "text/x-python",
   "name": "python",
   "nbconvert_exporter": "python",
   "pygments_lexer": "ipython3",
   "version": "3.6.13"
  }
 },
 "nbformat": 4,
 "nbformat_minor": 2
}
